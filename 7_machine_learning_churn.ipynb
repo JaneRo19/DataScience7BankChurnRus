{
 "cells": [
  {
   "cell_type": "markdown",
   "metadata": {
    "toc": true
   },
   "source": [
    "<h1>Содержание<span class=\"tocSkip\"></span></h1>\n",
    "<div class=\"toc\"><ul class=\"toc-item\"><li><ul class=\"toc-item\"><li><span><a href=\"#Комментарий-студента-\" data-toc-modified-id=\"Комментарий-студента--0.1\"><span class=\"toc-item-num\">0.1&nbsp;&nbsp;</span>Комментарий студента </a></span></li><li><span><a href=\"#Комментарий-студента-\" data-toc-modified-id=\"Комментарий-студента--0.2\"><span class=\"toc-item-num\">0.2&nbsp;&nbsp;</span>Комментарий студента </a></span></li></ul></li><li><span><a href=\"#Подготовка-данных\" data-toc-modified-id=\"Подготовка-данных-1\"><span class=\"toc-item-num\">1&nbsp;&nbsp;</span>Подготовка данных</a></span><ul class=\"toc-item\"><li><span><a href=\"#Обзор-данных\" data-toc-modified-id=\"Обзор-данных-1.1\"><span class=\"toc-item-num\">1.1&nbsp;&nbsp;</span>Обзор данных</a></span></li><li><span><a href=\"#Комментарий-студента-\" data-toc-modified-id=\"Комментарий-студента--1.2\"><span class=\"toc-item-num\">1.2&nbsp;&nbsp;</span>Комментарий студента </a></span></li><li><span><a href=\"#Подготовка-данных-для-дальнейшей-работы\" data-toc-modified-id=\"Подготовка-данных-для-дальнейшей-работы-1.3\"><span class=\"toc-item-num\">1.3&nbsp;&nbsp;</span>Подготовка данных для дальнейшей работы</a></span></li><li><span><a href=\"#Исследовательский-анализ-данных\" data-toc-modified-id=\"Исследовательский-анализ-данных-1.4\"><span class=\"toc-item-num\">1.4&nbsp;&nbsp;</span>Исследовательский анализ данных</a></span></li><li><span><a href=\"#Вывод\" data-toc-modified-id=\"Вывод-1.5\"><span class=\"toc-item-num\">1.5&nbsp;&nbsp;</span>Вывод</a></span></li></ul></li><li><span><a href=\"#Исследование-задачи\" data-toc-modified-id=\"Исследование-задачи-2\"><span class=\"toc-item-num\">2&nbsp;&nbsp;</span>Исследование задачи</a></span><ul class=\"toc-item\"><li><span><a href=\"#Комментарий-студента-\" data-toc-modified-id=\"Комментарий-студента--2.1\"><span class=\"toc-item-num\">2.1&nbsp;&nbsp;</span>Комментарий студента </a></span></li><li><span><a href=\"#Комментарий-студента-\" data-toc-modified-id=\"Комментарий-студента--2.2\"><span class=\"toc-item-num\">2.2&nbsp;&nbsp;</span>Комментарий студента </a></span></li><li><span><a href=\"#Решающее-дерево\" data-toc-modified-id=\"Решающее-дерево-2.3\"><span class=\"toc-item-num\">2.3&nbsp;&nbsp;</span>Решающее дерево</a></span></li><li><span><a href=\"#Случайный-лес\" data-toc-modified-id=\"Случайный-лес-2.4\"><span class=\"toc-item-num\">2.4&nbsp;&nbsp;</span>Случайный лес</a></span></li><li><span><a href=\"#Логическая-регрессия\" data-toc-modified-id=\"Логическая-регрессия-2.5\"><span class=\"toc-item-num\">2.5&nbsp;&nbsp;</span>Логическая регрессия</a></span></li><li><span><a href=\"#Вывод\" data-toc-modified-id=\"Вывод-2.6\"><span class=\"toc-item-num\">2.6&nbsp;&nbsp;</span>Вывод</a></span></li></ul></li><li><span><a href=\"#Борьба-с-дисбалансом\" data-toc-modified-id=\"Борьба-с-дисбалансом-3\"><span class=\"toc-item-num\">3&nbsp;&nbsp;</span>Борьба с дисбалансом</a></span><ul class=\"toc-item\"><li><span><a href=\"#Взвешивание-классов\" data-toc-modified-id=\"Взвешивание-классов-3.1\"><span class=\"toc-item-num\">3.1&nbsp;&nbsp;</span>Взвешивание классов</a></span></li><li><span><a href=\"#Увеличение-выборки-положительного-класса-с-перемешиванием-объектов\" data-toc-modified-id=\"Увеличение-выборки-положительного-класса-с-перемешиванием-объектов-3.2\"><span class=\"toc-item-num\">3.2&nbsp;&nbsp;</span>Увеличение выборки положительного класса с перемешиванием объектов</a></span></li><li><span><a href=\"#Уменьшение-выборки-отрицательного-класса-с-перемешиванием-объектов\" data-toc-modified-id=\"Уменьшение-выборки-отрицательного-класса-с-перемешиванием-объектов-3.3\"><span class=\"toc-item-num\">3.3&nbsp;&nbsp;</span>Уменьшение выборки отрицательного класса с перемешиванием объектов</a></span></li><li><span><a href=\"#Вывод\" data-toc-modified-id=\"Вывод-3.4\"><span class=\"toc-item-num\">3.4&nbsp;&nbsp;</span>Вывод</a></span></li></ul></li><li><span><a href=\"#Тестирование-модели\" data-toc-modified-id=\"Тестирование-модели-4\"><span class=\"toc-item-num\">4&nbsp;&nbsp;</span>Тестирование модели</a></span><ul class=\"toc-item\"><li><span><a href=\"#Случайный-лес-увеличение-выборки-положительного-класса\" data-toc-modified-id=\"Случайный-лес-увеличение-выборки-положительного-класса-4.1\"><span class=\"toc-item-num\">4.1&nbsp;&nbsp;</span>Случайный лес увеличение выборки положительного класса</a></span></li><li><span><a href=\"#Случайный-лес-уменьшение-выборки-отрицательного-класса\" data-toc-modified-id=\"Случайный-лес-уменьшение-выборки-отрицательного-класса-4.2\"><span class=\"toc-item-num\">4.2&nbsp;&nbsp;</span>Случайный лес уменьшение выборки отрицательного класса</a></span></li><li><span><a href=\"#Решающее-дерево-уменьшение-выборки-отрицательного-класса\" data-toc-modified-id=\"Решающее-дерево-уменьшение-выборки-отрицательного-класса-4.3\"><span class=\"toc-item-num\">4.3&nbsp;&nbsp;</span>Решающее дерево уменьшение выборки отрицательного класса</a></span></li><li><span><a href=\"#Вывод\" data-toc-modified-id=\"Вывод-4.4\"><span class=\"toc-item-num\">4.4&nbsp;&nbsp;</span>Вывод</a></span></li><li><span><a href=\"#Комментарий-студента-\" data-toc-modified-id=\"Комментарий-студента--4.5\"><span class=\"toc-item-num\">4.5&nbsp;&nbsp;</span>Комментарий студента </a></span></li></ul></li><li><span><a href=\"#Общий-вывод\" data-toc-modified-id=\"Общий-вывод-5\"><span class=\"toc-item-num\">5&nbsp;&nbsp;</span>Общий вывод</a></span></li><li><span><a href=\"#Чек-лист-готовности-проекта\" data-toc-modified-id=\"Чек-лист-готовности-проекта-6\"><span class=\"toc-item-num\">6&nbsp;&nbsp;</span>Чек-лист готовности проекта</a></span></li></ul></div>"
   ]
  },
  {
   "cell_type": "markdown",
   "metadata": {},
   "source": [
    "# Отток клиентов"
   ]
  },
  {
   "cell_type": "markdown",
   "metadata": {},
   "source": [
    "Из «Бета-Банка» стали уходить клиенты. Каждый месяц. Немного, но заметно. Банковские маркетологи посчитали: сохранять текущих клиентов дешевле, чем привлекать новых.\n",
    "\n",
    "Нужно спрогнозировать, уйдёт клиент из банка в ближайшее время или нет. Вам предоставлены исторические данные о поведении клиентов и расторжении договоров с банком. \n",
    "\n",
    "Постройте модель с предельно большим значением *F1*-меры. Чтобы сдать проект успешно, нужно довести метрику до 0.59. Проверьте *F1*-меру на тестовой выборке самостоятельно.\n",
    "\n",
    "Дополнительно измеряйте *AUC-ROC*, сравнивайте её значение с *F1*-мерой.\n",
    "\n",
    "Источник данных: [https://www.kaggle.com/barelydedicated/bank-customer-churn-modeling](https://www.kaggle.com/barelydedicated/bank-customer-churn-modeling)"
   ]
  },
  {
   "cell_type": "markdown",
   "metadata": {},
   "source": [
    "## Подготовка данных"
   ]
  },
  {
   "cell_type": "markdown",
   "metadata": {},
   "source": [
    "### Обзор данных"
   ]
  },
  {
   "cell_type": "markdown",
   "metadata": {},
   "source": [
    "В данном разделе нам необходимо:\n",
    "\n",
    "1) произвести обзор данных\n",
    "\n",
    "2) исправить имеющиеся ошибки, пропуски и т.д.\n",
    "\n",
    "3) провести исследовательский анализ данных."
   ]
  },
  {
   "cell_type": "code",
   "execution_count": 1,
   "metadata": {
    "scrolled": true
   },
   "outputs": [],
   "source": [
    "# импортируем необходимые бибилиотеки\n",
    "import pandas as pd\n",
    "import numpy as np\n",
    "import matplotlib.pyplot as plt\n",
    "import seaborn as sns\n",
    "\n",
    "from sklearn.preprocessing import StandardScaler\n",
    "from sklearn.model_selection import train_test_split\n",
    "from sklearn.tree import DecisionTreeClassifier\n",
    "from sklearn.linear_model import LogisticRegression\n",
    "from sklearn.ensemble import RandomForestClassifier, RandomForestRegressor\n",
    "from sklearn.metrics import f1_score, roc_auc_score\n",
    "from sklearn.utils import shuffle"
   ]
  },
  {
   "cell_type": "code",
   "execution_count": 2,
   "metadata": {
    "scrolled": false
   },
   "outputs": [
    {
     "data": {
      "text/html": [
       "<div>\n",
       "<style scoped>\n",
       "    .dataframe tbody tr th:only-of-type {\n",
       "        vertical-align: middle;\n",
       "    }\n",
       "\n",
       "    .dataframe tbody tr th {\n",
       "        vertical-align: top;\n",
       "    }\n",
       "\n",
       "    .dataframe thead th {\n",
       "        text-align: right;\n",
       "    }\n",
       "</style>\n",
       "<table border=\"1\" class=\"dataframe\">\n",
       "  <thead>\n",
       "    <tr style=\"text-align: right;\">\n",
       "      <th></th>\n",
       "      <th>RowNumber</th>\n",
       "      <th>CustomerId</th>\n",
       "      <th>Surname</th>\n",
       "      <th>CreditScore</th>\n",
       "      <th>Geography</th>\n",
       "      <th>Gender</th>\n",
       "      <th>Age</th>\n",
       "      <th>Tenure</th>\n",
       "      <th>Balance</th>\n",
       "      <th>NumOfProducts</th>\n",
       "      <th>HasCrCard</th>\n",
       "      <th>IsActiveMember</th>\n",
       "      <th>EstimatedSalary</th>\n",
       "      <th>Exited</th>\n",
       "    </tr>\n",
       "  </thead>\n",
       "  <tbody>\n",
       "    <tr>\n",
       "      <th>0</th>\n",
       "      <td>1</td>\n",
       "      <td>15634602</td>\n",
       "      <td>Hargrave</td>\n",
       "      <td>619</td>\n",
       "      <td>France</td>\n",
       "      <td>Female</td>\n",
       "      <td>42</td>\n",
       "      <td>2.0</td>\n",
       "      <td>0.00</td>\n",
       "      <td>1</td>\n",
       "      <td>1</td>\n",
       "      <td>1</td>\n",
       "      <td>101348.88</td>\n",
       "      <td>1</td>\n",
       "    </tr>\n",
       "    <tr>\n",
       "      <th>1</th>\n",
       "      <td>2</td>\n",
       "      <td>15647311</td>\n",
       "      <td>Hill</td>\n",
       "      <td>608</td>\n",
       "      <td>Spain</td>\n",
       "      <td>Female</td>\n",
       "      <td>41</td>\n",
       "      <td>1.0</td>\n",
       "      <td>83807.86</td>\n",
       "      <td>1</td>\n",
       "      <td>0</td>\n",
       "      <td>1</td>\n",
       "      <td>112542.58</td>\n",
       "      <td>0</td>\n",
       "    </tr>\n",
       "    <tr>\n",
       "      <th>2</th>\n",
       "      <td>3</td>\n",
       "      <td>15619304</td>\n",
       "      <td>Onio</td>\n",
       "      <td>502</td>\n",
       "      <td>France</td>\n",
       "      <td>Female</td>\n",
       "      <td>42</td>\n",
       "      <td>8.0</td>\n",
       "      <td>159660.80</td>\n",
       "      <td>3</td>\n",
       "      <td>1</td>\n",
       "      <td>0</td>\n",
       "      <td>113931.57</td>\n",
       "      <td>1</td>\n",
       "    </tr>\n",
       "    <tr>\n",
       "      <th>3</th>\n",
       "      <td>4</td>\n",
       "      <td>15701354</td>\n",
       "      <td>Boni</td>\n",
       "      <td>699</td>\n",
       "      <td>France</td>\n",
       "      <td>Female</td>\n",
       "      <td>39</td>\n",
       "      <td>1.0</td>\n",
       "      <td>0.00</td>\n",
       "      <td>2</td>\n",
       "      <td>0</td>\n",
       "      <td>0</td>\n",
       "      <td>93826.63</td>\n",
       "      <td>0</td>\n",
       "    </tr>\n",
       "    <tr>\n",
       "      <th>4</th>\n",
       "      <td>5</td>\n",
       "      <td>15737888</td>\n",
       "      <td>Mitchell</td>\n",
       "      <td>850</td>\n",
       "      <td>Spain</td>\n",
       "      <td>Female</td>\n",
       "      <td>43</td>\n",
       "      <td>2.0</td>\n",
       "      <td>125510.82</td>\n",
       "      <td>1</td>\n",
       "      <td>1</td>\n",
       "      <td>1</td>\n",
       "      <td>79084.10</td>\n",
       "      <td>0</td>\n",
       "    </tr>\n",
       "    <tr>\n",
       "      <th>5</th>\n",
       "      <td>6</td>\n",
       "      <td>15574012</td>\n",
       "      <td>Chu</td>\n",
       "      <td>645</td>\n",
       "      <td>Spain</td>\n",
       "      <td>Male</td>\n",
       "      <td>44</td>\n",
       "      <td>8.0</td>\n",
       "      <td>113755.78</td>\n",
       "      <td>2</td>\n",
       "      <td>1</td>\n",
       "      <td>0</td>\n",
       "      <td>149756.71</td>\n",
       "      <td>1</td>\n",
       "    </tr>\n",
       "    <tr>\n",
       "      <th>6</th>\n",
       "      <td>7</td>\n",
       "      <td>15592531</td>\n",
       "      <td>Bartlett</td>\n",
       "      <td>822</td>\n",
       "      <td>France</td>\n",
       "      <td>Male</td>\n",
       "      <td>50</td>\n",
       "      <td>7.0</td>\n",
       "      <td>0.00</td>\n",
       "      <td>2</td>\n",
       "      <td>1</td>\n",
       "      <td>1</td>\n",
       "      <td>10062.80</td>\n",
       "      <td>0</td>\n",
       "    </tr>\n",
       "    <tr>\n",
       "      <th>7</th>\n",
       "      <td>8</td>\n",
       "      <td>15656148</td>\n",
       "      <td>Obinna</td>\n",
       "      <td>376</td>\n",
       "      <td>Germany</td>\n",
       "      <td>Female</td>\n",
       "      <td>29</td>\n",
       "      <td>4.0</td>\n",
       "      <td>115046.74</td>\n",
       "      <td>4</td>\n",
       "      <td>1</td>\n",
       "      <td>0</td>\n",
       "      <td>119346.88</td>\n",
       "      <td>1</td>\n",
       "    </tr>\n",
       "    <tr>\n",
       "      <th>8</th>\n",
       "      <td>9</td>\n",
       "      <td>15792365</td>\n",
       "      <td>He</td>\n",
       "      <td>501</td>\n",
       "      <td>France</td>\n",
       "      <td>Male</td>\n",
       "      <td>44</td>\n",
       "      <td>4.0</td>\n",
       "      <td>142051.07</td>\n",
       "      <td>2</td>\n",
       "      <td>0</td>\n",
       "      <td>1</td>\n",
       "      <td>74940.50</td>\n",
       "      <td>0</td>\n",
       "    </tr>\n",
       "    <tr>\n",
       "      <th>9</th>\n",
       "      <td>10</td>\n",
       "      <td>15592389</td>\n",
       "      <td>H?</td>\n",
       "      <td>684</td>\n",
       "      <td>France</td>\n",
       "      <td>Male</td>\n",
       "      <td>27</td>\n",
       "      <td>2.0</td>\n",
       "      <td>134603.88</td>\n",
       "      <td>1</td>\n",
       "      <td>1</td>\n",
       "      <td>1</td>\n",
       "      <td>71725.73</td>\n",
       "      <td>0</td>\n",
       "    </tr>\n",
       "  </tbody>\n",
       "</table>\n",
       "</div>"
      ],
      "text/plain": [
       "   RowNumber  CustomerId   Surname  CreditScore Geography  Gender  Age  \\\n",
       "0          1    15634602  Hargrave          619    France  Female   42   \n",
       "1          2    15647311      Hill          608     Spain  Female   41   \n",
       "2          3    15619304      Onio          502    France  Female   42   \n",
       "3          4    15701354      Boni          699    France  Female   39   \n",
       "4          5    15737888  Mitchell          850     Spain  Female   43   \n",
       "5          6    15574012       Chu          645     Spain    Male   44   \n",
       "6          7    15592531  Bartlett          822    France    Male   50   \n",
       "7          8    15656148    Obinna          376   Germany  Female   29   \n",
       "8          9    15792365        He          501    France    Male   44   \n",
       "9         10    15592389        H?          684    France    Male   27   \n",
       "\n",
       "   Tenure    Balance  NumOfProducts  HasCrCard  IsActiveMember  \\\n",
       "0     2.0       0.00              1          1               1   \n",
       "1     1.0   83807.86              1          0               1   \n",
       "2     8.0  159660.80              3          1               0   \n",
       "3     1.0       0.00              2          0               0   \n",
       "4     2.0  125510.82              1          1               1   \n",
       "5     8.0  113755.78              2          1               0   \n",
       "6     7.0       0.00              2          1               1   \n",
       "7     4.0  115046.74              4          1               0   \n",
       "8     4.0  142051.07              2          0               1   \n",
       "9     2.0  134603.88              1          1               1   \n",
       "\n",
       "   EstimatedSalary  Exited  \n",
       "0        101348.88       1  \n",
       "1        112542.58       0  \n",
       "2        113931.57       1  \n",
       "3         93826.63       0  \n",
       "4         79084.10       0  \n",
       "5        149756.71       1  \n",
       "6         10062.80       0  \n",
       "7        119346.88       1  \n",
       "8         74940.50       0  \n",
       "9         71725.73       0  "
      ]
     },
     "execution_count": 2,
     "metadata": {},
     "output_type": "execute_result"
    }
   ],
   "source": [
    "# прочитаем файл\n",
    "data = pd.read_csv('....csv')\n",
    "data.head(10)"
   ]
  },
  {
   "cell_type": "code",
   "execution_count": 3,
   "metadata": {},
   "outputs": [
    {
     "name": "stdout",
     "output_type": "stream",
     "text": [
      "<class 'pandas.core.frame.DataFrame'>\n",
      "RangeIndex: 10000 entries, 0 to 9999\n",
      "Data columns (total 14 columns):\n",
      " #   Column           Non-Null Count  Dtype  \n",
      "---  ------           --------------  -----  \n",
      " 0   RowNumber        10000 non-null  int64  \n",
      " 1   CustomerId       10000 non-null  int64  \n",
      " 2   Surname          10000 non-null  object \n",
      " 3   CreditScore      10000 non-null  int64  \n",
      " 4   Geography        10000 non-null  object \n",
      " 5   Gender           10000 non-null  object \n",
      " 6   Age              10000 non-null  int64  \n",
      " 7   Tenure           9091 non-null   float64\n",
      " 8   Balance          10000 non-null  float64\n",
      " 9   NumOfProducts    10000 non-null  int64  \n",
      " 10  HasCrCard        10000 non-null  int64  \n",
      " 11  IsActiveMember   10000 non-null  int64  \n",
      " 12  EstimatedSalary  10000 non-null  float64\n",
      " 13  Exited           10000 non-null  int64  \n",
      "dtypes: float64(3), int64(8), object(3)\n",
      "memory usage: 1.1+ MB\n"
     ]
    }
   ],
   "source": [
    "# выведем общую информацию по датасету\n",
    "data.info()"
   ]
  },
  {
   "cell_type": "code",
   "execution_count": 4,
   "metadata": {
    "scrolled": true
   },
   "outputs": [
    {
     "name": "stdout",
     "output_type": "stream",
     "text": [
      "Index(['RowNumber', 'CustomerId', 'Surname', 'CreditScore', 'Geography',\n",
      "       'Gender', 'Age', 'Tenure', 'Balance', 'NumOfProducts', 'HasCrCard',\n",
      "       'IsActiveMember', 'EstimatedSalary', 'Exited'],\n",
      "      dtype='object')\n"
     ]
    }
   ],
   "source": [
    "# выведем название колонок\n",
    "data.columns"
   ]
  },
  {
   "cell_type": "markdown",
   "metadata": {},
   "source": [
    "Первое, что бросилось в глаза при первичном анализе представленного датасета - это неудобный стиль в названии колонок, привычнее использовать название столбцов, указанных в змеином_регистре, мы его исправим, а так же отличаются регистры в самих столбцах. Для избежания наличия неявных дубликатов, приведем все строчные данные к нижнему регистру. "
   ]
  },
  {
   "cell_type": "code",
   "execution_count": 5,
   "metadata": {},
   "outputs": [],
   "source": [
    "# приведение названий столбцов к \"змеиному_регистру\"\n",
    "data.rename(columns={\n",
    "    'RowNumber': 'row_number', \n",
    "    'CustomerId': 'customer_id',\n",
    "    'Surname': 'surname',\n",
    "    'CreditScore': 'credit_score',\n",
    "    'Geography': 'geography',\n",
    "    'Gender': 'gender',\n",
    "    'Age': 'age',\n",
    "    'Tenure': 'tenure',\n",
    "    'Balance': 'balance',\n",
    "    'NumOfProducts': 'num_of_products',\n",
    "    'HasCrCard': 'has_cr_card',\n",
    "    'IsActiveMember': 'is_active_member',\n",
    "    'EstimatedSalary': 'estimated_salary', \n",
    "    'Exited': 'exited'}, inplace=True)"
   ]
  },
  {
   "cell_type": "code",
   "execution_count": 6,
   "metadata": {},
   "outputs": [
    {
     "name": "stdout",
     "output_type": "stream",
     "text": [
      "Index(['row_number', 'customer_id', 'surname', 'credit_score', 'geography',\n",
      "       'gender', 'age', 'tenure', 'balance', 'num_of_products', 'has_cr_card',\n",
      "       'is_active_member', 'estimated_salary', 'exited'],\n",
      "      dtype='object')\n"
     ]
    }
   ],
   "source": [
    "data.columns"
   ]
  },
  {
   "cell_type": "code",
   "execution_count": 7,
   "metadata": {},
   "outputs": [],
   "source": [
    "# приведение строчных данных к нижнему регистру\n",
    "list_name = ['surname', 'geography', 'gender']\n",
    "for name in list_name:\n",
    "    data[name] = data[name].str.lower()"
   ]
  },
  {
   "cell_type": "code",
   "execution_count": 8,
   "metadata": {},
   "outputs": [
    {
     "data": {
      "text/html": [
       "<div>\n",
       "<style scoped>\n",
       "    .dataframe tbody tr th:only-of-type {\n",
       "        vertical-align: middle;\n",
       "    }\n",
       "\n",
       "    .dataframe tbody tr th {\n",
       "        vertical-align: top;\n",
       "    }\n",
       "\n",
       "    .dataframe thead th {\n",
       "        text-align: right;\n",
       "    }\n",
       "</style>\n",
       "<table border=\"1\" class=\"dataframe\">\n",
       "  <thead>\n",
       "    <tr style=\"text-align: right;\">\n",
       "      <th></th>\n",
       "      <th>row_number</th>\n",
       "      <th>customer_id</th>\n",
       "      <th>surname</th>\n",
       "      <th>credit_score</th>\n",
       "      <th>geography</th>\n",
       "      <th>gender</th>\n",
       "      <th>age</th>\n",
       "      <th>tenure</th>\n",
       "      <th>balance</th>\n",
       "      <th>num_of_products</th>\n",
       "      <th>has_cr_card</th>\n",
       "      <th>is_active_member</th>\n",
       "      <th>estimated_salary</th>\n",
       "      <th>exited</th>\n",
       "    </tr>\n",
       "  </thead>\n",
       "  <tbody>\n",
       "    <tr>\n",
       "      <th>0</th>\n",
       "      <td>1</td>\n",
       "      <td>15634602</td>\n",
       "      <td>hargrave</td>\n",
       "      <td>619</td>\n",
       "      <td>france</td>\n",
       "      <td>female</td>\n",
       "      <td>42</td>\n",
       "      <td>2.0</td>\n",
       "      <td>0.00</td>\n",
       "      <td>1</td>\n",
       "      <td>1</td>\n",
       "      <td>1</td>\n",
       "      <td>101348.88</td>\n",
       "      <td>1</td>\n",
       "    </tr>\n",
       "    <tr>\n",
       "      <th>1</th>\n",
       "      <td>2</td>\n",
       "      <td>15647311</td>\n",
       "      <td>hill</td>\n",
       "      <td>608</td>\n",
       "      <td>spain</td>\n",
       "      <td>female</td>\n",
       "      <td>41</td>\n",
       "      <td>1.0</td>\n",
       "      <td>83807.86</td>\n",
       "      <td>1</td>\n",
       "      <td>0</td>\n",
       "      <td>1</td>\n",
       "      <td>112542.58</td>\n",
       "      <td>0</td>\n",
       "    </tr>\n",
       "    <tr>\n",
       "      <th>2</th>\n",
       "      <td>3</td>\n",
       "      <td>15619304</td>\n",
       "      <td>onio</td>\n",
       "      <td>502</td>\n",
       "      <td>france</td>\n",
       "      <td>female</td>\n",
       "      <td>42</td>\n",
       "      <td>8.0</td>\n",
       "      <td>159660.80</td>\n",
       "      <td>3</td>\n",
       "      <td>1</td>\n",
       "      <td>0</td>\n",
       "      <td>113931.57</td>\n",
       "      <td>1</td>\n",
       "    </tr>\n",
       "    <tr>\n",
       "      <th>3</th>\n",
       "      <td>4</td>\n",
       "      <td>15701354</td>\n",
       "      <td>boni</td>\n",
       "      <td>699</td>\n",
       "      <td>france</td>\n",
       "      <td>female</td>\n",
       "      <td>39</td>\n",
       "      <td>1.0</td>\n",
       "      <td>0.00</td>\n",
       "      <td>2</td>\n",
       "      <td>0</td>\n",
       "      <td>0</td>\n",
       "      <td>93826.63</td>\n",
       "      <td>0</td>\n",
       "    </tr>\n",
       "    <tr>\n",
       "      <th>4</th>\n",
       "      <td>5</td>\n",
       "      <td>15737888</td>\n",
       "      <td>mitchell</td>\n",
       "      <td>850</td>\n",
       "      <td>spain</td>\n",
       "      <td>female</td>\n",
       "      <td>43</td>\n",
       "      <td>2.0</td>\n",
       "      <td>125510.82</td>\n",
       "      <td>1</td>\n",
       "      <td>1</td>\n",
       "      <td>1</td>\n",
       "      <td>79084.10</td>\n",
       "      <td>0</td>\n",
       "    </tr>\n",
       "  </tbody>\n",
       "</table>\n",
       "</div>"
      ],
      "text/plain": [
       "   row_number  customer_id   surname  credit_score geography  gender  age  \\\n",
       "0           1     15634602  hargrave           619    france  female   42   \n",
       "1           2     15647311      hill           608     spain  female   41   \n",
       "2           3     15619304      onio           502    france  female   42   \n",
       "3           4     15701354      boni           699    france  female   39   \n",
       "4           5     15737888  mitchell           850     spain  female   43   \n",
       "\n",
       "   tenure    balance  num_of_products  has_cr_card  is_active_member  \\\n",
       "0     2.0       0.00                1            1                 1   \n",
       "1     1.0   83807.86                1            0                 1   \n",
       "2     8.0  159660.80                3            1                 0   \n",
       "3     1.0       0.00                2            0                 0   \n",
       "4     2.0  125510.82                1            1                 1   \n",
       "\n",
       "   estimated_salary  exited  \n",
       "0         101348.88       1  \n",
       "1         112542.58       0  \n",
       "2         113931.57       1  \n",
       "3          93826.63       0  \n",
       "4          79084.10       0  "
      ]
     },
     "metadata": {},
     "output_type": "display_data"
    }
   ],
   "source": [
    "display(data.head())"
   ]
  },
  {
   "cell_type": "code",
   "execution_count": 9,
   "metadata": {},
   "outputs": [
    {
     "name": "stdout",
     "output_type": "stream",
     "text": [
      "10000\n"
     ]
    }
   ],
   "source": [
    "# определим размер датасета\n",
    "data.shape[0]"
   ]
  },
  {
   "cell_type": "code",
   "execution_count": 10,
   "metadata": {},
   "outputs": [
    {
     "name": "stdout",
     "output_type": "stream",
     "text": [
      "0\n"
     ]
    }
   ],
   "source": [
    "# Проверим наличие дубликатов\n",
    "data.duplicated().sum()"
   ]
  },
  {
   "cell_type": "code",
   "execution_count": 11,
   "metadata": {
    "scrolled": true
   },
   "outputs": [
    {
     "name": "stdout",
     "output_type": "stream",
     "text": [
      "row_number - 0%\n",
      "customer_id - 0%\n",
      "surname - 0%\n",
      "credit_score - 0%\n",
      "geography - 0%\n",
      "gender - 0%\n",
      "age - 0%\n",
      "tenure - 9%\n",
      "balance - 0%\n",
      "num_of_products - 0%\n",
      "has_cr_card - 0%\n",
      "is_active_member - 0%\n",
      "estimated_salary - 0%\n",
      "exited - 0%\n"
     ]
    }
   ],
   "source": [
    "# определеим количество пропусков\n",
    "for col in data.columns:\n",
    "    pct_missing = np.mean(data[col].isna())\n",
    "    print('{} - {}%'.format(col, round(pct_missing * 100)))"
   ]
  },
  {
   "cell_type": "markdown",
   "metadata": {},
   "source": [
    "Далее рассмотрим некоторые столбцы, для того, чтобы определить, есть ли какие-то аномалии в указанных значениях"
   ]
  },
  {
   "cell_type": "code",
   "execution_count": 12,
   "metadata": {},
   "outputs": [
    {
     "name": "stdout",
     "output_type": "stream",
     "text": [
      "count    10000.000000\n",
      "mean        38.921800\n",
      "std         10.487806\n",
      "min         18.000000\n",
      "25%         32.000000\n",
      "50%         37.000000\n",
      "75%         44.000000\n",
      "max         92.000000\n",
      "Name: age, dtype: float64\n"
     ]
    }
   ],
   "source": [
    "# рассмотрим столбец age\n",
    "data['age'].describe()"
   ]
  },
  {
   "cell_type": "code",
   "execution_count": 13,
   "metadata": {},
   "outputs": [
    {
     "name": "stdout",
     "output_type": "stream",
     "text": [
      "male      5457\n",
      "female    4543\n",
      "Name: gender, dtype: int64\n"
     ]
    }
   ],
   "source": [
    "# рассмотрим столбец gender\n",
    "data['gender'].value_counts()"
   ]
  },
  {
   "cell_type": "code",
   "execution_count": 14,
   "metadata": {},
   "outputs": [
    {
     "name": "stdout",
     "output_type": "stream",
     "text": [
      "count    9091.000000\n",
      "mean        4.997690\n",
      "std         2.894723\n",
      "min         0.000000\n",
      "25%         2.000000\n",
      "50%         5.000000\n",
      "75%         7.000000\n",
      "max        10.000000\n",
      "Name: tenure, dtype: float64\n"
     ]
    }
   ],
   "source": [
    "# рассмотрим столбец tenure\n",
    "data['tenure'].describe()"
   ]
  },
  {
   "cell_type": "code",
   "execution_count": 15,
   "metadata": {},
   "outputs": [
    {
     "name": "stdout",
     "output_type": "stream",
     "text": [
      "count    10000.000000\n",
      "mean       650.528800\n",
      "std         96.653299\n",
      "min        350.000000\n",
      "25%        584.000000\n",
      "50%        652.000000\n",
      "75%        718.000000\n",
      "max        850.000000\n",
      "Name: credit_score, dtype: float64\n"
     ]
    }
   ],
   "source": [
    "# рассмотрим столбец credit_score\n",
    "data['credit_score'].describe()"
   ]
  },
  {
   "cell_type": "code",
   "execution_count": 16,
   "metadata": {},
   "outputs": [
    {
     "name": "stdout",
     "output_type": "stream",
     "text": [
      "1    5084\n",
      "2    4590\n",
      "3     266\n",
      "4      60\n",
      "Name: num_of_products, dtype: int64\n"
     ]
    }
   ],
   "source": [
    "# рассмотрим столбец num_of_products\n",
    "data['num_of_products'].value_counts()"
   ]
  },
  {
   "cell_type": "code",
   "execution_count": 17,
   "metadata": {},
   "outputs": [
    {
     "name": "stdout",
     "output_type": "stream",
     "text": [
      "1    7055\n",
      "0    2945\n",
      "Name: has_cr_card, dtype: int64\n"
     ]
    }
   ],
   "source": [
    "# рассмотрим столбец has_cr_card\n",
    "data['has_cr_card'].value_counts()"
   ]
  },
  {
   "cell_type": "code",
   "execution_count": 18,
   "metadata": {},
   "outputs": [
    {
     "name": "stdout",
     "output_type": "stream",
     "text": [
      "1    5151\n",
      "0    4849\n",
      "Name: is_active_member, dtype: int64\n"
     ]
    }
   ],
   "source": [
    "# рассмотрим столбец is_active_member\n",
    "data['is_active_member'].value_counts()"
   ]
  },
  {
   "cell_type": "code",
   "execution_count": 19,
   "metadata": {},
   "outputs": [
    {
     "name": "stdout",
     "output_type": "stream",
     "text": [
      "0    7963\n",
      "1    2037\n",
      "Name: exited, dtype: int64\n"
     ]
    }
   ],
   "source": [
    "# рассмотрим столбец exited\n",
    "data['exited'].value_counts()"
   ]
  },
  {
   "cell_type": "code",
   "execution_count": 20,
   "metadata": {},
   "outputs": [
    {
     "name": "stdout",
     "output_type": "stream",
     "text": [
      "count     10000.000000\n",
      "mean     100090.239881\n",
      "std       57510.492818\n",
      "min          11.580000\n",
      "25%       51002.110000\n",
      "50%      100193.915000\n",
      "75%      149388.247500\n",
      "max      199992.480000\n",
      "Name: estimated_salary, dtype: float64\n"
     ]
    }
   ],
   "source": [
    "# рассмотрим столбец estimated_salary\n",
    "data['estimated_salary'].describe()"
   ]
  },
  {
   "cell_type": "code",
   "execution_count": 21,
   "metadata": {},
   "outputs": [
    {
     "name": "stdout",
     "output_type": "stream",
     "text": [
      "9\n"
     ]
    },
    {
     "data": {
      "text/html": [
       "<div>\n",
       "<style scoped>\n",
       "    .dataframe tbody tr th:only-of-type {\n",
       "        vertical-align: middle;\n",
       "    }\n",
       "\n",
       "    .dataframe tbody tr th {\n",
       "        vertical-align: top;\n",
       "    }\n",
       "\n",
       "    .dataframe thead th {\n",
       "        text-align: right;\n",
       "    }\n",
       "</style>\n",
       "<table border=\"1\" class=\"dataframe\">\n",
       "  <thead>\n",
       "    <tr style=\"text-align: right;\">\n",
       "      <th></th>\n",
       "      <th>row_number</th>\n",
       "      <th>customer_id</th>\n",
       "      <th>surname</th>\n",
       "      <th>credit_score</th>\n",
       "      <th>geography</th>\n",
       "      <th>gender</th>\n",
       "      <th>age</th>\n",
       "      <th>tenure</th>\n",
       "      <th>balance</th>\n",
       "      <th>num_of_products</th>\n",
       "      <th>has_cr_card</th>\n",
       "      <th>is_active_member</th>\n",
       "      <th>estimated_salary</th>\n",
       "      <th>exited</th>\n",
       "    </tr>\n",
       "  </thead>\n",
       "  <tbody>\n",
       "    <tr>\n",
       "      <th>2362</th>\n",
       "      <td>2363</td>\n",
       "      <td>15791053</td>\n",
       "      <td>lucciano</td>\n",
       "      <td>709</td>\n",
       "      <td>germany</td>\n",
       "      <td>male</td>\n",
       "      <td>45</td>\n",
       "      <td>4.0</td>\n",
       "      <td>122917.71</td>\n",
       "      <td>1</td>\n",
       "      <td>1</td>\n",
       "      <td>1</td>\n",
       "      <td>11.58</td>\n",
       "      <td>1</td>\n",
       "    </tr>\n",
       "    <tr>\n",
       "      <th>2498</th>\n",
       "      <td>2499</td>\n",
       "      <td>15648735</td>\n",
       "      <td>cashin</td>\n",
       "      <td>718</td>\n",
       "      <td>france</td>\n",
       "      <td>male</td>\n",
       "      <td>37</td>\n",
       "      <td>8.0</td>\n",
       "      <td>0.00</td>\n",
       "      <td>2</td>\n",
       "      <td>1</td>\n",
       "      <td>1</td>\n",
       "      <td>142.81</td>\n",
       "      <td>0</td>\n",
       "    </tr>\n",
       "    <tr>\n",
       "      <th>4774</th>\n",
       "      <td>4775</td>\n",
       "      <td>15640421</td>\n",
       "      <td>conway</td>\n",
       "      <td>811</td>\n",
       "      <td>france</td>\n",
       "      <td>female</td>\n",
       "      <td>35</td>\n",
       "      <td>7.0</td>\n",
       "      <td>0.00</td>\n",
       "      <td>1</td>\n",
       "      <td>1</td>\n",
       "      <td>1</td>\n",
       "      <td>178.19</td>\n",
       "      <td>0</td>\n",
       "    </tr>\n",
       "    <tr>\n",
       "      <th>4989</th>\n",
       "      <td>4990</td>\n",
       "      <td>15602851</td>\n",
       "      <td>ozioma</td>\n",
       "      <td>629</td>\n",
       "      <td>france</td>\n",
       "      <td>male</td>\n",
       "      <td>40</td>\n",
       "      <td>NaN</td>\n",
       "      <td>0.00</td>\n",
       "      <td>1</td>\n",
       "      <td>1</td>\n",
       "      <td>0</td>\n",
       "      <td>106.67</td>\n",
       "      <td>0</td>\n",
       "    </tr>\n",
       "    <tr>\n",
       "      <th>5548</th>\n",
       "      <td>5549</td>\n",
       "      <td>15639662</td>\n",
       "      <td>phillips</td>\n",
       "      <td>710</td>\n",
       "      <td>france</td>\n",
       "      <td>male</td>\n",
       "      <td>38</td>\n",
       "      <td>2.0</td>\n",
       "      <td>0.00</td>\n",
       "      <td>2</td>\n",
       "      <td>1</td>\n",
       "      <td>0</td>\n",
       "      <td>96.27</td>\n",
       "      <td>0</td>\n",
       "    </tr>\n",
       "    <tr>\n",
       "      <th>7565</th>\n",
       "      <td>7566</td>\n",
       "      <td>15623369</td>\n",
       "      <td>clifton</td>\n",
       "      <td>708</td>\n",
       "      <td>france</td>\n",
       "      <td>male</td>\n",
       "      <td>52</td>\n",
       "      <td>10.0</td>\n",
       "      <td>105355.81</td>\n",
       "      <td>1</td>\n",
       "      <td>1</td>\n",
       "      <td>0</td>\n",
       "      <td>123.07</td>\n",
       "      <td>1</td>\n",
       "    </tr>\n",
       "    <tr>\n",
       "      <th>8722</th>\n",
       "      <td>8723</td>\n",
       "      <td>15718667</td>\n",
       "      <td>t'ien</td>\n",
       "      <td>621</td>\n",
       "      <td>france</td>\n",
       "      <td>male</td>\n",
       "      <td>35</td>\n",
       "      <td>7.0</td>\n",
       "      <td>87619.29</td>\n",
       "      <td>1</td>\n",
       "      <td>1</td>\n",
       "      <td>0</td>\n",
       "      <td>143.34</td>\n",
       "      <td>0</td>\n",
       "    </tr>\n",
       "    <tr>\n",
       "      <th>9010</th>\n",
       "      <td>9011</td>\n",
       "      <td>15786463</td>\n",
       "      <td>hsing</td>\n",
       "      <td>645</td>\n",
       "      <td>germany</td>\n",
       "      <td>female</td>\n",
       "      <td>59</td>\n",
       "      <td>8.0</td>\n",
       "      <td>121669.93</td>\n",
       "      <td>2</td>\n",
       "      <td>0</td>\n",
       "      <td>0</td>\n",
       "      <td>91.75</td>\n",
       "      <td>1</td>\n",
       "    </tr>\n",
       "    <tr>\n",
       "      <th>9647</th>\n",
       "      <td>9648</td>\n",
       "      <td>15679693</td>\n",
       "      <td>walker</td>\n",
       "      <td>625</td>\n",
       "      <td>france</td>\n",
       "      <td>male</td>\n",
       "      <td>31</td>\n",
       "      <td>5.0</td>\n",
       "      <td>0.00</td>\n",
       "      <td>2</td>\n",
       "      <td>0</td>\n",
       "      <td>1</td>\n",
       "      <td>90.07</td>\n",
       "      <td>0</td>\n",
       "    </tr>\n",
       "  </tbody>\n",
       "</table>\n",
       "</div>"
      ],
      "text/plain": [
       "      row_number  customer_id   surname  credit_score geography  gender  age  \\\n",
       "2362        2363     15791053  lucciano           709   germany    male   45   \n",
       "2498        2499     15648735    cashin           718    france    male   37   \n",
       "4774        4775     15640421    conway           811    france  female   35   \n",
       "4989        4990     15602851    ozioma           629    france    male   40   \n",
       "5548        5549     15639662  phillips           710    france    male   38   \n",
       "7565        7566     15623369   clifton           708    france    male   52   \n",
       "8722        8723     15718667     t'ien           621    france    male   35   \n",
       "9010        9011     15786463     hsing           645   germany  female   59   \n",
       "9647        9648     15679693    walker           625    france    male   31   \n",
       "\n",
       "      tenure    balance  num_of_products  has_cr_card  is_active_member  \\\n",
       "2362     4.0  122917.71                1            1                 1   \n",
       "2498     8.0       0.00                2            1                 1   \n",
       "4774     7.0       0.00                1            1                 1   \n",
       "4989     NaN       0.00                1            1                 0   \n",
       "5548     2.0       0.00                2            1                 0   \n",
       "7565    10.0  105355.81                1            1                 0   \n",
       "8722     7.0   87619.29                1            1                 0   \n",
       "9010     8.0  121669.93                2            0                 0   \n",
       "9647     5.0       0.00                2            0                 1   \n",
       "\n",
       "      estimated_salary  exited  \n",
       "2362             11.58       1  \n",
       "2498            142.81       0  \n",
       "4774            178.19       0  \n",
       "4989            106.67       0  \n",
       "5548             96.27       0  \n",
       "7565            123.07       1  \n",
       "8722            143.34       0  \n",
       "9010             91.75       1  \n",
       "9647             90.07       0  "
      ]
     },
     "metadata": {},
     "output_type": "display_data"
    }
   ],
   "source": [
    "# проанализируем низкие зарплаты в столбце estimated_salary\n",
    "data[data['estimated_salary'] < 200]['estimated_salary'].count()\n",
    "data[data['estimated_salary'] < 200]"
   ]
  },
  {
   "cell_type": "code",
   "execution_count": 22,
   "metadata": {},
   "outputs": [
    {
     "name": "stdout",
     "output_type": "stream",
     "text": [
      "france     5014\n",
      "germany    2509\n",
      "spain      2477\n",
      "Name: geography, dtype: int64\n"
     ]
    }
   ],
   "source": [
    "# посмотрим на регионы, в которых расположен банк\n",
    "data['geography'].value_counts()"
   ]
  },
  {
   "cell_type": "code",
   "execution_count": 23,
   "metadata": {},
   "outputs": [
    {
     "data": {
      "image/png": "[encoded data removed]",
      "text/plain": [
       "<Figure size 720x576 with 1 Axes>"
      ]
     },
     "metadata": {},
     "output_type": "display_data"
    }
   ],
   "source": [
    "# построим диаграмму ушедших и оставшихся клиентов\n",
    "data['exited'].value_counts().plot(kind='pie', autopct='%1.1f%%', shadow=True, figsize=(10,8))\n",
    "plt.legend([\"Остался с банком\", 'Ушёл из банка'], fontsize=10, shadow=True, facecolor='w')\n",
    "plt.title('Распределение пользователей')\n",
    "plt.tight_layout()\n",
    "plt.axis('off')\n",
    "plt.show()"
   ]
  },
  {
   "cell_type": "markdown",
   "metadata": {},
   "source": [
    "Проведя предварительный анализ данных было выявлено следующеее:\n",
    "\n",
    "1) были неверно указаны названия столбцов, для облегчения дальнейшей работы необходимо было исправить названия и записать в \"змеином регистре\"\n",
    "\n",
    "2) для того, чтобы не было неявных дубликатов, все строковые данные были приведены к нижнему регистру\n",
    "\n",
    "3) были изучены столбцы таблицы и выявлено, что в одном из столбцов указан неверный тип данных. Ниже в столбце tenure поменяем тип данных с вещественного на целочисленный, так как указано по условию задачи, что в данном столбце указывается количество лет\n",
    "\n",
    "4) также в столбце tenure 9% данных отсуствуют, ниже поставраемся заполнить пропуски\n",
    "\n",
    "5) при детальном рассмотрении каждого столбца таблицы неправдободных данных замечено не было. Единственное, смущают пердполагаемые зарплаты в столбце estimated_salary. Возможно, в данном столбце в некоторых значниях допущена ошибка, напрмер, встречаются строки, в которых предполагаемая зарплата указана 11 единиц, при средней зарплате 100000 единиц. Таких данных немного, и , скорее всего, нужна их корректировка, либо, возможно, указана зарплата за час. Пока эти данные оставим.\n",
    "\n",
    "6) страны, в которых расположен банк: Франция (половина клиентов), Германия, Испания около четверти клиентов в каждой\n",
    "\n",
    "7) доля ушедших клиентов: 20,4%, доля оставшихся - 79,6%, можно сделать вывод, что данные в выборки несбалансированы.\n",
    "\n",
    "8) необходимо удалить колонки, которые не несут в себе необходимую дл обучения модели информацию: row_number, customer_id, surname\n",
    "\n",
    "В остальном данные впорядке. Поработаем со столбцом tenure: заполним пропуски и изменим тип данных."
   ]
  },
  {
   "cell_type": "markdown",
   "metadata": {},
   "source": [
    "###  Подготовка данных для дальнейшей работы"
   ]
  },
  {
   "cell_type": "code",
   "execution_count": 24,
   "metadata": {},
   "outputs": [
    {
     "data": {
      "text/html": [
       "<div>\n",
       "<style scoped>\n",
       "    .dataframe tbody tr th:only-of-type {\n",
       "        vertical-align: middle;\n",
       "    }\n",
       "\n",
       "    .dataframe tbody tr th {\n",
       "        vertical-align: top;\n",
       "    }\n",
       "\n",
       "    .dataframe thead th {\n",
       "        text-align: right;\n",
       "    }\n",
       "</style>\n",
       "<table border=\"1\" class=\"dataframe\">\n",
       "  <thead>\n",
       "    <tr style=\"text-align: right;\">\n",
       "      <th></th>\n",
       "      <th>row_number</th>\n",
       "      <th>customer_id</th>\n",
       "      <th>surname</th>\n",
       "      <th>credit_score</th>\n",
       "      <th>geography</th>\n",
       "      <th>gender</th>\n",
       "      <th>age</th>\n",
       "      <th>tenure</th>\n",
       "      <th>balance</th>\n",
       "      <th>num_of_products</th>\n",
       "      <th>has_cr_card</th>\n",
       "      <th>is_active_member</th>\n",
       "      <th>estimated_salary</th>\n",
       "      <th>exited</th>\n",
       "    </tr>\n",
       "  </thead>\n",
       "  <tbody>\n",
       "    <tr>\n",
       "      <th>0</th>\n",
       "      <td>1</td>\n",
       "      <td>15634602</td>\n",
       "      <td>hargrave</td>\n",
       "      <td>619</td>\n",
       "      <td>france</td>\n",
       "      <td>female</td>\n",
       "      <td>42</td>\n",
       "      <td>2.0</td>\n",
       "      <td>0.00</td>\n",
       "      <td>1</td>\n",
       "      <td>1</td>\n",
       "      <td>1</td>\n",
       "      <td>101348.88</td>\n",
       "      <td>1</td>\n",
       "    </tr>\n",
       "    <tr>\n",
       "      <th>1</th>\n",
       "      <td>2</td>\n",
       "      <td>15647311</td>\n",
       "      <td>hill</td>\n",
       "      <td>608</td>\n",
       "      <td>spain</td>\n",
       "      <td>female</td>\n",
       "      <td>41</td>\n",
       "      <td>1.0</td>\n",
       "      <td>83807.86</td>\n",
       "      <td>1</td>\n",
       "      <td>0</td>\n",
       "      <td>1</td>\n",
       "      <td>112542.58</td>\n",
       "      <td>0</td>\n",
       "    </tr>\n",
       "    <tr>\n",
       "      <th>2</th>\n",
       "      <td>3</td>\n",
       "      <td>15619304</td>\n",
       "      <td>onio</td>\n",
       "      <td>502</td>\n",
       "      <td>france</td>\n",
       "      <td>female</td>\n",
       "      <td>42</td>\n",
       "      <td>8.0</td>\n",
       "      <td>159660.80</td>\n",
       "      <td>3</td>\n",
       "      <td>1</td>\n",
       "      <td>0</td>\n",
       "      <td>113931.57</td>\n",
       "      <td>1</td>\n",
       "    </tr>\n",
       "    <tr>\n",
       "      <th>3</th>\n",
       "      <td>4</td>\n",
       "      <td>15701354</td>\n",
       "      <td>boni</td>\n",
       "      <td>699</td>\n",
       "      <td>france</td>\n",
       "      <td>female</td>\n",
       "      <td>39</td>\n",
       "      <td>1.0</td>\n",
       "      <td>0.00</td>\n",
       "      <td>2</td>\n",
       "      <td>0</td>\n",
       "      <td>0</td>\n",
       "      <td>93826.63</td>\n",
       "      <td>0</td>\n",
       "    </tr>\n",
       "    <tr>\n",
       "      <th>4</th>\n",
       "      <td>5</td>\n",
       "      <td>15737888</td>\n",
       "      <td>mitchell</td>\n",
       "      <td>850</td>\n",
       "      <td>spain</td>\n",
       "      <td>female</td>\n",
       "      <td>43</td>\n",
       "      <td>2.0</td>\n",
       "      <td>125510.82</td>\n",
       "      <td>1</td>\n",
       "      <td>1</td>\n",
       "      <td>1</td>\n",
       "      <td>79084.10</td>\n",
       "      <td>0</td>\n",
       "    </tr>\n",
       "    <tr>\n",
       "      <th>5</th>\n",
       "      <td>6</td>\n",
       "      <td>15574012</td>\n",
       "      <td>chu</td>\n",
       "      <td>645</td>\n",
       "      <td>spain</td>\n",
       "      <td>male</td>\n",
       "      <td>44</td>\n",
       "      <td>8.0</td>\n",
       "      <td>113755.78</td>\n",
       "      <td>2</td>\n",
       "      <td>1</td>\n",
       "      <td>0</td>\n",
       "      <td>149756.71</td>\n",
       "      <td>1</td>\n",
       "    </tr>\n",
       "    <tr>\n",
       "      <th>6</th>\n",
       "      <td>7</td>\n",
       "      <td>15592531</td>\n",
       "      <td>bartlett</td>\n",
       "      <td>822</td>\n",
       "      <td>france</td>\n",
       "      <td>male</td>\n",
       "      <td>50</td>\n",
       "      <td>7.0</td>\n",
       "      <td>0.00</td>\n",
       "      <td>2</td>\n",
       "      <td>1</td>\n",
       "      <td>1</td>\n",
       "      <td>10062.80</td>\n",
       "      <td>0</td>\n",
       "    </tr>\n",
       "    <tr>\n",
       "      <th>7</th>\n",
       "      <td>8</td>\n",
       "      <td>15656148</td>\n",
       "      <td>obinna</td>\n",
       "      <td>376</td>\n",
       "      <td>germany</td>\n",
       "      <td>female</td>\n",
       "      <td>29</td>\n",
       "      <td>4.0</td>\n",
       "      <td>115046.74</td>\n",
       "      <td>4</td>\n",
       "      <td>1</td>\n",
       "      <td>0</td>\n",
       "      <td>119346.88</td>\n",
       "      <td>1</td>\n",
       "    </tr>\n",
       "    <tr>\n",
       "      <th>8</th>\n",
       "      <td>9</td>\n",
       "      <td>15792365</td>\n",
       "      <td>he</td>\n",
       "      <td>501</td>\n",
       "      <td>france</td>\n",
       "      <td>male</td>\n",
       "      <td>44</td>\n",
       "      <td>4.0</td>\n",
       "      <td>142051.07</td>\n",
       "      <td>2</td>\n",
       "      <td>0</td>\n",
       "      <td>1</td>\n",
       "      <td>74940.50</td>\n",
       "      <td>0</td>\n",
       "    </tr>\n",
       "    <tr>\n",
       "      <th>9</th>\n",
       "      <td>10</td>\n",
       "      <td>15592389</td>\n",
       "      <td>h?</td>\n",
       "      <td>684</td>\n",
       "      <td>france</td>\n",
       "      <td>male</td>\n",
       "      <td>27</td>\n",
       "      <td>2.0</td>\n",
       "      <td>134603.88</td>\n",
       "      <td>1</td>\n",
       "      <td>1</td>\n",
       "      <td>1</td>\n",
       "      <td>71725.73</td>\n",
       "      <td>0</td>\n",
       "    </tr>\n",
       "  </tbody>\n",
       "</table>\n",
       "</div>"
      ],
      "text/plain": [
       "   row_number  customer_id   surname  credit_score geography  gender  age  \\\n",
       "0           1     15634602  hargrave           619    france  female   42   \n",
       "1           2     15647311      hill           608     spain  female   41   \n",
       "2           3     15619304      onio           502    france  female   42   \n",
       "3           4     15701354      boni           699    france  female   39   \n",
       "4           5     15737888  mitchell           850     spain  female   43   \n",
       "5           6     15574012       chu           645     spain    male   44   \n",
       "6           7     15592531  bartlett           822    france    male   50   \n",
       "7           8     15656148    obinna           376   germany  female   29   \n",
       "8           9     15792365        he           501    france    male   44   \n",
       "9          10     15592389        h?           684    france    male   27   \n",
       "\n",
       "   tenure    balance  num_of_products  has_cr_card  is_active_member  \\\n",
       "0     2.0       0.00                1            1                 1   \n",
       "1     1.0   83807.86                1            0                 1   \n",
       "2     8.0  159660.80                3            1                 0   \n",
       "3     1.0       0.00                2            0                 0   \n",
       "4     2.0  125510.82                1            1                 1   \n",
       "5     8.0  113755.78                2            1                 0   \n",
       "6     7.0       0.00                2            1                 1   \n",
       "7     4.0  115046.74                4            1                 0   \n",
       "8     4.0  142051.07                2            0                 1   \n",
       "9     2.0  134603.88                1            1                 1   \n",
       "\n",
       "   estimated_salary  exited  \n",
       "0         101348.88       1  \n",
       "1         112542.58       0  \n",
       "2         113931.57       1  \n",
       "3          93826.63       0  \n",
       "4          79084.10       0  \n",
       "5         149756.71       1  \n",
       "6          10062.80       0  \n",
       "7         119346.88       1  \n",
       "8          74940.50       0  \n",
       "9          71725.73       0  "
      ]
     },
     "metadata": {},
     "output_type": "display_data"
    }
   ],
   "source": [
    "# выведем первые 10 строчек таблицы, для того, чтобы можно было понять, что может повлиять на столбец tenure\n",
    "data.head(10)"
   ]
  },
  {
   "cell_type": "markdown",
   "metadata": {},
   "source": [
    "Зависимостей между данными выявлено не было, поэтому заполним пропуски в столбце tenure медианой."
   ]
  },
  {
   "cell_type": "code",
   "execution_count": 25,
   "metadata": {},
   "outputs": [
    {
     "name": "stdout",
     "output_type": "stream",
     "text": [
      "5.0\n"
     ]
    }
   ],
   "source": [
    "# вычисление медианы\n",
    "median_tenure = data['tenure'].median()\n",
    "median_tenure"
   ]
  },
  {
   "cell_type": "code",
   "execution_count": 26,
   "metadata": {},
   "outputs": [],
   "source": [
    "# заполнение пропусков едианой\n",
    "data['tenure'] = data['tenure'].fillna(median_tenure)"
   ]
  },
  {
   "cell_type": "code",
   "execution_count": 27,
   "metadata": {},
   "outputs": [
    {
     "name": "stdout",
     "output_type": "stream",
     "text": [
      "row_number          0\n",
      "customer_id         0\n",
      "surname             0\n",
      "credit_score        0\n",
      "geography           0\n",
      "gender              0\n",
      "age                 0\n",
      "tenure              0\n",
      "balance             0\n",
      "num_of_products     0\n",
      "has_cr_card         0\n",
      "is_active_member    0\n",
      "estimated_salary    0\n",
      "exited              0\n",
      "dtype: int64\n"
     ]
    }
   ],
   "source": [
    "# проверка отсутствия пропусков\n",
    "data.isna().sum()"
   ]
  },
  {
   "cell_type": "markdown",
   "metadata": {},
   "source": [
    "От пропусков избавились, теперь перейдем к изменению типа данных этого столбца. Заменим вещественный тип на строковый"
   ]
  },
  {
   "cell_type": "code",
   "execution_count": 28,
   "metadata": {},
   "outputs": [],
   "source": [
    "data['tenure'] = data['tenure'].astype('object')"
   ]
  },
  {
   "cell_type": "code",
   "execution_count": 29,
   "metadata": {},
   "outputs": [
    {
     "name": "stdout",
     "output_type": "stream",
     "text": [
      "row_number            int64\n",
      "customer_id           int64\n",
      "surname              object\n",
      "credit_score          int64\n",
      "geography            object\n",
      "gender               object\n",
      "age                   int64\n",
      "tenure               object\n",
      "balance             float64\n",
      "num_of_products       int64\n",
      "has_cr_card           int64\n",
      "is_active_member      int64\n",
      "estimated_salary    float64\n",
      "exited                int64\n",
      "dtype: object\n"
     ]
    }
   ],
   "source": [
    "data.dtypes"
   ]
  },
  {
   "cell_type": "markdown",
   "metadata": {},
   "source": [
    "Как видим, все необходимые исправления были сделаны (столбец tenure стал строковым, пропуски в данном столбце были устранены). Переходим к исследовательскому анализу данных."
   ]
  },
  {
   "cell_type": "markdown",
   "metadata": {},
   "source": [
    "### Исследовательский анализ данных"
   ]
  },
  {
   "cell_type": "markdown",
   "metadata": {},
   "source": [
    "Посмотрим, в какой стране люди уходят чаще. Для этого напишем функцию и посмотрим на их доли."
   ]
  },
  {
   "cell_type": "code",
   "execution_count": 30,
   "metadata": {},
   "outputs": [],
   "source": [
    "# напишем функцию для подсчета оставшихся и ушедших клиентов\n",
    "def check_ratio(what_check):\n",
    "    \"\"\"\n",
    "    Считает доли оставшихся и ушедших клиентов\n",
    "    \n",
    "    return доли\n",
    "    \"\"\"\n",
    "    a = data.groupby([what_check, 'exited'])['row_number'].count().rename(\"ratio\")\n",
    "    b = a /  a.groupby(level=0).sum() \n",
    "    dfs = pd.DataFrame(data=b)\n",
    "    return dfs"
   ]
  },
  {
   "cell_type": "code",
   "execution_count": 31,
   "metadata": {},
   "outputs": [
    {
     "data": {
      "text/html": [
       "<div>\n",
       "<style scoped>\n",
       "    .dataframe tbody tr th:only-of-type {\n",
       "        vertical-align: middle;\n",
       "    }\n",
       "\n",
       "    .dataframe tbody tr th {\n",
       "        vertical-align: top;\n",
       "    }\n",
       "\n",
       "    .dataframe thead th {\n",
       "        text-align: right;\n",
       "    }\n",
       "</style>\n",
       "<table border=\"1\" class=\"dataframe\">\n",
       "  <thead>\n",
       "    <tr style=\"text-align: right;\">\n",
       "      <th></th>\n",
       "      <th></th>\n",
       "      <th>ratio</th>\n",
       "    </tr>\n",
       "    <tr>\n",
       "      <th>geography</th>\n",
       "      <th>exited</th>\n",
       "      <th></th>\n",
       "    </tr>\n",
       "  </thead>\n",
       "  <tbody>\n",
       "    <tr>\n",
       "      <th rowspan=\"2\" valign=\"top\">france</th>\n",
       "      <th>0</th>\n",
       "      <td>0.838452</td>\n",
       "    </tr>\n",
       "    <tr>\n",
       "      <th>1</th>\n",
       "      <td>0.161548</td>\n",
       "    </tr>\n",
       "    <tr>\n",
       "      <th rowspan=\"2\" valign=\"top\">germany</th>\n",
       "      <th>0</th>\n",
       "      <td>0.675568</td>\n",
       "    </tr>\n",
       "    <tr>\n",
       "      <th>1</th>\n",
       "      <td>0.324432</td>\n",
       "    </tr>\n",
       "    <tr>\n",
       "      <th rowspan=\"2\" valign=\"top\">spain</th>\n",
       "      <th>0</th>\n",
       "      <td>0.833266</td>\n",
       "    </tr>\n",
       "    <tr>\n",
       "      <th>1</th>\n",
       "      <td>0.166734</td>\n",
       "    </tr>\n",
       "  </tbody>\n",
       "</table>\n",
       "</div>"
      ],
      "text/plain": [
       "                     ratio\n",
       "geography exited          \n",
       "france    0       0.838452\n",
       "          1       0.161548\n",
       "germany   0       0.675568\n",
       "          1       0.324432\n",
       "spain     0       0.833266\n",
       "          1       0.166734"
      ]
     },
     "execution_count": 31,
     "metadata": {},
     "output_type": "execute_result"
    }
   ],
   "source": [
    "# определим доли ушедших и оставшихся клиентов в зависимости от географии\n",
    "check_ratio('geography')"
   ]
  },
  {
   "cell_type": "markdown",
   "metadata": {},
   "source": [
    "Из таблицы выше видно, что чаще всего клиенты уходят из немецких банков, данный показатель в 2 раза выше, чем во вранцузских и испанских банках."
   ]
  },
  {
   "cell_type": "code",
   "execution_count": 32,
   "metadata": {},
   "outputs": [
    {
     "data": {
      "text/html": [
       "<div>\n",
       "<style scoped>\n",
       "    .dataframe tbody tr th:only-of-type {\n",
       "        vertical-align: middle;\n",
       "    }\n",
       "\n",
       "    .dataframe tbody tr th {\n",
       "        vertical-align: top;\n",
       "    }\n",
       "\n",
       "    .dataframe thead th {\n",
       "        text-align: right;\n",
       "    }\n",
       "</style>\n",
       "<table border=\"1\" class=\"dataframe\">\n",
       "  <thead>\n",
       "    <tr style=\"text-align: right;\">\n",
       "      <th></th>\n",
       "      <th></th>\n",
       "      <th>ratio</th>\n",
       "    </tr>\n",
       "    <tr>\n",
       "      <th>gender</th>\n",
       "      <th>exited</th>\n",
       "      <th></th>\n",
       "    </tr>\n",
       "  </thead>\n",
       "  <tbody>\n",
       "    <tr>\n",
       "      <th rowspan=\"2\" valign=\"top\">female</th>\n",
       "      <th>0</th>\n",
       "      <td>0.749285</td>\n",
       "    </tr>\n",
       "    <tr>\n",
       "      <th>1</th>\n",
       "      <td>0.250715</td>\n",
       "    </tr>\n",
       "    <tr>\n",
       "      <th rowspan=\"2\" valign=\"top\">male</th>\n",
       "      <th>0</th>\n",
       "      <td>0.835441</td>\n",
       "    </tr>\n",
       "    <tr>\n",
       "      <th>1</th>\n",
       "      <td>0.164559</td>\n",
       "    </tr>\n",
       "  </tbody>\n",
       "</table>\n",
       "</div>"
      ],
      "text/plain": [
       "                  ratio\n",
       "gender exited          \n",
       "female 0       0.749285\n",
       "       1       0.250715\n",
       "male   0       0.835441\n",
       "       1       0.164559"
      ]
     },
     "execution_count": 32,
     "metadata": {},
     "output_type": "execute_result"
    }
   ],
   "source": [
    "# определим доли оставшихся и ушедших клиентов в зависимости от пола\n",
    "check_ratio('gender')"
   ]
  },
  {
   "cell_type": "markdown",
   "metadata": {},
   "source": [
    "Если исследовать зависимость ухода от пола, то можно увидеть, что клиенты женщины чаще покидают банк, чем мужчины."
   ]
  },
  {
   "cell_type": "code",
   "execution_count": 33,
   "metadata": {},
   "outputs": [
    {
     "data": {
      "image/png": "[encoded data removed]",
      "text/plain": [
       "<Figure size 720x576 with 1 Axes>"
      ]
     },
     "metadata": {
      "needs_background": "light"
     },
     "output_type": "display_data"
    },
    {
     "data": {
      "image/png": "[encoded data removed]",
      "text/plain": [
       "<Figure size 576x720 with 1 Axes>"
      ]
     },
     "metadata": {
      "needs_background": "light"
     },
     "output_type": "display_data"
    }
   ],
   "source": [
    "# определим влияние возраста на вероятность ухода\n",
    "fig, ax = plt.subplots(figsize=(10,8))\n",
    "sns.histplot(data=data, x='age',hue='exited', kde=True,bins=100, ax=ax)\n",
    "plt.title('Распределение возраста')\n",
    "plt.xlabel('Возраст')\n",
    "plt.ylabel('Колличество клиентов')\n",
    "plt.figure(figsize=(8, 10))\n",
    "sns.boxplot(data=data, x='exited',y='age')\n",
    "plt.title('Возраст клиентов')\n",
    "plt.xlabel('Ушёл клиент или нет')\n",
    "plt.ylabel('Возраст')\n",
    "plt.show()"
   ]
  },
  {
   "cell_type": "markdown",
   "metadata": {},
   "source": [
    "По данным графикам можно увидеть, что в основном уходят клиенты более старшего возраста. "
   ]
  },
  {
   "cell_type": "code",
   "execution_count": 34,
   "metadata": {},
   "outputs": [
    {
     "data": {
      "image/png": "[encoded data removed]",
      "text/plain": [
       "<Figure size 720x576 with 1 Axes>"
      ]
     },
     "metadata": {
      "needs_background": "light"
     },
     "output_type": "display_data"
    },
    {
     "data": {
      "image/png": "[encoded data removed]",
      "text/plain": [
       "<Figure size 576x720 with 1 Axes>"
      ]
     },
     "metadata": {
      "needs_background": "light"
     },
     "output_type": "display_data"
    }
   ],
   "source": [
    "# проанализируем распределение клиентов в зависимости от баланса счета\n",
    "fig, ax = plt.subplots(figsize=(10,8))\n",
    "sns.histplot(data=data, x='balance',hue='exited', kde=True,bins=50, ax=ax)\n",
    "plt.title('Распределение клиентов по балансу')\n",
    "plt.xlabel('Баланс клиентов')\n",
    "plt.ylabel('Колличество клиентов')\n",
    "plt.figure(figsize=(8, 10))\n",
    "sns.boxplot(data=data, x='exited',y='balance')\n",
    "plt.title('Баланс клиентов')\n",
    "plt.xlabel('Ушёл клиент или нет')\n",
    "plt.ylabel('Колличество клиентов')\n",
    "plt.show()"
   ]
  },
  {
   "cell_type": "markdown",
   "metadata": {},
   "source": [
    "Судя по графикам баланс при уходе клиента имеет значение: уходят клиенты с более высоким балансом, чем те, кто остаются."
   ]
  },
  {
   "cell_type": "code",
   "execution_count": 35,
   "metadata": {},
   "outputs": [
    {
     "data": {
      "image/png": "[encoded data removed]",
      "text/plain": [
       "<Figure size 720x576 with 1 Axes>"
      ]
     },
     "metadata": {
      "needs_background": "light"
     },
     "output_type": "display_data"
    }
   ],
   "source": [
    "# проанализируем распределение клиентов в зависимости от зарплаты\n",
    "fig, ax = plt.subplots(figsize=(10,8))\n",
    "sns.histplot(data=data, x='estimated_salary',hue='exited', kde=True,bins=50, ax=ax)\n",
    "plt.title('Распределение клиентов по зарплате')\n",
    "plt.xlabel('Зарплата клиентов')\n",
    "plt.ylabel('Колличество клиентов')\n",
    "plt.show()"
   ]
  },
  {
   "cell_type": "markdown",
   "metadata": {},
   "source": [
    "По графику выше видно, что уход клиента не заваисит от предполагаемого уровня зарплаты. Одинаково уходят при любом уровне зарплат."
   ]
  },
  {
   "cell_type": "code",
   "execution_count": 36,
   "metadata": {},
   "outputs": [
    {
     "data": {
      "image/png": "[encoded data removed]",
      "text/plain": [
       "<Figure size 720x576 with 1 Axes>"
      ]
     },
     "metadata": {
      "needs_background": "light"
     },
     "output_type": "display_data"
    }
   ],
   "source": [
    "# рассмотрим распределение клиентов в зависимости от кредитного рейтинга\n",
    "fig, ax = plt.subplots(figsize=(10,8))\n",
    "sns.histplot(data=data, x='credit_score',hue='exited', kde=True,bins=50, ax=ax)\n",
    "plt.title('Распределение клиентов по кредитным баллам')\n",
    "plt.xlabel('Кредитные баллы')\n",
    "plt.ylabel('Колличество клиентов')\n",
    "plt.show()"
   ]
  },
  {
   "cell_type": "markdown",
   "metadata": {},
   "source": [
    "На данном графике видно, что чаще всего уходят люди с более низким кредитным рейтингом, по сравнению с теми, кто остается."
   ]
  },
  {
   "cell_type": "code",
   "execution_count": 37,
   "metadata": {},
   "outputs": [
    {
     "data": {
      "text/html": [
       "<div>\n",
       "<style scoped>\n",
       "    .dataframe tbody tr th:only-of-type {\n",
       "        vertical-align: middle;\n",
       "    }\n",
       "\n",
       "    .dataframe tbody tr th {\n",
       "        vertical-align: top;\n",
       "    }\n",
       "\n",
       "    .dataframe thead th {\n",
       "        text-align: right;\n",
       "    }\n",
       "</style>\n",
       "<table border=\"1\" class=\"dataframe\">\n",
       "  <thead>\n",
       "    <tr style=\"text-align: right;\">\n",
       "      <th></th>\n",
       "      <th></th>\n",
       "      <th>ratio</th>\n",
       "    </tr>\n",
       "    <tr>\n",
       "      <th>num_of_products</th>\n",
       "      <th>exited</th>\n",
       "      <th></th>\n",
       "    </tr>\n",
       "  </thead>\n",
       "  <tbody>\n",
       "    <tr>\n",
       "      <th rowspan=\"2\" valign=\"top\">1</th>\n",
       "      <th>0</th>\n",
       "      <td>0.722856</td>\n",
       "    </tr>\n",
       "    <tr>\n",
       "      <th>1</th>\n",
       "      <td>0.277144</td>\n",
       "    </tr>\n",
       "    <tr>\n",
       "      <th rowspan=\"2\" valign=\"top\">2</th>\n",
       "      <th>0</th>\n",
       "      <td>0.924183</td>\n",
       "    </tr>\n",
       "    <tr>\n",
       "      <th>1</th>\n",
       "      <td>0.075817</td>\n",
       "    </tr>\n",
       "    <tr>\n",
       "      <th rowspan=\"2\" valign=\"top\">3</th>\n",
       "      <th>0</th>\n",
       "      <td>0.172932</td>\n",
       "    </tr>\n",
       "    <tr>\n",
       "      <th>1</th>\n",
       "      <td>0.827068</td>\n",
       "    </tr>\n",
       "    <tr>\n",
       "      <th>4</th>\n",
       "      <th>1</th>\n",
       "      <td>1.000000</td>\n",
       "    </tr>\n",
       "  </tbody>\n",
       "</table>\n",
       "</div>"
      ],
      "text/plain": [
       "                           ratio\n",
       "num_of_products exited          \n",
       "1               0       0.722856\n",
       "                1       0.277144\n",
       "2               0       0.924183\n",
       "                1       0.075817\n",
       "3               0       0.172932\n",
       "                1       0.827068\n",
       "4               1       1.000000"
      ]
     },
     "execution_count": 37,
     "metadata": {},
     "output_type": "execute_result"
    }
   ],
   "source": [
    "# проанализируем долю уходяших клиентов в зависимости от количества продуктов\n",
    "check_ratio('num_of_products')"
   ]
  },
  {
   "cell_type": "markdown",
   "metadata": {},
   "source": [
    "По таблице выше видно, что чаще всего уходят клиенты, у которых 3 или 4 продукта. Реже всего уходят клиенты, у которых 2 продукта."
   ]
  },
  {
   "cell_type": "code",
   "execution_count": 38,
   "metadata": {},
   "outputs": [
    {
     "data": {
      "text/html": [
       "<div>\n",
       "<style scoped>\n",
       "    .dataframe tbody tr th:only-of-type {\n",
       "        vertical-align: middle;\n",
       "    }\n",
       "\n",
       "    .dataframe tbody tr th {\n",
       "        vertical-align: top;\n",
       "    }\n",
       "\n",
       "    .dataframe thead th {\n",
       "        text-align: right;\n",
       "    }\n",
       "</style>\n",
       "<table border=\"1\" class=\"dataframe\">\n",
       "  <thead>\n",
       "    <tr style=\"text-align: right;\">\n",
       "      <th></th>\n",
       "      <th></th>\n",
       "      <th>ratio</th>\n",
       "    </tr>\n",
       "    <tr>\n",
       "      <th>has_cr_card</th>\n",
       "      <th>exited</th>\n",
       "      <th></th>\n",
       "    </tr>\n",
       "  </thead>\n",
       "  <tbody>\n",
       "    <tr>\n",
       "      <th rowspan=\"2\" valign=\"top\">0</th>\n",
       "      <th>0</th>\n",
       "      <td>0.791851</td>\n",
       "    </tr>\n",
       "    <tr>\n",
       "      <th>1</th>\n",
       "      <td>0.208149</td>\n",
       "    </tr>\n",
       "    <tr>\n",
       "      <th rowspan=\"2\" valign=\"top\">1</th>\n",
       "      <th>0</th>\n",
       "      <td>0.798157</td>\n",
       "    </tr>\n",
       "    <tr>\n",
       "      <th>1</th>\n",
       "      <td>0.201843</td>\n",
       "    </tr>\n",
       "  </tbody>\n",
       "</table>\n",
       "</div>"
      ],
      "text/plain": [
       "                       ratio\n",
       "has_cr_card exited          \n",
       "0           0       0.791851\n",
       "            1       0.208149\n",
       "1           0       0.798157\n",
       "            1       0.201843"
      ]
     },
     "execution_count": 38,
     "metadata": {},
     "output_type": "execute_result"
    }
   ],
   "source": [
    "# проанализируем влияние наличия кредитной карты на уход клиента\n",
    "check_ratio('has_cr_card')"
   ]
  },
  {
   "cell_type": "markdown",
   "metadata": {},
   "source": [
    "Как видим, зависимости ухода клиента от наличия или отсутствия кредитной карты не замечено. Поэтому данная величина никак не влияет на уход клиента."
   ]
  },
  {
   "cell_type": "code",
   "execution_count": 39,
   "metadata": {},
   "outputs": [
    {
     "data": {
      "text/html": [
       "<div>\n",
       "<style scoped>\n",
       "    .dataframe tbody tr th:only-of-type {\n",
       "        vertical-align: middle;\n",
       "    }\n",
       "\n",
       "    .dataframe tbody tr th {\n",
       "        vertical-align: top;\n",
       "    }\n",
       "\n",
       "    .dataframe thead th {\n",
       "        text-align: right;\n",
       "    }\n",
       "</style>\n",
       "<table border=\"1\" class=\"dataframe\">\n",
       "  <thead>\n",
       "    <tr style=\"text-align: right;\">\n",
       "      <th></th>\n",
       "      <th></th>\n",
       "      <th>ratio</th>\n",
       "    </tr>\n",
       "    <tr>\n",
       "      <th>is_active_member</th>\n",
       "      <th>exited</th>\n",
       "      <th></th>\n",
       "    </tr>\n",
       "  </thead>\n",
       "  <tbody>\n",
       "    <tr>\n",
       "      <th rowspan=\"2\" valign=\"top\">0</th>\n",
       "      <th>0</th>\n",
       "      <td>0.731491</td>\n",
       "    </tr>\n",
       "    <tr>\n",
       "      <th>1</th>\n",
       "      <td>0.268509</td>\n",
       "    </tr>\n",
       "    <tr>\n",
       "      <th rowspan=\"2\" valign=\"top\">1</th>\n",
       "      <th>0</th>\n",
       "      <td>0.857309</td>\n",
       "    </tr>\n",
       "    <tr>\n",
       "      <th>1</th>\n",
       "      <td>0.142691</td>\n",
       "    </tr>\n",
       "  </tbody>\n",
       "</table>\n",
       "</div>"
      ],
      "text/plain": [
       "                            ratio\n",
       "is_active_member exited          \n",
       "0                0       0.731491\n",
       "                 1       0.268509\n",
       "1                0       0.857309\n",
       "                 1       0.142691"
      ]
     },
     "execution_count": 39,
     "metadata": {},
     "output_type": "execute_result"
    }
   ],
   "source": [
    "# проанализируем зависимость между активностью клиентов и их уходом\n",
    "check_ratio('is_active_member')"
   ]
  },
  {
   "cell_type": "markdown",
   "metadata": {},
   "source": [
    "Можно увидеть, что между активностью клиента и его уходом есть связь. Чем менее активен клиент, тем чаще он уходит."
   ]
  },
  {
   "cell_type": "code",
   "execution_count": 40,
   "metadata": {},
   "outputs": [
    {
     "data": {
      "text/html": [
       "<div>\n",
       "<style scoped>\n",
       "    .dataframe tbody tr th:only-of-type {\n",
       "        vertical-align: middle;\n",
       "    }\n",
       "\n",
       "    .dataframe tbody tr th {\n",
       "        vertical-align: top;\n",
       "    }\n",
       "\n",
       "    .dataframe thead th {\n",
       "        text-align: right;\n",
       "    }\n",
       "</style>\n",
       "<table border=\"1\" class=\"dataframe\">\n",
       "  <thead>\n",
       "    <tr style=\"text-align: right;\">\n",
       "      <th></th>\n",
       "      <th></th>\n",
       "      <th>ratio</th>\n",
       "    </tr>\n",
       "    <tr>\n",
       "      <th>tenure</th>\n",
       "      <th>exited</th>\n",
       "      <th></th>\n",
       "    </tr>\n",
       "  </thead>\n",
       "  <tbody>\n",
       "    <tr>\n",
       "      <th rowspan=\"2\" valign=\"top\">0.0</th>\n",
       "      <th>0</th>\n",
       "      <td>0.764398</td>\n",
       "    </tr>\n",
       "    <tr>\n",
       "      <th>1</th>\n",
       "      <td>0.235602</td>\n",
       "    </tr>\n",
       "    <tr>\n",
       "      <th rowspan=\"2\" valign=\"top\">1.0</th>\n",
       "      <th>0</th>\n",
       "      <td>0.776261</td>\n",
       "    </tr>\n",
       "    <tr>\n",
       "      <th>1</th>\n",
       "      <td>0.223739</td>\n",
       "    </tr>\n",
       "    <tr>\n",
       "      <th rowspan=\"2\" valign=\"top\">2.0</th>\n",
       "      <th>0</th>\n",
       "      <td>0.805263</td>\n",
       "    </tr>\n",
       "    <tr>\n",
       "      <th>1</th>\n",
       "      <td>0.194737</td>\n",
       "    </tr>\n",
       "    <tr>\n",
       "      <th rowspan=\"2\" valign=\"top\">3.0</th>\n",
       "      <th>0</th>\n",
       "      <td>0.786638</td>\n",
       "    </tr>\n",
       "    <tr>\n",
       "      <th>1</th>\n",
       "      <td>0.213362</td>\n",
       "    </tr>\n",
       "    <tr>\n",
       "      <th rowspan=\"2\" valign=\"top\">4.0</th>\n",
       "      <th>0</th>\n",
       "      <td>0.792090</td>\n",
       "    </tr>\n",
       "    <tr>\n",
       "      <th>1</th>\n",
       "      <td>0.207910</td>\n",
       "    </tr>\n",
       "    <tr>\n",
       "      <th rowspan=\"2\" valign=\"top\">5.0</th>\n",
       "      <th>0</th>\n",
       "      <td>0.798475</td>\n",
       "    </tr>\n",
       "    <tr>\n",
       "      <th>1</th>\n",
       "      <td>0.201525</td>\n",
       "    </tr>\n",
       "    <tr>\n",
       "      <th rowspan=\"2\" valign=\"top\">6.0</th>\n",
       "      <th>0</th>\n",
       "      <td>0.799092</td>\n",
       "    </tr>\n",
       "    <tr>\n",
       "      <th>1</th>\n",
       "      <td>0.200908</td>\n",
       "    </tr>\n",
       "    <tr>\n",
       "      <th rowspan=\"2\" valign=\"top\">7.0</th>\n",
       "      <th>0</th>\n",
       "      <td>0.827027</td>\n",
       "    </tr>\n",
       "    <tr>\n",
       "      <th>1</th>\n",
       "      <td>0.172973</td>\n",
       "    </tr>\n",
       "    <tr>\n",
       "      <th rowspan=\"2\" valign=\"top\">8.0</th>\n",
       "      <th>0</th>\n",
       "      <td>0.813505</td>\n",
       "    </tr>\n",
       "    <tr>\n",
       "      <th>1</th>\n",
       "      <td>0.186495</td>\n",
       "    </tr>\n",
       "    <tr>\n",
       "      <th rowspan=\"2\" valign=\"top\">9.0</th>\n",
       "      <th>0</th>\n",
       "      <td>0.780045</td>\n",
       "    </tr>\n",
       "    <tr>\n",
       "      <th>1</th>\n",
       "      <td>0.219955</td>\n",
       "    </tr>\n",
       "    <tr>\n",
       "      <th rowspan=\"2\" valign=\"top\">10.0</th>\n",
       "      <th>0</th>\n",
       "      <td>0.793722</td>\n",
       "    </tr>\n",
       "    <tr>\n",
       "      <th>1</th>\n",
       "      <td>0.206278</td>\n",
       "    </tr>\n",
       "  </tbody>\n",
       "</table>\n",
       "</div>"
      ],
      "text/plain": [
       "                  ratio\n",
       "tenure exited          \n",
       "0.0    0       0.764398\n",
       "       1       0.235602\n",
       "1.0    0       0.776261\n",
       "       1       0.223739\n",
       "2.0    0       0.805263\n",
       "       1       0.194737\n",
       "3.0    0       0.786638\n",
       "       1       0.213362\n",
       "4.0    0       0.792090\n",
       "       1       0.207910\n",
       "5.0    0       0.798475\n",
       "       1       0.201525\n",
       "6.0    0       0.799092\n",
       "       1       0.200908\n",
       "7.0    0       0.827027\n",
       "       1       0.172973\n",
       "8.0    0       0.813505\n",
       "       1       0.186495\n",
       "9.0    0       0.780045\n",
       "       1       0.219955\n",
       "10.0   0       0.793722\n",
       "       1       0.206278"
      ]
     },
     "execution_count": 40,
     "metadata": {},
     "output_type": "execute_result"
    }
   ],
   "source": [
    "# проанализируем влияет ли количество лет, в течение которых обслуживается в банке на уход клиента\n",
    "check_ratio('tenure')"
   ]
  },
  {
   "cell_type": "markdown",
   "metadata": {},
   "source": [
    "По полученным данным зависимости срока обслуживания клиента от его ухода по имеющимся данным не обнаружено. Из банка могут уйти кк клиенты, которые обслуживаются 10 лет, так и те, кто обслуживается только год.\n",
    "\n",
    "Все признаки проанализированы. Удалим столбцы, которые не имеют никакой значимости при проведение обучения модели:\n",
    "\n",
    "1) row_number\n",
    "\n",
    "2) customer_id\n",
    "\n",
    "3) surname"
   ]
  },
  {
   "cell_type": "code",
   "execution_count": 41,
   "metadata": {},
   "outputs": [
    {
     "data": {
      "text/html": [
       "<div>\n",
       "<style scoped>\n",
       "    .dataframe tbody tr th:only-of-type {\n",
       "        vertical-align: middle;\n",
       "    }\n",
       "\n",
       "    .dataframe tbody tr th {\n",
       "        vertical-align: top;\n",
       "    }\n",
       "\n",
       "    .dataframe thead th {\n",
       "        text-align: right;\n",
       "    }\n",
       "</style>\n",
       "<table border=\"1\" class=\"dataframe\">\n",
       "  <thead>\n",
       "    <tr style=\"text-align: right;\">\n",
       "      <th></th>\n",
       "      <th>credit_score</th>\n",
       "      <th>geography</th>\n",
       "      <th>gender</th>\n",
       "      <th>age</th>\n",
       "      <th>tenure</th>\n",
       "      <th>balance</th>\n",
       "      <th>num_of_products</th>\n",
       "      <th>has_cr_card</th>\n",
       "      <th>is_active_member</th>\n",
       "      <th>estimated_salary</th>\n",
       "      <th>exited</th>\n",
       "    </tr>\n",
       "  </thead>\n",
       "  <tbody>\n",
       "    <tr>\n",
       "      <th>0</th>\n",
       "      <td>619</td>\n",
       "      <td>france</td>\n",
       "      <td>female</td>\n",
       "      <td>42</td>\n",
       "      <td>2.0</td>\n",
       "      <td>0.00</td>\n",
       "      <td>1</td>\n",
       "      <td>1</td>\n",
       "      <td>1</td>\n",
       "      <td>101348.88</td>\n",
       "      <td>1</td>\n",
       "    </tr>\n",
       "    <tr>\n",
       "      <th>1</th>\n",
       "      <td>608</td>\n",
       "      <td>spain</td>\n",
       "      <td>female</td>\n",
       "      <td>41</td>\n",
       "      <td>1.0</td>\n",
       "      <td>83807.86</td>\n",
       "      <td>1</td>\n",
       "      <td>0</td>\n",
       "      <td>1</td>\n",
       "      <td>112542.58</td>\n",
       "      <td>0</td>\n",
       "    </tr>\n",
       "    <tr>\n",
       "      <th>2</th>\n",
       "      <td>502</td>\n",
       "      <td>france</td>\n",
       "      <td>female</td>\n",
       "      <td>42</td>\n",
       "      <td>8.0</td>\n",
       "      <td>159660.80</td>\n",
       "      <td>3</td>\n",
       "      <td>1</td>\n",
       "      <td>0</td>\n",
       "      <td>113931.57</td>\n",
       "      <td>1</td>\n",
       "    </tr>\n",
       "    <tr>\n",
       "      <th>3</th>\n",
       "      <td>699</td>\n",
       "      <td>france</td>\n",
       "      <td>female</td>\n",
       "      <td>39</td>\n",
       "      <td>1.0</td>\n",
       "      <td>0.00</td>\n",
       "      <td>2</td>\n",
       "      <td>0</td>\n",
       "      <td>0</td>\n",
       "      <td>93826.63</td>\n",
       "      <td>0</td>\n",
       "    </tr>\n",
       "    <tr>\n",
       "      <th>4</th>\n",
       "      <td>850</td>\n",
       "      <td>spain</td>\n",
       "      <td>female</td>\n",
       "      <td>43</td>\n",
       "      <td>2.0</td>\n",
       "      <td>125510.82</td>\n",
       "      <td>1</td>\n",
       "      <td>1</td>\n",
       "      <td>1</td>\n",
       "      <td>79084.10</td>\n",
       "      <td>0</td>\n",
       "    </tr>\n",
       "    <tr>\n",
       "      <th>...</th>\n",
       "      <td>...</td>\n",
       "      <td>...</td>\n",
       "      <td>...</td>\n",
       "      <td>...</td>\n",
       "      <td>...</td>\n",
       "      <td>...</td>\n",
       "      <td>...</td>\n",
       "      <td>...</td>\n",
       "      <td>...</td>\n",
       "      <td>...</td>\n",
       "      <td>...</td>\n",
       "    </tr>\n",
       "    <tr>\n",
       "      <th>9995</th>\n",
       "      <td>771</td>\n",
       "      <td>france</td>\n",
       "      <td>male</td>\n",
       "      <td>39</td>\n",
       "      <td>5.0</td>\n",
       "      <td>0.00</td>\n",
       "      <td>2</td>\n",
       "      <td>1</td>\n",
       "      <td>0</td>\n",
       "      <td>96270.64</td>\n",
       "      <td>0</td>\n",
       "    </tr>\n",
       "    <tr>\n",
       "      <th>9996</th>\n",
       "      <td>516</td>\n",
       "      <td>france</td>\n",
       "      <td>male</td>\n",
       "      <td>35</td>\n",
       "      <td>10.0</td>\n",
       "      <td>57369.61</td>\n",
       "      <td>1</td>\n",
       "      <td>1</td>\n",
       "      <td>1</td>\n",
       "      <td>101699.77</td>\n",
       "      <td>0</td>\n",
       "    </tr>\n",
       "    <tr>\n",
       "      <th>9997</th>\n",
       "      <td>709</td>\n",
       "      <td>france</td>\n",
       "      <td>female</td>\n",
       "      <td>36</td>\n",
       "      <td>7.0</td>\n",
       "      <td>0.00</td>\n",
       "      <td>1</td>\n",
       "      <td>0</td>\n",
       "      <td>1</td>\n",
       "      <td>42085.58</td>\n",
       "      <td>1</td>\n",
       "    </tr>\n",
       "    <tr>\n",
       "      <th>9998</th>\n",
       "      <td>772</td>\n",
       "      <td>germany</td>\n",
       "      <td>male</td>\n",
       "      <td>42</td>\n",
       "      <td>3.0</td>\n",
       "      <td>75075.31</td>\n",
       "      <td>2</td>\n",
       "      <td>1</td>\n",
       "      <td>0</td>\n",
       "      <td>92888.52</td>\n",
       "      <td>1</td>\n",
       "    </tr>\n",
       "    <tr>\n",
       "      <th>9999</th>\n",
       "      <td>792</td>\n",
       "      <td>france</td>\n",
       "      <td>female</td>\n",
       "      <td>28</td>\n",
       "      <td>5.0</td>\n",
       "      <td>130142.79</td>\n",
       "      <td>1</td>\n",
       "      <td>1</td>\n",
       "      <td>0</td>\n",
       "      <td>38190.78</td>\n",
       "      <td>0</td>\n",
       "    </tr>\n",
       "  </tbody>\n",
       "</table>\n",
       "<p>10000 rows × 11 columns</p>\n",
       "</div>"
      ],
      "text/plain": [
       "      credit_score geography  gender  age tenure    balance  num_of_products  \\\n",
       "0              619    france  female   42    2.0       0.00                1   \n",
       "1              608     spain  female   41    1.0   83807.86                1   \n",
       "2              502    france  female   42    8.0  159660.80                3   \n",
       "3              699    france  female   39    1.0       0.00                2   \n",
       "4              850     spain  female   43    2.0  125510.82                1   \n",
       "...            ...       ...     ...  ...    ...        ...              ...   \n",
       "9995           771    france    male   39    5.0       0.00                2   \n",
       "9996           516    france    male   35   10.0   57369.61                1   \n",
       "9997           709    france  female   36    7.0       0.00                1   \n",
       "9998           772   germany    male   42    3.0   75075.31                2   \n",
       "9999           792    france  female   28    5.0  130142.79                1   \n",
       "\n",
       "      has_cr_card  is_active_member  estimated_salary  exited  \n",
       "0               1                 1         101348.88       1  \n",
       "1               0                 1         112542.58       0  \n",
       "2               1                 0         113931.57       1  \n",
       "3               0                 0          93826.63       0  \n",
       "4               1                 1          79084.10       0  \n",
       "...           ...               ...               ...     ...  \n",
       "9995            1                 0          96270.64       0  \n",
       "9996            1                 1         101699.77       0  \n",
       "9997            0                 1          42085.58       1  \n",
       "9998            1                 0          92888.52       1  \n",
       "9999            1                 0          38190.78       0  \n",
       "\n",
       "[10000 rows x 11 columns]"
      ]
     },
     "metadata": {},
     "output_type": "display_data"
    }
   ],
   "source": [
    "# удаляем столбцы\n",
    "data.drop(columns=['row_number', 'customer_id', 'surname'], inplace=True)\n",
    "data"
   ]
  },
  {
   "cell_type": "code",
   "execution_count": 42,
   "metadata": {},
   "outputs": [
    {
     "data": {
      "image/png": "[encoded data removed]",
      "text/plain": [
       "<Figure size 576x576 with 2 Axes>"
      ]
     },
     "metadata": {
      "needs_background": "light"
     },
     "output_type": "display_data"
    }
   ],
   "source": [
    "# построим тепловую карту корреляции\n",
    "plt.figure(figsize=(8, 8))\n",
    "sns.heatmap(data.corr(), annot=True, cmap='coolwarm')\n",
    "plt.show()"
   ]
  },
  {
   "cell_type": "markdown",
   "metadata": {},
   "source": [
    "По тепловой карте также видно, что имеется корреляция столбца exited со столбцами age, is_active_memeber и balance. На графиках выше получалась такая же зависимость"
   ]
  },
  {
   "cell_type": "markdown",
   "metadata": {},
   "source": [
    "### Вывод"
   ]
  },
  {
   "cell_type": "markdown",
   "metadata": {},
   "source": [
    "В ходе данного раздела мы сделали следующее:\n",
    "\n",
    "1) изучили данные, в которых были выявлены и исправлены некоторые потенциальные ошибки:\n",
    "    - преобразовали названия столбцов\n",
    "    - приведены все данные к нижнему регистру\n",
    "    - заполнены пропуски в столбце tenure\n",
    "    - изменен тип данных столбца tenure\n",
    "    - удалены столбцы, которые не имеют \n",
    "    \n",
    "2) был произведен исследовательский анализ данных, на основании которого можно составить портрет человека, который может покинуть банк:\n",
    "\n",
    "    - клиент из Германии\n",
    "    - женский пол\n",
    "    - старшего возраста\n",
    "    - имеет более высокий баланс, чем те, кто остаются\n",
    "    - низкий кредитный рейтинг\n",
    "    - имеет более 2х продуктов\n",
    "    - менее активные пользователи\n"
   ]
  },
  {
   "cell_type": "markdown",
   "metadata": {},
   "source": [
    "## Исследование задачи"
   ]
  },
  {
   "cell_type": "markdown",
   "metadata": {},
   "source": [
    "В данном разделе проведем исследование баланса классов и обучем модель на имеющихся даных."
   ]
  },
  {
   "cell_type": "code",
   "execution_count": 43,
   "metadata": {},
   "outputs": [
    {
     "data": {
      "image/png": "[encoded data removed]",
      "text/plain": [
       "<Figure size 720x576 with 1 Axes>"
      ]
     },
     "metadata": {},
     "output_type": "display_data"
    }
   ],
   "source": [
    "# построим диаграмму ушедших и оставшихся клиентов\n",
    "data['exited'].value_counts().plot(kind='pie', autopct='%1.1f%%', shadow=True, figsize=(10,8))\n",
    "plt.legend([\"Остался с банком\", 'Ушёл из банка'], fontsize=10, shadow=True, facecolor='w')\n",
    "plt.title('Распределение пользователей')\n",
    "plt.tight_layout()\n",
    "plt.axis('off')\n",
    "plt.show()"
   ]
  },
  {
   "cell_type": "markdown",
   "metadata": {},
   "source": [
    "Как видим, количество оставшихся клиентов 80%, ушедших - 20%, соотношение 4:1, это говорит о несбалансированности классов.\n",
    "\n",
    "Прежде чем обучать моель на имеющихся данных, проделаем еще несколько преобразований:\n",
    "\n",
    "1) к количественным признакам: credit_score, age, balance, estimated_salary, tenure применим масштабирование\n",
    "\n",
    "2) количество категорий в качественных признаках geography, gender небольшое, поэтому преобразуем их методом OHE"
   ]
  },
  {
   "cell_type": "code",
   "execution_count": 44,
   "metadata": {},
   "outputs": [],
   "source": [
    "# список количественных признаков для масштабирования\n",
    "numerics = ['credit_score', 'age', 'balance', 'estimated_salary']"
   ]
  },
  {
   "cell_type": "code",
   "execution_count": 45,
   "metadata": {},
   "outputs": [],
   "source": [
    "# проведем масштабирование\n",
    "scaler = StandardScaler()\n",
    "data[numerics] = scaler.fit_transform(data[numerics])"
   ]
  },
  {
   "cell_type": "code",
   "execution_count": 46,
   "metadata": {},
   "outputs": [],
   "source": [
    "# используем метод ОНЕ для качественных признаков\n",
    "data = pd.get_dummies(data, drop_first=True)"
   ]
  },
  {
   "cell_type": "code",
   "execution_count": 47,
   "metadata": {},
   "outputs": [
    {
     "data": {
      "text/html": [
       "<div>\n",
       "<style scoped>\n",
       "    .dataframe tbody tr th:only-of-type {\n",
       "        vertical-align: middle;\n",
       "    }\n",
       "\n",
       "    .dataframe tbody tr th {\n",
       "        vertical-align: top;\n",
       "    }\n",
       "\n",
       "    .dataframe thead th {\n",
       "        text-align: right;\n",
       "    }\n",
       "</style>\n",
       "<table border=\"1\" class=\"dataframe\">\n",
       "  <thead>\n",
       "    <tr style=\"text-align: right;\">\n",
       "      <th></th>\n",
       "      <th>credit_score</th>\n",
       "      <th>age</th>\n",
       "      <th>balance</th>\n",
       "      <th>num_of_products</th>\n",
       "      <th>has_cr_card</th>\n",
       "      <th>is_active_member</th>\n",
       "      <th>estimated_salary</th>\n",
       "      <th>exited</th>\n",
       "      <th>geography_germany</th>\n",
       "      <th>geography_spain</th>\n",
       "      <th>...</th>\n",
       "      <th>tenure_1.0</th>\n",
       "      <th>tenure_2.0</th>\n",
       "      <th>tenure_3.0</th>\n",
       "      <th>tenure_4.0</th>\n",
       "      <th>tenure_5.0</th>\n",
       "      <th>tenure_6.0</th>\n",
       "      <th>tenure_7.0</th>\n",
       "      <th>tenure_8.0</th>\n",
       "      <th>tenure_9.0</th>\n",
       "      <th>tenure_10.0</th>\n",
       "    </tr>\n",
       "  </thead>\n",
       "  <tbody>\n",
       "    <tr>\n",
       "      <th>0</th>\n",
       "      <td>-0.326221</td>\n",
       "      <td>0.293517</td>\n",
       "      <td>-1.225848</td>\n",
       "      <td>1</td>\n",
       "      <td>1</td>\n",
       "      <td>1</td>\n",
       "      <td>0.021886</td>\n",
       "      <td>1</td>\n",
       "      <td>0</td>\n",
       "      <td>0</td>\n",
       "      <td>...</td>\n",
       "      <td>0</td>\n",
       "      <td>1</td>\n",
       "      <td>0</td>\n",
       "      <td>0</td>\n",
       "      <td>0</td>\n",
       "      <td>0</td>\n",
       "      <td>0</td>\n",
       "      <td>0</td>\n",
       "      <td>0</td>\n",
       "      <td>0</td>\n",
       "    </tr>\n",
       "    <tr>\n",
       "      <th>1</th>\n",
       "      <td>-0.440036</td>\n",
       "      <td>0.198164</td>\n",
       "      <td>0.117350</td>\n",
       "      <td>1</td>\n",
       "      <td>0</td>\n",
       "      <td>1</td>\n",
       "      <td>0.216534</td>\n",
       "      <td>0</td>\n",
       "      <td>0</td>\n",
       "      <td>1</td>\n",
       "      <td>...</td>\n",
       "      <td>1</td>\n",
       "      <td>0</td>\n",
       "      <td>0</td>\n",
       "      <td>0</td>\n",
       "      <td>0</td>\n",
       "      <td>0</td>\n",
       "      <td>0</td>\n",
       "      <td>0</td>\n",
       "      <td>0</td>\n",
       "      <td>0</td>\n",
       "    </tr>\n",
       "    <tr>\n",
       "      <th>2</th>\n",
       "      <td>-1.536794</td>\n",
       "      <td>0.293517</td>\n",
       "      <td>1.333053</td>\n",
       "      <td>3</td>\n",
       "      <td>1</td>\n",
       "      <td>0</td>\n",
       "      <td>0.240687</td>\n",
       "      <td>1</td>\n",
       "      <td>0</td>\n",
       "      <td>0</td>\n",
       "      <td>...</td>\n",
       "      <td>0</td>\n",
       "      <td>0</td>\n",
       "      <td>0</td>\n",
       "      <td>0</td>\n",
       "      <td>0</td>\n",
       "      <td>0</td>\n",
       "      <td>0</td>\n",
       "      <td>1</td>\n",
       "      <td>0</td>\n",
       "      <td>0</td>\n",
       "    </tr>\n",
       "    <tr>\n",
       "      <th>3</th>\n",
       "      <td>0.501521</td>\n",
       "      <td>0.007457</td>\n",
       "      <td>-1.225848</td>\n",
       "      <td>2</td>\n",
       "      <td>0</td>\n",
       "      <td>0</td>\n",
       "      <td>-0.108918</td>\n",
       "      <td>0</td>\n",
       "      <td>0</td>\n",
       "      <td>0</td>\n",
       "      <td>...</td>\n",
       "      <td>1</td>\n",
       "      <td>0</td>\n",
       "      <td>0</td>\n",
       "      <td>0</td>\n",
       "      <td>0</td>\n",
       "      <td>0</td>\n",
       "      <td>0</td>\n",
       "      <td>0</td>\n",
       "      <td>0</td>\n",
       "      <td>0</td>\n",
       "    </tr>\n",
       "    <tr>\n",
       "      <th>4</th>\n",
       "      <td>2.063884</td>\n",
       "      <td>0.388871</td>\n",
       "      <td>0.785728</td>\n",
       "      <td>1</td>\n",
       "      <td>1</td>\n",
       "      <td>1</td>\n",
       "      <td>-0.365276</td>\n",
       "      <td>0</td>\n",
       "      <td>0</td>\n",
       "      <td>1</td>\n",
       "      <td>...</td>\n",
       "      <td>0</td>\n",
       "      <td>1</td>\n",
       "      <td>0</td>\n",
       "      <td>0</td>\n",
       "      <td>0</td>\n",
       "      <td>0</td>\n",
       "      <td>0</td>\n",
       "      <td>0</td>\n",
       "      <td>0</td>\n",
       "      <td>0</td>\n",
       "    </tr>\n",
       "    <tr>\n",
       "      <th>...</th>\n",
       "      <td>...</td>\n",
       "      <td>...</td>\n",
       "      <td>...</td>\n",
       "      <td>...</td>\n",
       "      <td>...</td>\n",
       "      <td>...</td>\n",
       "      <td>...</td>\n",
       "      <td>...</td>\n",
       "      <td>...</td>\n",
       "      <td>...</td>\n",
       "      <td>...</td>\n",
       "      <td>...</td>\n",
       "      <td>...</td>\n",
       "      <td>...</td>\n",
       "      <td>...</td>\n",
       "      <td>...</td>\n",
       "      <td>...</td>\n",
       "      <td>...</td>\n",
       "      <td>...</td>\n",
       "      <td>...</td>\n",
       "      <td>...</td>\n",
       "    </tr>\n",
       "    <tr>\n",
       "      <th>9995</th>\n",
       "      <td>1.246488</td>\n",
       "      <td>0.007457</td>\n",
       "      <td>-1.225848</td>\n",
       "      <td>2</td>\n",
       "      <td>1</td>\n",
       "      <td>0</td>\n",
       "      <td>-0.066419</td>\n",
       "      <td>0</td>\n",
       "      <td>0</td>\n",
       "      <td>0</td>\n",
       "      <td>...</td>\n",
       "      <td>0</td>\n",
       "      <td>0</td>\n",
       "      <td>0</td>\n",
       "      <td>0</td>\n",
       "      <td>1</td>\n",
       "      <td>0</td>\n",
       "      <td>0</td>\n",
       "      <td>0</td>\n",
       "      <td>0</td>\n",
       "      <td>0</td>\n",
       "    </tr>\n",
       "    <tr>\n",
       "      <th>9996</th>\n",
       "      <td>-1.391939</td>\n",
       "      <td>-0.373958</td>\n",
       "      <td>-0.306379</td>\n",
       "      <td>1</td>\n",
       "      <td>1</td>\n",
       "      <td>1</td>\n",
       "      <td>0.027988</td>\n",
       "      <td>0</td>\n",
       "      <td>0</td>\n",
       "      <td>0</td>\n",
       "      <td>...</td>\n",
       "      <td>0</td>\n",
       "      <td>0</td>\n",
       "      <td>0</td>\n",
       "      <td>0</td>\n",
       "      <td>0</td>\n",
       "      <td>0</td>\n",
       "      <td>0</td>\n",
       "      <td>0</td>\n",
       "      <td>0</td>\n",
       "      <td>1</td>\n",
       "    </tr>\n",
       "    <tr>\n",
       "      <th>9997</th>\n",
       "      <td>0.604988</td>\n",
       "      <td>-0.278604</td>\n",
       "      <td>-1.225848</td>\n",
       "      <td>1</td>\n",
       "      <td>0</td>\n",
       "      <td>1</td>\n",
       "      <td>-1.008643</td>\n",
       "      <td>1</td>\n",
       "      <td>0</td>\n",
       "      <td>0</td>\n",
       "      <td>...</td>\n",
       "      <td>0</td>\n",
       "      <td>0</td>\n",
       "      <td>0</td>\n",
       "      <td>0</td>\n",
       "      <td>0</td>\n",
       "      <td>0</td>\n",
       "      <td>1</td>\n",
       "      <td>0</td>\n",
       "      <td>0</td>\n",
       "      <td>0</td>\n",
       "    </tr>\n",
       "    <tr>\n",
       "      <th>9998</th>\n",
       "      <td>1.256835</td>\n",
       "      <td>0.293517</td>\n",
       "      <td>-0.022608</td>\n",
       "      <td>2</td>\n",
       "      <td>1</td>\n",
       "      <td>0</td>\n",
       "      <td>-0.125231</td>\n",
       "      <td>1</td>\n",
       "      <td>1</td>\n",
       "      <td>0</td>\n",
       "      <td>...</td>\n",
       "      <td>0</td>\n",
       "      <td>0</td>\n",
       "      <td>1</td>\n",
       "      <td>0</td>\n",
       "      <td>0</td>\n",
       "      <td>0</td>\n",
       "      <td>0</td>\n",
       "      <td>0</td>\n",
       "      <td>0</td>\n",
       "      <td>0</td>\n",
       "    </tr>\n",
       "    <tr>\n",
       "      <th>9999</th>\n",
       "      <td>1.463771</td>\n",
       "      <td>-1.041433</td>\n",
       "      <td>0.859965</td>\n",
       "      <td>1</td>\n",
       "      <td>1</td>\n",
       "      <td>0</td>\n",
       "      <td>-1.076370</td>\n",
       "      <td>0</td>\n",
       "      <td>0</td>\n",
       "      <td>0</td>\n",
       "      <td>...</td>\n",
       "      <td>0</td>\n",
       "      <td>0</td>\n",
       "      <td>0</td>\n",
       "      <td>0</td>\n",
       "      <td>1</td>\n",
       "      <td>0</td>\n",
       "      <td>0</td>\n",
       "      <td>0</td>\n",
       "      <td>0</td>\n",
       "      <td>0</td>\n",
       "    </tr>\n",
       "  </tbody>\n",
       "</table>\n",
       "<p>10000 rows × 21 columns</p>\n",
       "</div>"
      ],
      "text/plain": [
       "      credit_score       age   balance  num_of_products  has_cr_card  \\\n",
       "0        -0.326221  0.293517 -1.225848                1            1   \n",
       "1        -0.440036  0.198164  0.117350                1            0   \n",
       "2        -1.536794  0.293517  1.333053                3            1   \n",
       "3         0.501521  0.007457 -1.225848                2            0   \n",
       "4         2.063884  0.388871  0.785728                1            1   \n",
       "...            ...       ...       ...              ...          ...   \n",
       "9995      1.246488  0.007457 -1.225848                2            1   \n",
       "9996     -1.391939 -0.373958 -0.306379                1            1   \n",
       "9997      0.604988 -0.278604 -1.225848                1            0   \n",
       "9998      1.256835  0.293517 -0.022608                2            1   \n",
       "9999      1.463771 -1.041433  0.859965                1            1   \n",
       "\n",
       "      is_active_member  estimated_salary  exited  geography_germany  \\\n",
       "0                    1          0.021886       1                  0   \n",
       "1                    1          0.216534       0                  0   \n",
       "2                    0          0.240687       1                  0   \n",
       "3                    0         -0.108918       0                  0   \n",
       "4                    1         -0.365276       0                  0   \n",
       "...                ...               ...     ...                ...   \n",
       "9995                 0         -0.066419       0                  0   \n",
       "9996                 1          0.027988       0                  0   \n",
       "9997                 1         -1.008643       1                  0   \n",
       "9998                 0         -0.125231       1                  1   \n",
       "9999                 0         -1.076370       0                  0   \n",
       "\n",
       "      geography_spain  ...  tenure_1.0  tenure_2.0  tenure_3.0  tenure_4.0  \\\n",
       "0                   0  ...           0           1           0           0   \n",
       "1                   1  ...           1           0           0           0   \n",
       "2                   0  ...           0           0           0           0   \n",
       "3                   0  ...           1           0           0           0   \n",
       "4                   1  ...           0           1           0           0   \n",
       "...               ...  ...         ...         ...         ...         ...   \n",
       "9995                0  ...           0           0           0           0   \n",
       "9996                0  ...           0           0           0           0   \n",
       "9997                0  ...           0           0           0           0   \n",
       "9998                0  ...           0           0           1           0   \n",
       "9999                0  ...           0           0           0           0   \n",
       "\n",
       "      tenure_5.0  tenure_6.0  tenure_7.0  tenure_8.0  tenure_9.0  tenure_10.0  \n",
       "0              0           0           0           0           0            0  \n",
       "1              0           0           0           0           0            0  \n",
       "2              0           0           0           1           0            0  \n",
       "3              0           0           0           0           0            0  \n",
       "4              0           0           0           0           0            0  \n",
       "...          ...         ...         ...         ...         ...          ...  \n",
       "9995           1           0           0           0           0            0  \n",
       "9996           0           0           0           0           0            1  \n",
       "9997           0           0           1           0           0            0  \n",
       "9998           0           0           0           0           0            0  \n",
       "9999           1           0           0           0           0            0  \n",
       "\n",
       "[10000 rows x 21 columns]"
      ]
     },
     "metadata": {},
     "output_type": "display_data"
    }
   ],
   "source": [
    "# выведем на экран таблицу\n",
    "data"
   ]
  },
  {
   "cell_type": "markdown",
   "metadata": {},
   "source": [
    "Данные готовы для обучения модели. \n",
    "\n",
    "Для начала разделим данные на признаки и целевой признак"
   ]
  },
  {
   "cell_type": "code",
   "execution_count": 48,
   "metadata": {},
   "outputs": [],
   "source": [
    "# разделение данных на признаки и целевой признак\n",
    "features = data.drop('exited', axis=1)\n",
    "target = data['exited']"
   ]
  },
  {
   "cell_type": "markdown",
   "metadata": {},
   "source": [
    "Разделим данные на тренировочную, тестовую и валидационные выборки в соотношении 3:1:1 (60% тренировачная выборка, 20% валидационная выборка, 20% тестовая выборка)"
   ]
  },
  {
   "cell_type": "code",
   "execution_count": 49,
   "metadata": {},
   "outputs": [],
   "source": [
    "# для начала выдели тренировочную и промежуточную выборки, затем промежуточную выборку разделим на тренировочную и валидационную\n",
    "features_train, features_valid_test, target_train, target_valid_test = train_test_split(features, target, test_size=0.4, random_state=12345)\n",
    "features_valid, features_test, target_valid, target_test = train_test_split(features_valid_test, target_valid_test, test_size=0.5, random_state=12345)"
   ]
  },
  {
   "cell_type": "code",
   "execution_count": 50,
   "metadata": {},
   "outputs": [
    {
     "name": "stdout",
     "output_type": "stream",
     "text": [
      "Размеры наборов данных:\n",
      "features_train:  (6000, 20) target_train:  (6000,)\n",
      "features_valid:  (2000, 20) target_valid:  (2000,)\n",
      "features_test:   (2000, 20) target_test:  (2000,)\n"
     ]
    }
   ],
   "source": [
    "# выведем размеры получившихся выборок\n",
    "print('Размеры наборов данных:')\n",
    "print('features_train: ', features_train.shape, 'target_train: ', target_train.shape)\n",
    "print('features_valid: ', features_valid.shape, 'target_valid: ', target_valid.shape)\n",
    "print('features_test:  ', features_test.shape, 'target_test: ', target_test.shape)"
   ]
  },
  {
   "cell_type": "code",
   "execution_count": 51,
   "metadata": {},
   "outputs": [
    {
     "name": "stdout",
     "output_type": "stream",
     "text": [
      "True\n",
      "True\n"
     ]
    }
   ],
   "source": [
    "# проверим соответствие размеров выборок общему количеству строк исходного файла\n",
    "print(features_train.shape[0] + features_valid.shape[0] + features_test.shape[0] == data.shape[0])\n",
    "print(target_train.shape[0] + target_valid.shape[0] + target_test.shape[0] == data.shape[0])"
   ]
  },
  {
   "cell_type": "markdown",
   "metadata": {},
   "source": [
    "Все строки исходной таблицы разделены между выборками верно, ничего не упустили. Переходим к обучению модели без учета баланса классов. Обучим модел с использованием различных моделей обучения:\n",
    "\n",
    "1) решаюшее дерево\n",
    "\n",
    "2) случайный лес\n",
    "\n",
    "3) логическая регрессия"
   ]
  },
  {
   "cell_type": "markdown",
   "metadata": {},
   "source": [
    "### Решающее дерево"
   ]
  },
  {
   "cell_type": "markdown",
   "metadata": {},
   "source": [
    "Обучем модель решающим деревом Определим при каких параметрах достигаются лучшие результаты по F1 мере и AUC-ROC"
   ]
  },
  {
   "cell_type": "code",
   "execution_count": 52,
   "metadata": {},
   "outputs": [
    {
     "name": "stdout",
     "output_type": "stream",
     "text": [
      "max_depth = 1: f1 мера: 0.0, AUC-ROC: 0.5\n",
      "max_depth = 2: f1 мера: 0.5217391304347825, AUC-ROC: 0.6898420629207774\n",
      "max_depth = 3: f1 мера: 0.4234875444839857, AUC-ROC: 0.6344431069629021\n",
      "max_depth = 4: f1 мера: 0.5506807866868382, AUC-ROC: 0.6984239561090981\n",
      "max_depth = 5: f1 мера: 0.5383411580594679, AUC-ROC: 0.6902549011305414\n",
      "max_depth = 6: f1 мера: 0.5688350983358548, AUC-ROC: 0.7074973233566619\n",
      "max_depth = 7: f1 мера: 0.5329153605015674, AUC-ROC: 0.6875465010071438\n",
      "max_depth = 8: f1 мера: 0.5294117647058824, AUC-ROC: 0.6865302838754167\n",
      "max_depth = 9: f1 мера: 0.5526315789473685, AUC-ROC: 0.7017402718380827\n",
      "max_depth = 10: f1 мера: 0.5230769230769231, AUC-ROC: 0.6889180916894005\n",
      "max_depth = 11: f1 мера: 0.5101214574898785, AUC-ROC: 0.6837251011680447\n",
      "max_depth = 12: f1 мера: 0.5079365079365079, AUC-ROC: 0.6835209504049746\n"
     ]
    }
   ],
   "source": [
    "# выведем результаты с максимальной глубиной дерева от 1 до 13 с шагом 1\n",
    "for depth in range(1, 13):\n",
    "    model_tree = DecisionTreeClassifier(random_state=12345, max_depth = depth)\n",
    "    model_tree.fit(features_train, target_train)\n",
    "    predictions_tree_valid = model_tree.predict(features_valid)\n",
    "    f1_tree = f1_score(target_valid, predictions_tree_valid)\n",
    "    roc_auc_tree = roc_auc_score(target_valid, predictions_tree_valid)\n",
    "    print(f\"max_depth = {depth}: f1 мера: {f1_tree}, AUC-ROC: {roc_auc_tree}\")"
   ]
  },
  {
   "cell_type": "markdown",
   "metadata": {},
   "source": [
    "Наилучшего результата по F1 мере = 0.569 и AUC-ROC = 0.707 удалось достичь при максимальной глубине - 9. Но этих показателей недостаточно для выполнения задания. Скорее всего, проблема в том, что классы не сбалансированы. Исследуем другую модель"
   ]
  },
  {
   "cell_type": "markdown",
   "metadata": {},
   "source": [
    "### Случайный лес"
   ]
  },
  {
   "cell_type": "code",
   "execution_count": 53,
   "metadata": {},
   "outputs": [
    {
     "name": "stdout",
     "output_type": "stream",
     "text": [
      "est = 1: f1 мера: 0.4412470023980815, AUC-ROC: 0.6467707885965921\n",
      "est = 3: f1 мера: 0.5149051490514905, AUC-ROC: 0.6861854959200092\n",
      "est = 5: f1 мера: 0.5383542538354255, AUC-ROC: 0.6973593476853841\n",
      "est = 7: f1 мера: 0.5569620253164557, AUC-ROC: 0.7068168208130947\n",
      "est = 9: f1 мера: 0.5655976676384841, AUC-ROC: 0.7086692999594723\n",
      "est = 11: f1 мера: 0.5705967976710334, AUC-ROC: 0.7113777000828702\n",
      "est = 13: f1 мера: 0.5596465390279823, AUC-ROC: 0.7048327778416275\n",
      "est = 15: f1 мера: 0.5659259259259259, AUC-ROC: 0.7076092282193821\n",
      "est = 17: f1 мера: 0.5650887573964496, AUC-ROC: 0.7072931725935918\n",
      "est = 19: f1 мера: 0.5718518518518518, AUC-ROC: 0.7106336839685699\n",
      "est = 21: f1 мера: 0.5790251107828656, AUC-ROC: 0.7145382563407715\n",
      "est = 23: f1 мера: 0.5714285714285715, AUC-ROC: 0.7108816893400032\n",
      "est = 25: f1 мера: 0.5777777777777778, AUC-ROC: 0.7136581397177578\n",
      "est = 27: f1 мера: 0.5898203592814371, AUC-ROC: 0.7188949848474767\n",
      "est = 29: f1 мера: 0.5898203592814371, AUC-ROC: 0.7188949848474767\n",
      "est = 31: f1 мера: 0.592814371257485, AUC-ROC: 0.7204072127220706\n",
      "est = 33: f1 мера: 0.5907046476761619, AUC-ROC: 0.7192110404732669\n",
      "est = 35: f1 мера: 0.5852187028657616, AUC-ROC: 0.7159385793526454\n",
      "est = 37: f1 мера: 0.5822021116138764, AUC-ROC: 0.7144263514780516\n",
      "est = 39: f1 мера: 0.5847076461769116, AUC-ROC: 0.7161865847240789\n",
      "est = 41: f1 мера: 0.5873493975903614, AUC-ROC: 0.7171347516014493\n",
      "est = 43: f1 мера: 0.5909090909090908, AUC-ROC: 0.7183989741046098\n",
      "est = 45: f1 мера: 0.5873493975903614, AUC-ROC: 0.7171347516014493\n",
      "est = 47: f1 мера: 0.5848484848484847, AUC-ROC: 0.7153745183554219\n",
      "est = 49: f1 мера: 0.5864661654135339, AUC-ROC: 0.7168186959756593\n"
     ]
    }
   ],
   "source": [
    "# количество деревьев в лесу от 1 до 50\n",
    "for est in range(1, 50, 2):\n",
    "    model_forest = RandomForestClassifier(random_state=12345, n_estimators=est)\n",
    "    model_forest.fit(features_train, target_train)\n",
    "    predictions_forest_valid = model_forest.predict(features_valid)\n",
    "    f1_forest = f1_score(target_valid, predictions_forest_valid)\n",
    "    roc_auc_forest = roc_auc_score(target_valid, predictions_forest_valid)\n",
    "    print(f\"est = {est}: f1 мера: {f1_forest}, AUC-ROC: {roc_auc_forest}\")"
   ]
  },
  {
   "cell_type": "markdown",
   "metadata": {},
   "source": [
    "Случайный лес работает медленнее, чем решающее дерево, но по значению F1 меры удалось достичь 0.593, но при этом значение AUC-ROC недостаточно высокое 0.72. Данные значения достигаются при количестве деревьев - 31. Посмотрим, как будет работать модель после того, как разберемся с балансом классов."
   ]
  },
  {
   "cell_type": "markdown",
   "metadata": {},
   "source": [
    "### Логическая регрессия"
   ]
  },
  {
   "cell_type": "code",
   "execution_count": 54,
   "metadata": {},
   "outputs": [
    {
     "name": "stdout",
     "output_type": "stream",
     "text": [
      "f1 мера: 0.3322147651006711, AUC-ROC: 0.5934526581941579\n"
     ]
    }
   ],
   "source": [
    "# обучим модель методом логической регрессии\n",
    "model_regrassion = LogisticRegression(random_state=12345)\n",
    "model_regrassion.fit(features_train, target_train)\n",
    "predictions_regrassion_valid = model_regrassion.predict(features_valid)\n",
    "f1_regrassion = f1_score(target_valid, predictions_regrassion_valid)\n",
    "roc_auc_regrassion = roc_auc_score(target_valid, predictions_regrassion_valid)\n",
    "print(f\"f1 мера: {f1_regrassion}, AUC-ROC: {roc_auc_regrassion}\")"
   ]
  },
  {
   "cell_type": "markdown",
   "metadata": {},
   "source": [
    "При использовании логической регрессии удалось добиться F1 меры 0.332, AUC-ROC - 0.59. Данных показателей недостаточно по условиям задачи."
   ]
  },
  {
   "cell_type": "markdown",
   "metadata": {},
   "source": [
    "### Вывод"
   ]
  },
  {
   "cell_type": "markdown",
   "metadata": {},
   "source": [
    "В ходе выполнения данного блока было получено следующее:\n",
    "\n",
    "1) даже на несбалансированной выборке наилучшее значение F1 меры мы получили 0.593 для случайного леса, с количеством деревьев 31. Но при этом показатель AUC-ROC далек от идеала и составляет 0.72, но этот показатель в данном варианте такдже самый высокий\n",
    "\n",
    "2) неплохо себя показалa модель решающее дерево с максимальной глубиной 9 (F1 мера - 0.569, AUC-ROC - 0.707)\n",
    "\n",
    "3) а показатели логической регрессии самые плохие (F1 мера - 0.332, AUC-ROC - 0.59)"
   ]
  },
  {
   "cell_type": "markdown",
   "metadata": {},
   "source": [
    "## Борьба с дисбалансом"
   ]
  },
  {
   "cell_type": "markdown",
   "metadata": {},
   "source": [
    "Выше нами было определено, что соотношение классов в нашей выборке 4:1 (доля 4 - тех, кто остается, и 1 - тех, кто уходит). Для борьбы с дисбалансом классов попробуем:\n",
    "\n",
    "1) взвешивание классов\n",
    "\n",
    "2) увеличение выборки положительного класса с перемешиванием объектов\n",
    "\n",
    "3) уменьшение выборки отрицательного класса с перемешиванием объектов"
   ]
  },
  {
   "cell_type": "markdown",
   "metadata": {},
   "source": [
    "### Взвешивание классов"
   ]
  },
  {
   "cell_type": "markdown",
   "metadata": {},
   "source": [
    "Сбалансируем классы, указанием в модели дополнительного параметра: class_weight='balanced'. Посмотрим, как изменятся показатели F1 мера и AUC-ROC."
   ]
  },
  {
   "cell_type": "code",
   "execution_count": 55,
   "metadata": {},
   "outputs": [
    {
     "name": "stdout",
     "output_type": "stream",
     "text": [
      "max_depth = 1: f1 мера: 0.4994903160040775, AUC-ROC: 0.6925565119556736\n",
      "max_depth = 2: f1 мера: 0.541015625, AUC-ROC: 0.7273574120337045\n",
      "max_depth = 3: f1 мера: 0.541015625, AUC-ROC: 0.7273574120337045\n",
      "max_depth = 4: f1 мера: 0.526573998364677, AUC-ROC: 0.7325125968581955\n",
      "max_depth = 5: f1 мера: 0.5948827292110873, AUC-ROC: 0.7575626516008444\n",
      "max_depth = 6: f1 мера: 0.5595463137996219, AUC-ROC: 0.7453438503741252\n",
      "max_depth = 7: f1 мера: 0.5530227948463825, AUC-ROC: 0.7351227021697445\n",
      "max_depth = 8: f1 мера: 0.5372290292177191, AUC-ROC: 0.7277611768762211\n",
      "max_depth = 9: f1 мера: 0.5394990366088632, AUC-ROC: 0.7274693168964246\n",
      "max_depth = 10: f1 мера: 0.5196998123827392, AUC-ROC: 0.7140830757505187\n",
      "max_depth = 11: f1 мера: 0.5349301397205589, AUC-ROC: 0.7207005849297419\n",
      "max_depth = 12: f1 мера: 0.5059760956175299, AUC-ROC: 0.698897283433846\n"
     ]
    }
   ],
   "source": [
    "# решающее дерево\n",
    "for depth in range(1, 13):\n",
    "    model_tree = DecisionTreeClassifier(random_state=12345, max_depth = depth, class_weight='balanced')\n",
    "    model_tree.fit(features_train, target_train)\n",
    "    predictions_tree_valid = model_tree.predict(features_valid)\n",
    "    f1_tree = f1_score(target_valid, predictions_tree_valid)\n",
    "    roc_auc_tree = roc_auc_score(target_valid, predictions_tree_valid)\n",
    "    print(f\"max_depth = {depth}: f1 мера: {f1_tree}, AUC-ROC: {roc_auc_tree}\")"
   ]
  },
  {
   "cell_type": "markdown",
   "metadata": {},
   "source": [
    "В решающем дереве благодаря балансированию классов мы получилипри глубине дерева 5 F1 мера = 0.595, AUC-ROC = 0.757. Значение F1 меры выше установленного заданием, так же выше и значение AUC-ROC."
   ]
  },
  {
   "cell_type": "code",
   "execution_count": 56,
   "metadata": {},
   "outputs": [
    {
     "name": "stdout",
     "output_type": "stream",
     "text": [
      "est = 1: f1 мера: 0.43742690058479533, AUC-ROC: 0.644670304078781\n",
      "est = 3: f1 мера: 0.47154471544715443, AUC-ROC: 0.6619898499265058\n",
      "est = 5: f1 мера: 0.49502133712660035, AUC-ROC: 0.6730517968291606\n",
      "est = 7: f1 мера: 0.5426136363636364, AUC-ROC: 0.6984436150714679\n",
      "est = 9: f1 мера: 0.5301914580265096, AUC-ROC: 0.6897104990956877\n",
      "est = 11: f1 мера: 0.5387994143484627, AUC-ROC: 0.6944951880909032\n",
      "est = 13: f1 мера: 0.5422222222222222, AUC-ROC: 0.6955114052226302\n",
      "est = 15: f1 мера: 0.5255255255255256, AUC-ROC: 0.6862580828579897\n",
      "est = 17: f1 мера: 0.5451807228915662, AUC-ROC: 0.6959635613571338\n",
      "est = 19: f1 мера: 0.5598802395209581, AUC-ROC: 0.7037727061015371\n",
      "est = 21: f1 мера: 0.5479041916167665, AUC-ROC: 0.6977237946031611\n",
      "est = 23: f1 мера: 0.5517241379310345, AUC-ROC: 0.6995520781035452\n",
      "est = 25: f1 мера: 0.5503759398496241, AUC-ROC: 0.6986719614805316\n",
      "est = 27: f1 мера: 0.5589123867069486, AUC-ROC: 0.70264458410709\n",
      "est = 29: f1 мера: 0.5592705167173253, AUC-ROC: 0.7023965787356565\n",
      "est = 31: f1 мера: 0.5701219512195123, AUC-ROC: 0.7075653736110188\n",
      "est = 33: f1 мера: 0.575301204819277, AUC-ROC: 0.7110858401030735\n",
      "est = 35: f1 мера: 0.5804511278195489, AUC-ROC: 0.7137942402264712\n",
      "est = 37: f1 мера: 0.5761689291101055, AUC-ROC: 0.7114018957288636\n",
      "est = 39: f1 мера: 0.5757575757575758, AUC-ROC: 0.7108378347316401\n",
      "est = 41: f1 мера: 0.5714285714285714, AUC-ROC: 0.7084454902340324\n",
      "est = 43: f1 мера: 0.5709923664122137, AUC-ROC: 0.7078814292368089\n",
      "est = 45: f1 мера: 0.5709923664122137, AUC-ROC: 0.7078814292368089\n",
      "est = 47: f1 мера: 0.565284178187404, AUC-ROC: 0.7046089681161875\n",
      "est = 49: f1 мера: 0.5674846625766871, AUC-ROC: 0.7058051403649913\n"
     ]
    }
   ],
   "source": [
    "# случайный лес\n",
    "for est in range(1, 50, 2):\n",
    "    model_forest = RandomForestClassifier(random_state=12345, n_estimators=est, class_weight='balanced')\n",
    "    model_forest.fit(features_train, target_train)\n",
    "    predictions_forest_valid = model_forest.predict(features_valid)\n",
    "    f1_forest = f1_score(target_valid, predictions_forest_valid)\n",
    "    roc_auc_forest = roc_auc_score(target_valid, predictions_forest_valid)\n",
    "    print(f\"est = {est}: f1 мера: {f1_forest}, AUC-ROC: {roc_auc_forest}\")"
   ]
  },
  {
   "cell_type": "markdown",
   "metadata": {},
   "source": [
    "А вот в модели случайный лес после балансировнаия классов мы не достигли установленного условиями задачи значения F1 меры. При количестве деревьев 35, максимальное значение F1 меры равно 0.58, а AUC-ROC - 0.714"
   ]
  },
  {
   "cell_type": "code",
   "execution_count": 57,
   "metadata": {},
   "outputs": [
    {
     "name": "stdout",
     "output_type": "stream",
     "text": [
      "f1 мера: 0.4887737478411054, AUC-ROC: 0.6940793254253896\n"
     ]
    }
   ],
   "source": [
    "# логическая регрессия\n",
    "model_regrassion = LogisticRegression(random_state=12345, class_weight='balanced')\n",
    "model_regrassion.fit(features_train, target_train)\n",
    "predictions_regrassion_valid = model_regrassion.predict(features_valid)\n",
    "f1_regrassion = f1_score(target_valid, predictions_regrassion_valid)\n",
    "roc_auc_regrassion = roc_auc_score(target_valid, predictions_regrassion_valid)\n",
    "print(f\"f1 мера: {f1_regrassion}, AUC-ROC: {roc_auc_regrassion}\")"
   ]
  },
  {
   "cell_type": "markdown",
   "metadata": {},
   "source": [
    "После устранения дисбаланса данная модель стала выдавать результаты лучше, но все равно не удается получить значения из задания. F1 мера - 0.489, AUC-ROC - 0.694"
   ]
  },
  {
   "cell_type": "markdown",
   "metadata": {},
   "source": [
    "**Вывод:** с использованием взвешивания классов только в оной модели удалось достичь требуемых показателей: модель решающее дерево с глубиной 5, F1 мера равна 0.595, AUC-ROC равна 0.751."
   ]
  },
  {
   "cell_type": "markdown",
   "metadata": {},
   "source": [
    "### Увеличение выборки положительного класса с перемешиванием объектов"
   ]
  },
  {
   "cell_type": "markdown",
   "metadata": {},
   "source": [
    "Напишем функцию для увеличения выборки положительного класса"
   ]
  },
  {
   "cell_type": "code",
   "execution_count": 58,
   "metadata": {},
   "outputs": [],
   "source": [
    "def upsample(features, target, repeat):\n",
    "    \"\"\"\n",
    "    Возвращает новые данные признаков и целевого признака для обучающей выборки\n",
    "    \n",
    "    \"\"\"\n",
    "    features_zeros = features[target == 0]\n",
    "    features_ones = features[target == 1]\n",
    "    target_zeros = target[target == 0]\n",
    "    target_ones = target[target == 1]\n",
    "\n",
    "    features_upsampled = pd.concat([features_zeros] + [features_ones] * repeat)\n",
    "    target_upsampled = pd.concat([target_zeros] + [target_ones] * repeat)\n",
    "    \n",
    "    features_upsampled, target_upsampled = shuffle(features_upsampled, target_upsampled, random_state=12345)\n",
    "    \n",
    "    return features_upsampled, target_upsampled"
   ]
  },
  {
   "cell_type": "markdown",
   "metadata": {},
   "source": [
    "Обучим модель на новых данных, в цикле попробуем установить разные параметры числа повторений, чтобы выбрать лучшую модель."
   ]
  },
  {
   "cell_type": "code",
   "execution_count": 59,
   "metadata": {},
   "outputs": [
    {
     "name": "stdout",
     "output_type": "stream",
     "text": [
      "============================================================\n",
      "repeat = 2\n",
      "best: max_depth = 6, f1 мера: 0.5989010989010989, AUC-ROC: 0.7316884326665415\n",
      "============================================================\n",
      "repeat = 3\n",
      "best: max_depth = 5, f1 мера: 0.584652862362972, AUC-ROC: 0.7355642727091259\n"
     ]
    }
   ],
   "source": [
    "# решающее дерево\n",
    "for rep in range(2,4):\n",
    "    print('=' * 60)\n",
    "    print('repeat = {}'.format(rep))\n",
    "    features_upsampled, target_upsampled = upsample(features_train, target_train, rep)\n",
    "    best_model = None\n",
    "    best_depth = 0\n",
    "    best_f1_tree = 0\n",
    "    best_roc_auc_tree = 0\n",
    "    for depth in range(1, 13):\n",
    "        model_tree = DecisionTreeClassifier(random_state=12345, max_depth = depth)\n",
    "        model_tree.fit(features_upsampled, target_upsampled)\n",
    "        predictions_tree_valid = model_tree.predict(features_valid)\n",
    "        f1_tree = f1_score(target_valid, predictions_tree_valid)\n",
    "        roc_auc_tree = roc_auc_score(target_valid, predictions_tree_valid)\n",
    "        if f1_tree > best_f1_tree:\n",
    "            best_model = model_tree\n",
    "            best_depth = depth\n",
    "            best_f1_tree = f1_tree\n",
    "            best_roc_auc_tree = roc_auc_tree\n",
    "    print(f\"best: max_depth = {best_depth}, f1 мера: {best_f1_tree}, AUC-ROC: {best_roc_auc_tree}\")"
   ]
  },
  {
   "cell_type": "markdown",
   "metadata": {},
   "source": [
    "Благодаря методу увеличения выборки положительного класса мы получили значения F1  меры = 0.598,  AUC-ROC = 0.731 при максимальной глубине - 6, repeat = 2."
   ]
  },
  {
   "cell_type": "code",
   "execution_count": 60,
   "metadata": {
    "scrolled": true
   },
   "outputs": [
    {
     "name": "stdout",
     "output_type": "stream",
     "text": [
      "============================================================\n",
      "repeat = 2\n",
      "best: est = 41, f1 мера: 0.621438263229308, AUC-ROC: 0.7454784386549641\n",
      "============================================================\n",
      "repeat = 3\n",
      "best: est = 43, f1 мера: 0.6203208556149734, AUC-ROC: 0.7465385103950545\n"
     ]
    }
   ],
   "source": [
    "# случайный лес\n",
    "for rep in range(2,4):\n",
    "    print('=' * 60)\n",
    "    print('repeat = {}'.format(rep))\n",
    "    features_upsampled, target_upsampled = upsample(features_train, target_train, rep)\n",
    "    best_model = None\n",
    "    best_est = 0\n",
    "    best_f1_forest = 0\n",
    "    best_roc_auc_forest = 0\n",
    "    for est in range(1, 50, 2):\n",
    "        model_forest = RandomForestClassifier(random_state=12345, n_estimators=est)\n",
    "        model_forest.fit(features_upsampled, target_upsampled)\n",
    "        predictions_forest_valid = model_forest.predict(features_valid)\n",
    "        f1_forest = f1_score(target_valid, predictions_forest_valid)\n",
    "        roc_auc_forest = roc_auc_score(target_valid, predictions_forest_valid)\n",
    "        if f1_forest > best_f1_forest:\n",
    "            best_model = model_forest\n",
    "            best_est = est\n",
    "            best_f1_forest = f1_forest\n",
    "            best_roc_auc_forest = roc_auc_forest\n",
    "    print(f\"best: est = {best_est}, f1 мера: {best_f1_forest}, AUC-ROC: {best_roc_auc_forest}\")"
   ]
  },
  {
   "cell_type": "markdown",
   "metadata": {},
   "source": [
    "Благодаря методу увеличения выборки положительного класса мы получили значения F1  меры = 0.6214,  AUC-ROC = 0.746 при колиестве деревьев - 41, repeat = 2."
   ]
  },
  {
   "cell_type": "code",
   "execution_count": 61,
   "metadata": {},
   "outputs": [
    {
     "name": "stdout",
     "output_type": "stream",
     "text": [
      "============================================================\n",
      "repeat = 2\n",
      "f1 мера: 0.46609124537607893, AUC-ROC: 0.6616012073627351\n",
      "============================================================\n",
      "repeat = 3\n",
      "f1 мера: 0.49651046859421727, AUC-ROC: 0.6916521996866664\n"
     ]
    }
   ],
   "source": [
    "# логическая регрессия\n",
    "for rep in range(2,4):\n",
    "    print('=' * 60)\n",
    "    print('repeat = {}'.format(rep))\n",
    "    features_upsampled, target_upsampled = upsample(features_train, target_train, rep)\n",
    "    model_regrassion = LogisticRegression(random_state=12345)\n",
    "    model_regrassion.fit(features_upsampled, target_upsampled)\n",
    "    predictions_regrassion_valid = model_regrassion.predict(features_valid)\n",
    "    f1_regrassion = f1_score(target_valid, predictions_regrassion_valid)\n",
    "    roc_auc_regrassion = roc_auc_score(target_valid, predictions_regrassion_valid)\n",
    "    print(f\"f1 мера: {f1_regrassion}, AUC-ROC: {roc_auc_regrassion}\")"
   ]
  },
  {
   "cell_type": "markdown",
   "metadata": {},
   "source": [
    "Благодаря методу увеличения выборки положительного класса мы получили значения F1  меры = 0.49,  AUC-ROC = 0.691, repeat = 3."
   ]
  },
  {
   "cell_type": "markdown",
   "metadata": {},
   "source": [
    "**Вывод:** с использованием увеличения выборки положительного класса с перемешиванием объектов две модели достигли требуемых показателей по F1 мере: решающее дерево (F1 мера = 0.598, AUC-ROC = 0.731 при глубине 6, repeat = 2) и случайный лес (F1 мера = 0.621, AUC-ROC = 0.746 при количестве деревьев - 41, repeat = 2). Лучше всего себя проявила модель случайный лес"
   ]
  },
  {
   "cell_type": "markdown",
   "metadata": {},
   "source": [
    "### Уменьшение выборки отрицательного класса с перемешиванием объектов"
   ]
  },
  {
   "cell_type": "markdown",
   "metadata": {},
   "source": [
    "Напишем функцию для уменьшения выборки отрицательного класса"
   ]
  },
  {
   "cell_type": "code",
   "execution_count": 62,
   "metadata": {},
   "outputs": [],
   "source": [
    "# напишем функцию уменьшения отрицательного класса\n",
    "def downsample(features, target, fraction):\n",
    "    \"\"\"\n",
    "    Возвращает новые данные признаков и целевого признака для обучающей выборки\n",
    "        \n",
    "    \"\"\"\n",
    "    features_zeros = features[target == 0]\n",
    "    features_ones = features[target == 1]\n",
    "    target_zeros = target[target == 0]\n",
    "    target_ones = target[target == 1]\n",
    "\n",
    "    features_downsampled = pd.concat(\n",
    "        [features_zeros.sample(frac=fraction, random_state=12345)] + [features_ones])\n",
    "    target_downsampled = pd.concat(\n",
    "        [target_zeros.sample(frac=fraction, random_state=12345)] + [target_ones])\n",
    "    \n",
    "    features_downsampled, target_downsampled = shuffle(\n",
    "        features_downsampled, target_downsampled, random_state=12345)\n",
    "    \n",
    "    return features_downsampled, target_downsampled"
   ]
  },
  {
   "cell_type": "markdown",
   "metadata": {},
   "source": [
    "Обучим модель на новых данных, перебирая различные значения показателя fraction с шагом 0.05."
   ]
  },
  {
   "cell_type": "code",
   "execution_count": 63,
   "metadata": {},
   "outputs": [
    {
     "name": "stdout",
     "output_type": "stream",
     "text": [
      "============================================================\n",
      "fraction = 0.2\n",
      "best: max_depth = 5, f1 мера: 0.5390879478827362, AUC-ROC: 0.7445423696005903\n",
      "============================================================\n",
      "fraction = 0.25\n",
      "best: max_depth = 5, f1 мера: 0.5931174089068827, AUC-ROC: 0.762931060555653\n",
      "============================================================\n",
      "fraction = 0.3\n",
      "best: max_depth = 5, f1 мера: 0.579212916246216, AUC-ROC: 0.7529095264307187\n",
      "============================================================\n",
      "fraction = 0.35\n",
      "best: max_depth = 3, f1 мера: 0.558282208588957, AUC-ROC: 0.7358470593216752\n",
      "============================================================\n",
      "fraction = 0.4\n",
      "best: max_depth = 7, f1 мера: 0.5726681127982646, AUC-ROC: 0.7399361234945772\n",
      "============================================================\n",
      "fraction = 0.45\n",
      "best: max_depth = 7, f1 мера: 0.5783410138248849, AUC-ROC: 0.7373441649175231\n",
      "============================================================\n",
      "fraction = 0.5\n",
      "best: max_depth = 7, f1 мера: 0.5796766743648961, AUC-ROC: 0.7379762761691033\n",
      "============================================================\n",
      "fraction = 0.55\n",
      "best: max_depth = 8, f1 мера: 0.5707196029776676, AUC-ROC: 0.7251828283500384\n",
      "============================================================\n",
      "fraction = 0.6\n",
      "best: max_depth = 7, f1 мера: 0.5826972010178116, AUC-ROC: 0.7299917129912472\n",
      "============================================================\n",
      "fraction = 0.65\n",
      "best: max_depth = 6, f1 мера: 0.5730824891461649, AUC-ROC: 0.7131379333288974\n",
      "============================================================\n",
      "fraction = 0.7\n",
      "best: max_depth = 7, f1 мера: 0.56158940397351, AUC-ROC: 0.7140815635226441\n",
      "============================================================\n",
      "fraction = 0.75\n",
      "best: max_depth = 6, f1 мера: 0.5681818181818181, AUC-ROC: 0.7120536659428135\n",
      "============================================================\n",
      "fraction = 0.8\n",
      "best: max_depth = 6, f1 мера: 0.5798816568047338, AUC-ROC: 0.7148543119665616\n"
     ]
    }
   ],
   "source": [
    "# решающее дерево\n",
    "for frac in np.arange(0.2, 0.8, 0.05):\n",
    "    print('=' * 60)\n",
    "    print('fraction = {}'.format(round(frac,2)))\n",
    "    features_downsampled, target_downsampled = downsample(features_train, target_train, frac)\n",
    "    best_model = None\n",
    "    best_depth = 0\n",
    "    best_f1_tree = 0\n",
    "    best_roc_auc_tree = 0\n",
    "    for depth in range(1, 13):\n",
    "        model_tree = DecisionTreeClassifier(random_state=12345, max_depth = depth)\n",
    "        model_tree.fit(features_downsampled, target_downsampled)\n",
    "        predictions_tree_valid = model_tree.predict(features_valid)\n",
    "        f1_tree = f1_score(target_valid, predictions_tree_valid)\n",
    "        roc_auc_tree = roc_auc_score(target_valid, predictions_tree_valid)\n",
    "        if f1_tree > best_f1_tree:\n",
    "            best_model = model_tree\n",
    "            best_depth = depth\n",
    "            best_f1_tree = f1_tree\n",
    "            best_roc_auc_tree = roc_auc_tree\n",
    "    print(f\"best: max_depth = {best_depth}, f1 мера: {best_f1_tree}, AUC-ROC: {best_roc_auc_tree}\")"
   ]
  },
  {
   "cell_type": "markdown",
   "metadata": {},
   "source": [
    "Благодаря методу уменьшения выборки отрицательного класса мы получили значения F1  меры = 0.593,  AUC-ROC = 0.763 при максимальной глубине - 5, fraction = 0.25."
   ]
  },
  {
   "cell_type": "code",
   "execution_count": 64,
   "metadata": {},
   "outputs": [
    {
     "name": "stdout",
     "output_type": "stream",
     "text": [
      "============================================================\n",
      "fraction = 0.2\n",
      "best: est = 49, f1 мера: 0.5610169491525424, AUC-ROC: 0.7597130396385171\n",
      "============================================================\n",
      "fraction = 0.25\n",
      "best: est = 47, f1 мера: 0.5823255813953487, AUC-ROC: 0.7656787786037902\n",
      "============================================================\n",
      "fraction = 0.3\n",
      "best: est = 29, f1 мера: 0.601980198019802, AUC-ROC: 0.7726123434088036\n",
      "============================================================\n",
      "fraction = 0.35\n",
      "best: est = 39, f1 мера: 0.613277133825079, AUC-ROC: 0.7722327742122805\n",
      "============================================================\n",
      "fraction = 0.4\n",
      "best: est = 49, f1 мера: 0.6152099886492622, AUC-ROC: 0.7634799992741306\n",
      "============================================================\n",
      "fraction = 0.45\n",
      "best: est = 25, f1 мера: 0.6163215590742996, AUC-ROC: 0.7552232350788475\n",
      "============================================================\n",
      "fraction = 0.5\n",
      "best: est = 21, f1 мера: 0.6435406698564593, AUC-ROC: 0.774678046685499\n",
      "============================================================\n",
      "fraction = 0.55\n",
      "best: est = 41, f1 мера: 0.6273525721455459, AUC-ROC: 0.758271886474029\n",
      "============================================================\n",
      "fraction = 0.6\n",
      "best: est = 35, f1 мера: 0.6175710594315246, AUC-ROC: 0.7489066592466685\n",
      "============================================================\n",
      "fraction = 0.65\n",
      "best: est = 33, f1 мера: 0.6196808510638299, AUC-ROC: 0.7467865157664878\n",
      "============================================================\n",
      "fraction = 0.7\n",
      "best: est = 47, f1 мера: 0.625, AUC-ROC: 0.7473067221553482\n",
      "============================================================\n",
      "fraction = 0.75\n",
      "best: est = 31, f1 мера: 0.6158113730929264, AUC-ROC: 0.7399497335454486\n",
      "============================================================\n",
      "fraction = 0.8\n",
      "best: est = 25, f1 мера: 0.6136680613668062, AUC-ROC: 0.738189500299421\n"
     ]
    }
   ],
   "source": [
    "# случайный лес\n",
    "for frac in np.arange(0.2, 0.8, 0.05):\n",
    "    print('=' * 60)\n",
    "    print('fraction = {}'.format(round(frac,2)))\n",
    "    features_downsampled, target_downsampled = downsample(features_train, target_train, frac)\n",
    "    best_model = None\n",
    "    best_est = 0\n",
    "    best_f1_forest = 0\n",
    "    best_roc_auc_forest = 0\n",
    "    for est in range(1, 50, 2):\n",
    "        model_forest = RandomForestClassifier(random_state=12345, n_estimators=est)\n",
    "        model_forest.fit(features_downsampled, target_downsampled)\n",
    "        predictions_forest_valid = model_forest.predict(features_valid)\n",
    "        f1_forest = f1_score(target_valid, predictions_forest_valid)\n",
    "        roc_auc_forest = roc_auc_score(target_valid, predictions_forest_valid)\n",
    "        if f1_forest > best_f1_forest:\n",
    "            best_model = model_forest\n",
    "            best_est = est\n",
    "            best_f1_forest = f1_forest\n",
    "            best_roc_auc_forest = roc_auc_forest\n",
    "    print(f\"best: est = {best_est}, f1 мера: {best_f1_forest}, AUC-ROC: {best_roc_auc_forest}\")"
   ]
  },
  {
   "cell_type": "markdown",
   "metadata": {},
   "source": [
    "В данной модели наилучшее значение по F1 мере я бы отдала не самому большому значению, а значению немного ниже, но с данного значения начинается заметное постепенное ухудшение показателей. Таким образом, лучшая модель в данном случае с F1 мерой = 0.615, AUC-ROC = 0.76, fraction = 0.4"
   ]
  },
  {
   "cell_type": "code",
   "execution_count": 65,
   "metadata": {},
   "outputs": [
    {
     "name": "stdout",
     "output_type": "stream",
     "text": [
      "============================================================\n",
      "fraction = 0.2\n",
      "f1 мера: 0.4847094801223242, AUC-ROC: 0.6980867292930637\n",
      "============================================================\n",
      "fraction = 0.25\n",
      "f1 мера: 0.47979363714531376, AUC-ROC: 0.6864501357980631\n",
      "============================================================\n",
      "fraction = 0.3\n",
      "f1 мера: 0.5032987747408105, AUC-ROC: 0.7005410751335297\n",
      "============================================================\n",
      "fraction = 0.35\n",
      "f1 мера: 0.5020242914979758, AUC-ROC: 0.6948808061989245\n",
      "============================================================\n",
      "fraction = 0.4\n",
      "f1 мера: 0.5049180327868853, AUC-ROC: 0.6922449930135073\n",
      "============================================================\n",
      "fraction = 0.45\n",
      "f1 мера: 0.48780487804878053, AUC-ROC: 0.6775552114397014\n",
      "============================================================\n",
      "fraction = 0.5\n",
      "f1 мера: 0.4621026894865526, AUC-ROC: 0.6593888179822041\n",
      "============================================================\n",
      "fraction = 0.55\n",
      "f1 мера: 0.4547803617571059, AUC-ROC: 0.6536363031472486\n",
      "============================================================\n",
      "fraction = 0.6\n",
      "f1 мера: 0.4291497975708502, AUC-ROC: 0.6383582649302258\n",
      "============================================================\n",
      "fraction = 0.65\n",
      "f1 мера: 0.40281690140845067, AUC-ROC: 0.6239603433362166\n",
      "============================================================\n",
      "fraction = 0.7\n",
      "f1 мера: 0.3854014598540146, AUC-ROC: 0.6152272273604366\n",
      "============================================================\n",
      "fraction = 0.75\n",
      "f1 мера: 0.37894736842105264, AUC-ROC: 0.6124749726286756\n",
      "============================================================\n",
      "fraction = 0.8\n",
      "f1 мера: 0.3697996918335902, AUC-ROC: 0.6084584953937539\n"
     ]
    }
   ],
   "source": [
    "# логическая регрессия\n",
    "for frac in np.arange(0.2, 0.8, 0.05):\n",
    "    print('=' * 60)\n",
    "    print('fraction = {}'.format(round(frac,2)))\n",
    "    features_downsampled, target_downsampled = downsample(features_train, target_train, frac)\n",
    "    model_regrassion = LogisticRegression(random_state=12345)\n",
    "    model_regrassion.fit(features_downsampled, target_downsampled)\n",
    "    predictions_regrassion_valid = model_regrassion.predict(features_valid)\n",
    "    f1_regrassion = f1_score(target_valid, predictions_regrassion_valid)\n",
    "    roc_auc_regrassion = roc_auc_score(target_valid, predictions_regrassion_valid)\n",
    "    print(f\"f1 мера: {f1_regrassion}, AUC-ROC: {roc_auc_regrassion}\")"
   ]
  },
  {
   "cell_type": "markdown",
   "metadata": {},
   "source": [
    "Данная модель не дотягивает до указанных в условии данных, но наилучшее значение F1 меры = 0.5, AUC-ROC = 0.7, fraction = 0.3"
   ]
  },
  {
   "cell_type": "markdown",
   "metadata": {},
   "source": [
    "### Вывод"
   ]
  },
  {
   "cell_type": "markdown",
   "metadata": {},
   "source": [
    "В ходе выполнения данного блока были использованы три метода для борьбы с дисбалансом классов:\n",
    "\n",
    "1) Взвешивание классов. При использовании данного метода мы получили следующие результаты для трех моделей обучения:\n",
    "    - решающее дерево: F1 мера = 0.595, AUC-ROC = 0.756, max_depth = 5\n",
    "    - случайный лес: F1 мера = 0.58, AUC-ROC = 0.71, est = 35\n",
    "    - логическая регрессия: F1 мера = 0.48, AUC-ROC = 0.69\n",
    "    \n",
    "2) Увеличение выборки положительного класса с перемешиванием объектов. При использовании данного метода мы получили следующие результаты для трех моделей обучения:\n",
    "    - решающее дерево: F1 мера = 0.598, AUC-ROC = 0.731, max_depth = 6,  repeat = 2\n",
    "    - случайный лес: F1 мера = 0.621, AUC-ROC = 0.745, est = 41, repeat = 2\n",
    "    - логическая регрессия: F1 мера = 0.496, AUC-ROC = 0.691, repeat = 3\n",
    "    \n",
    "3) Уменьшение выборки отрицательного класса с перемешиванием объектов. При использовании данного метода мы получили следующие результаты для трех моделей обучения:\n",
    "    - решающее дерево: F1 мера = 0.593, AUC-ROC = 0.763, max_depth = 5, fraction = 0.25\n",
    "    - случайный лес: F1 мера = 0.615, AUC-ROC = 0.75, est = 49, fraction = 0.4\n",
    "    - логическая регрессия: F1 мера = 0.50, AUC-ROC = 0.70, fraction = 0.3\n",
    "    \n",
    "Как видим, наилучшей моделью можно считать несколько, у них значения соответствуют тем, что требуются в задании. f1 мера должна быть больше 0.59. Простестируем следующие можели на тестовом наборе данных:\n",
    "\n",
    "1) Случайный лес с параметрами: est = 41, repeat = 2\n",
    "\n",
    "2) Случайный лес с параметрами: est = 49, fraction = 0.4\n",
    "\n",
    "3) Решающее дерево с параметрами: max_depth = 5, fraction = 0.25\n",
    "\n",
    "Рассмотрим модель Решающее дерево, так как с одной стороны, данные по валидационной модели для модели Случайный лес лучше, но данная модель выполняется значительно медленнее."
   ]
  },
  {
   "cell_type": "markdown",
   "metadata": {},
   "source": [
    "## Тестирование модели"
   ]
  },
  {
   "cell_type": "markdown",
   "metadata": {},
   "source": [
    "### Случайный лес увеличение выборки положительного класса"
   ]
  },
  {
   "cell_type": "code",
   "execution_count": 66,
   "metadata": {},
   "outputs": [
    {
     "name": "stdout",
     "output_type": "stream",
     "text": [
      "Для лучшей модели F1 мера = 0.5818673883626522, AUC-ROC = 0.7221142876845192\n"
     ]
    }
   ],
   "source": [
    "# увеличение выборки положительного класса случайный лес\n",
    "# repeat = 2\n",
    "# est = 41\n",
    "features_upsampled, target_upsampled = upsample(features_train, target_train, 2)\n",
    "model_forest = RandomForestClassifier(random_state=12345, n_estimators=41)\n",
    "model_forest.fit(features_upsampled, target_upsampled)\n",
    "predictions_forest_test = model_forest.predict(features_test)\n",
    "f1_forest_best = f1_score(target_test, predictions_forest_test)\n",
    "roc_auc_forest_best = roc_auc_score(target_test, predictions_forest_test)\n",
    "print(f\"Для лучшей модели F1 мера = {f1_forest_best}, AUC-ROC = {roc_auc_forest_best}\")"
   ]
  },
  {
   "cell_type": "markdown",
   "metadata": {},
   "source": [
    "При тестировании на валидационной выборке данная модель показала лучшие значения F1 меры, равное 0.62, но на тестовой выбрке не дотягивает до уставновленного значения в 0.59. Поэтому данную модель мы использовать не можем."
   ]
  },
  {
   "cell_type": "markdown",
   "metadata": {},
   "source": [
    "### Случайный лес уменьшение выборки отрицательного класса"
   ]
  },
  {
   "cell_type": "code",
   "execution_count": 67,
   "metadata": {},
   "outputs": [
    {
     "name": "stdout",
     "output_type": "stream",
     "text": [
      "Для лучшей модели F1 мера = 0.6232876712328768, AUC-ROC = 0.7656246486505935\n"
     ]
    }
   ],
   "source": [
    "# уменьшение выборки отрицательного класса\n",
    "# fraction = 0.4\n",
    "# est = 49\n",
    "features_downsampled, target_downsampled = downsample(features_train, target_train, 0.4)\n",
    "model_forest = RandomForestClassifier(random_state=12345, n_estimators=49)\n",
    "model_forest.fit(features_downsampled, target_downsampled)\n",
    "predictions_forest_test = model_forest.predict(features_test)\n",
    "f1_forest_best = f1_score(target_test, predictions_forest_test)\n",
    "roc_auc_forest_best = roc_auc_score(target_test, predictions_forest_test)\n",
    "print(f\"Для лучшей модели F1 мера = {f1_forest_best}, AUC-ROC = {roc_auc_forest_best}\")"
   ]
  },
  {
   "cell_type": "markdown",
   "metadata": {},
   "source": [
    "Данная модель на тестовой выборке показала данные лучше, чем на валидационной. F1 мера = 0.62 превосходит поставленное условиями задачи значение. При этом AUC-ROC также имеет высокое значение. Данная модель подходит для обучения."
   ]
  },
  {
   "cell_type": "markdown",
   "metadata": {},
   "source": [
    "### Решающее дерево уменьшение выборки отрицательного класса"
   ]
  },
  {
   "cell_type": "code",
   "execution_count": 68,
   "metadata": {},
   "outputs": [
    {
     "name": "stdout",
     "output_type": "stream",
     "text": [
      "Для лучшей модели F1 мера = 0.6074380165289257, AUC-ROC = 0.7679362466663967\n"
     ]
    }
   ],
   "source": [
    "# решающее дерево уменьшение выборки отрицательного числа\n",
    "# max_depth = 5\n",
    "# fraction = 0.25\n",
    "features_downsampled, target_downsampled = downsample(features_train, target_train, 0.25)\n",
    "model_tree = DecisionTreeClassifier(random_state=12345, max_depth = 5)\n",
    "model_tree.fit(features_downsampled, target_downsampled)\n",
    "predictions_tree_test = model_tree.predict(features_test)\n",
    "f1_tree_best = f1_score(target_test, predictions_tree_test)\n",
    "roc_auc_tree_best = roc_auc_score(target_test, predictions_tree_test)\n",
    "print(f\"Для лучшей модели F1 мера = {f1_tree_best}, AUC-ROC = {roc_auc_tree_best}\")"
   ]
  },
  {
   "cell_type": "markdown",
   "metadata": {},
   "source": [
    "Данная модель также хорошо проявила себя на тестовой выбрке. Значение F1 меры = 0.607 превосходит 0.59. При этом значение AUC-ROC даже выше, чем у случайного леса."
   ]
  },
  {
   "cell_type": "markdown",
   "metadata": {},
   "source": [
    "### Вывод"
   ]
  },
  {
   "cell_type": "markdown",
   "metadata": {},
   "source": [
    "В данной части были протестированы три модели, которые показали наилучшие данный при тестировнаии на валидационной выборке:\n",
    "\n",
    "1) Случайный лес увеличение выборки полоительного класса: данная модель показала себя плохо на тестовой выборке, целевой показатель не был достигнут\n",
    "\n",
    "2) Случайный лес уменьшение выборки отрицательного класса: если говорить о величине F1 меры (0.62) данное знаение самое высокое из исследуемых моделей\n",
    "\n",
    "3) Решающее дерево уменьшение выборки отрицательного класса: в данном случае величина F1 меры превосходит целевой показатель, но меньше, чем у случайного леса, при этом показатель AUC-ROC в данном случае выше. Кроме того, данная модель работает быстрее, чем модель случайный лес"
   ]
  },
  {
   "cell_type": "code",
   "execution_count": 69,
   "metadata": {},
   "outputs": [
    {
     "name": "stdout",
     "output_type": "stream",
     "text": [
      "(6000, 20)\n",
      "(2000, 20)\n",
      "(8000, 20)\n"
     ]
    }
   ],
   "source": [
    "features_train_new = features_train.append(features_valid, sort=False)\n",
    "print(features_train.shape)\n",
    "print(features_valid.shape)\n",
    "print(features_train_new.shape)"
   ]
  },
  {
   "cell_type": "code",
   "execution_count": 70,
   "metadata": {},
   "outputs": [
    {
     "name": "stdout",
     "output_type": "stream",
     "text": [
      "(6000,)\n",
      "(2000,)\n",
      "(8000,)\n"
     ]
    }
   ],
   "source": [
    "target_train_new = target_train.append(target_valid)\n",
    "print(target_train.shape)\n",
    "print(target_valid.shape)\n",
    "print(target_train_new.shape)"
   ]
  },
  {
   "cell_type": "code",
   "execution_count": 71,
   "metadata": {},
   "outputs": [
    {
     "data": {
      "text/plain": [
       "7479    0\n",
       "3411    0\n",
       "6027    0\n",
       "1247    0\n",
       "3716    0\n",
       "       ..\n",
       "6480    0\n",
       "8194    0\n",
       "1279    0\n",
       "6532    0\n",
       "6895    1\n",
       "Name: exited, Length: 8000, dtype: int64"
      ]
     },
     "execution_count": 71,
     "metadata": {},
     "output_type": "execute_result"
    }
   ],
   "source": [
    "target_train_new"
   ]
  },
  {
   "cell_type": "code",
   "execution_count": 72,
   "metadata": {},
   "outputs": [
    {
     "data": {
      "text/plain": [
       "7479    0\n",
       "3411    0\n",
       "6027    0\n",
       "1247    0\n",
       "3716    0\n",
       "       ..\n",
       "4478    0\n",
       "4094    0\n",
       "3492    0\n",
       "2177    0\n",
       "4578    0\n",
       "Name: exited, Length: 6000, dtype: int64"
      ]
     },
     "execution_count": 72,
     "metadata": {},
     "output_type": "execute_result"
    }
   ],
   "source": [
    "target_train"
   ]
  },
  {
   "cell_type": "code",
   "execution_count": 73,
   "metadata": {},
   "outputs": [
    {
     "data": {
      "text/html": [
       "<div>\n",
       "<style scoped>\n",
       "    .dataframe tbody tr th:only-of-type {\n",
       "        vertical-align: middle;\n",
       "    }\n",
       "\n",
       "    .dataframe tbody tr th {\n",
       "        vertical-align: top;\n",
       "    }\n",
       "\n",
       "    .dataframe thead th {\n",
       "        text-align: right;\n",
       "    }\n",
       "</style>\n",
       "<table border=\"1\" class=\"dataframe\">\n",
       "  <thead>\n",
       "    <tr style=\"text-align: right;\">\n",
       "      <th></th>\n",
       "      <th>credit_score</th>\n",
       "      <th>age</th>\n",
       "      <th>balance</th>\n",
       "      <th>num_of_products</th>\n",
       "      <th>has_cr_card</th>\n",
       "      <th>is_active_member</th>\n",
       "      <th>estimated_salary</th>\n",
       "      <th>geography_germany</th>\n",
       "      <th>geography_spain</th>\n",
       "      <th>gender_male</th>\n",
       "      <th>tenure_1.0</th>\n",
       "      <th>tenure_2.0</th>\n",
       "      <th>tenure_3.0</th>\n",
       "      <th>tenure_4.0</th>\n",
       "      <th>tenure_5.0</th>\n",
       "      <th>tenure_6.0</th>\n",
       "      <th>tenure_7.0</th>\n",
       "      <th>tenure_8.0</th>\n",
       "      <th>tenure_9.0</th>\n",
       "      <th>tenure_10.0</th>\n",
       "    </tr>\n",
       "  </thead>\n",
       "  <tbody>\n",
       "    <tr>\n",
       "      <th>7479</th>\n",
       "      <td>-0.864254</td>\n",
       "      <td>-0.373958</td>\n",
       "      <td>1.228508</td>\n",
       "      <td>1</td>\n",
       "      <td>1</td>\n",
       "      <td>0</td>\n",
       "      <td>-0.198777</td>\n",
       "      <td>0</td>\n",
       "      <td>1</td>\n",
       "      <td>1</td>\n",
       "      <td>0</td>\n",
       "      <td>0</td>\n",
       "      <td>0</td>\n",
       "      <td>0</td>\n",
       "      <td>0</td>\n",
       "      <td>0</td>\n",
       "      <td>0</td>\n",
       "      <td>1</td>\n",
       "      <td>0</td>\n",
       "      <td>0</td>\n",
       "    </tr>\n",
       "    <tr>\n",
       "      <th>3411</th>\n",
       "      <td>0.625682</td>\n",
       "      <td>-0.183251</td>\n",
       "      <td>0.599639</td>\n",
       "      <td>1</td>\n",
       "      <td>0</td>\n",
       "      <td>0</td>\n",
       "      <td>-0.345607</td>\n",
       "      <td>0</td>\n",
       "      <td>0</td>\n",
       "      <td>0</td>\n",
       "      <td>0</td>\n",
       "      <td>0</td>\n",
       "      <td>0</td>\n",
       "      <td>0</td>\n",
       "      <td>0</td>\n",
       "      <td>0</td>\n",
       "      <td>0</td>\n",
       "      <td>1</td>\n",
       "      <td>0</td>\n",
       "      <td>0</td>\n",
       "    </tr>\n",
       "    <tr>\n",
       "      <th>6027</th>\n",
       "      <td>2.063884</td>\n",
       "      <td>0.484225</td>\n",
       "      <td>1.024257</td>\n",
       "      <td>2</td>\n",
       "      <td>0</td>\n",
       "      <td>1</td>\n",
       "      <td>1.498850</td>\n",
       "      <td>1</td>\n",
       "      <td>0</td>\n",
       "      <td>1</td>\n",
       "      <td>0</td>\n",
       "      <td>0</td>\n",
       "      <td>1</td>\n",
       "      <td>0</td>\n",
       "      <td>0</td>\n",
       "      <td>0</td>\n",
       "      <td>0</td>\n",
       "      <td>0</td>\n",
       "      <td>0</td>\n",
       "      <td>0</td>\n",
       "    </tr>\n",
       "    <tr>\n",
       "      <th>1247</th>\n",
       "      <td>-1.433326</td>\n",
       "      <td>-1.422847</td>\n",
       "      <td>-1.225848</td>\n",
       "      <td>2</td>\n",
       "      <td>1</td>\n",
       "      <td>0</td>\n",
       "      <td>-1.085698</td>\n",
       "      <td>0</td>\n",
       "      <td>0</td>\n",
       "      <td>1</td>\n",
       "      <td>0</td>\n",
       "      <td>0</td>\n",
       "      <td>0</td>\n",
       "      <td>0</td>\n",
       "      <td>0</td>\n",
       "      <td>1</td>\n",
       "      <td>0</td>\n",
       "      <td>0</td>\n",
       "      <td>0</td>\n",
       "      <td>0</td>\n",
       "    </tr>\n",
       "    <tr>\n",
       "      <th>3716</th>\n",
       "      <td>0.149730</td>\n",
       "      <td>-1.136786</td>\n",
       "      <td>1.137125</td>\n",
       "      <td>1</td>\n",
       "      <td>0</td>\n",
       "      <td>0</td>\n",
       "      <td>1.520109</td>\n",
       "      <td>1</td>\n",
       "      <td>0</td>\n",
       "      <td>0</td>\n",
       "      <td>0</td>\n",
       "      <td>1</td>\n",
       "      <td>0</td>\n",
       "      <td>0</td>\n",
       "      <td>0</td>\n",
       "      <td>0</td>\n",
       "      <td>0</td>\n",
       "      <td>0</td>\n",
       "      <td>0</td>\n",
       "      <td>0</td>\n",
       "    </tr>\n",
       "    <tr>\n",
       "      <th>...</th>\n",
       "      <td>...</td>\n",
       "      <td>...</td>\n",
       "      <td>...</td>\n",
       "      <td>...</td>\n",
       "      <td>...</td>\n",
       "      <td>...</td>\n",
       "      <td>...</td>\n",
       "      <td>...</td>\n",
       "      <td>...</td>\n",
       "      <td>...</td>\n",
       "      <td>...</td>\n",
       "      <td>...</td>\n",
       "      <td>...</td>\n",
       "      <td>...</td>\n",
       "      <td>...</td>\n",
       "      <td>...</td>\n",
       "      <td>...</td>\n",
       "      <td>...</td>\n",
       "      <td>...</td>\n",
       "      <td>...</td>\n",
       "    </tr>\n",
       "    <tr>\n",
       "      <th>6480</th>\n",
       "      <td>0.294585</td>\n",
       "      <td>-1.422847</td>\n",
       "      <td>0.616449</td>\n",
       "      <td>2</td>\n",
       "      <td>0</td>\n",
       "      <td>1</td>\n",
       "      <td>0.620405</td>\n",
       "      <td>0</td>\n",
       "      <td>0</td>\n",
       "      <td>0</td>\n",
       "      <td>0</td>\n",
       "      <td>0</td>\n",
       "      <td>0</td>\n",
       "      <td>0</td>\n",
       "      <td>0</td>\n",
       "      <td>1</td>\n",
       "      <td>0</td>\n",
       "      <td>0</td>\n",
       "      <td>0</td>\n",
       "      <td>0</td>\n",
       "    </tr>\n",
       "    <tr>\n",
       "      <th>8194</th>\n",
       "      <td>-0.191713</td>\n",
       "      <td>0.293517</td>\n",
       "      <td>0.795421</td>\n",
       "      <td>1</td>\n",
       "      <td>1</td>\n",
       "      <td>0</td>\n",
       "      <td>0.015794</td>\n",
       "      <td>0</td>\n",
       "      <td>0</td>\n",
       "      <td>1</td>\n",
       "      <td>0</td>\n",
       "      <td>0</td>\n",
       "      <td>0</td>\n",
       "      <td>1</td>\n",
       "      <td>0</td>\n",
       "      <td>0</td>\n",
       "      <td>0</td>\n",
       "      <td>0</td>\n",
       "      <td>0</td>\n",
       "      <td>0</td>\n",
       "    </tr>\n",
       "    <tr>\n",
       "      <th>1279</th>\n",
       "      <td>-1.340205</td>\n",
       "      <td>0.007457</td>\n",
       "      <td>-1.225848</td>\n",
       "      <td>2</td>\n",
       "      <td>0</td>\n",
       "      <td>1</td>\n",
       "      <td>-1.264443</td>\n",
       "      <td>0</td>\n",
       "      <td>0</td>\n",
       "      <td>0</td>\n",
       "      <td>0</td>\n",
       "      <td>0</td>\n",
       "      <td>0</td>\n",
       "      <td>0</td>\n",
       "      <td>0</td>\n",
       "      <td>1</td>\n",
       "      <td>0</td>\n",
       "      <td>0</td>\n",
       "      <td>0</td>\n",
       "      <td>0</td>\n",
       "    </tr>\n",
       "    <tr>\n",
       "      <th>6532</th>\n",
       "      <td>1.091287</td>\n",
       "      <td>2.677357</td>\n",
       "      <td>-1.225848</td>\n",
       "      <td>3</td>\n",
       "      <td>1</td>\n",
       "      <td>1</td>\n",
       "      <td>-0.121869</td>\n",
       "      <td>0</td>\n",
       "      <td>0</td>\n",
       "      <td>1</td>\n",
       "      <td>0</td>\n",
       "      <td>0</td>\n",
       "      <td>0</td>\n",
       "      <td>1</td>\n",
       "      <td>0</td>\n",
       "      <td>0</td>\n",
       "      <td>0</td>\n",
       "      <td>0</td>\n",
       "      <td>0</td>\n",
       "      <td>0</td>\n",
       "    </tr>\n",
       "    <tr>\n",
       "      <th>6895</th>\n",
       "      <td>-0.419342</td>\n",
       "      <td>0.960993</td>\n",
       "      <td>0.599357</td>\n",
       "      <td>1</td>\n",
       "      <td>1</td>\n",
       "      <td>0</td>\n",
       "      <td>1.664537</td>\n",
       "      <td>1</td>\n",
       "      <td>0</td>\n",
       "      <td>1</td>\n",
       "      <td>0</td>\n",
       "      <td>0</td>\n",
       "      <td>0</td>\n",
       "      <td>0</td>\n",
       "      <td>0</td>\n",
       "      <td>1</td>\n",
       "      <td>0</td>\n",
       "      <td>0</td>\n",
       "      <td>0</td>\n",
       "      <td>0</td>\n",
       "    </tr>\n",
       "  </tbody>\n",
       "</table>\n",
       "<p>8000 rows × 20 columns</p>\n",
       "</div>"
      ],
      "text/plain": [
       "      credit_score       age   balance  num_of_products  has_cr_card  \\\n",
       "7479     -0.864254 -0.373958  1.228508                1            1   \n",
       "3411      0.625682 -0.183251  0.599639                1            0   \n",
       "6027      2.063884  0.484225  1.024257                2            0   \n",
       "1247     -1.433326 -1.422847 -1.225848                2            1   \n",
       "3716      0.149730 -1.136786  1.137125                1            0   \n",
       "...            ...       ...       ...              ...          ...   \n",
       "6480      0.294585 -1.422847  0.616449                2            0   \n",
       "8194     -0.191713  0.293517  0.795421                1            1   \n",
       "1279     -1.340205  0.007457 -1.225848                2            0   \n",
       "6532      1.091287  2.677357 -1.225848                3            1   \n",
       "6895     -0.419342  0.960993  0.599357                1            1   \n",
       "\n",
       "      is_active_member  estimated_salary  geography_germany  geography_spain  \\\n",
       "7479                 0         -0.198777                  0                1   \n",
       "3411                 0         -0.345607                  0                0   \n",
       "6027                 1          1.498850                  1                0   \n",
       "1247                 0         -1.085698                  0                0   \n",
       "3716                 0          1.520109                  1                0   \n",
       "...                ...               ...                ...              ...   \n",
       "6480                 1          0.620405                  0                0   \n",
       "8194                 0          0.015794                  0                0   \n",
       "1279                 1         -1.264443                  0                0   \n",
       "6532                 1         -0.121869                  0                0   \n",
       "6895                 0          1.664537                  1                0   \n",
       "\n",
       "      gender_male  tenure_1.0  tenure_2.0  tenure_3.0  tenure_4.0  tenure_5.0  \\\n",
       "7479            1           0           0           0           0           0   \n",
       "3411            0           0           0           0           0           0   \n",
       "6027            1           0           0           1           0           0   \n",
       "1247            1           0           0           0           0           0   \n",
       "3716            0           0           1           0           0           0   \n",
       "...           ...         ...         ...         ...         ...         ...   \n",
       "6480            0           0           0           0           0           0   \n",
       "8194            1           0           0           0           1           0   \n",
       "1279            0           0           0           0           0           0   \n",
       "6532            1           0           0           0           1           0   \n",
       "6895            1           0           0           0           0           0   \n",
       "\n",
       "      tenure_6.0  tenure_7.0  tenure_8.0  tenure_9.0  tenure_10.0  \n",
       "7479           0           0           1           0            0  \n",
       "3411           0           0           1           0            0  \n",
       "6027           0           0           0           0            0  \n",
       "1247           1           0           0           0            0  \n",
       "3716           0           0           0           0            0  \n",
       "...          ...         ...         ...         ...          ...  \n",
       "6480           1           0           0           0            0  \n",
       "8194           0           0           0           0            0  \n",
       "1279           1           0           0           0            0  \n",
       "6532           0           0           0           0            0  \n",
       "6895           1           0           0           0            0  \n",
       "\n",
       "[8000 rows x 20 columns]"
      ]
     },
     "execution_count": 73,
     "metadata": {},
     "output_type": "execute_result"
    }
   ],
   "source": [
    "features_train_new"
   ]
  },
  {
   "cell_type": "markdown",
   "metadata": {},
   "source": [
    "По выводам выше видно, что выборки тренировочная и валидационная верно сложились, одинаковое количество столбцов и строк. Протестируем модели на объединенных выборках"
   ]
  },
  {
   "cell_type": "code",
   "execution_count": 74,
   "metadata": {},
   "outputs": [
    {
     "name": "stdout",
     "output_type": "stream",
     "text": [
      "Для лучшей модели F1 мера = 0.5796703296703296, AUC-ROC = 0.719605559228328\n"
     ]
    }
   ],
   "source": [
    "# увеличение выборки положительного класса случайный лес\n",
    "# repeat = 2\n",
    "# est = 41\n",
    "features_upsampled, target_upsampled = upsample(features_train_new, target_train_new, 2)\n",
    "model_forest = RandomForestClassifier(random_state=12345, n_estimators=41)\n",
    "model_forest.fit(features_upsampled, target_upsampled)\n",
    "predictions_forest_test = model_forest.predict(features_test)\n",
    "f1_forest_best = f1_score(target_test, predictions_forest_test)\n",
    "roc_auc_forest_best = roc_auc_score(target_test, predictions_forest_test)\n",
    "print(f\"Для лучшей модели F1 мера = {f1_forest_best}, AUC-ROC = {roc_auc_forest_best}\")"
   ]
  },
  {
   "cell_type": "markdown",
   "metadata": {},
   "source": [
    "Результаты метрик при обучении только на тренировочной выборке: F1 мера = 0.5818, AUC-ROC = 0.72"
   ]
  },
  {
   "cell_type": "code",
   "execution_count": 75,
   "metadata": {},
   "outputs": [
    {
     "name": "stdout",
     "output_type": "stream",
     "text": [
      "Для лучшей модели F1 мера = 0.5995525727069352, AUC-ROC = 0.7524221559624087\n"
     ]
    }
   ],
   "source": [
    "# уменьшение выборки отрицательного класса\n",
    "# fraction = 0.4\n",
    "# est = 49\n",
    "features_downsampled, target_downsampled = downsample(features_train_new, target_train_new, 0.4)\n",
    "model_forest = RandomForestClassifier(random_state=12345, n_estimators=49)\n",
    "model_forest.fit(features_downsampled, target_downsampled)\n",
    "predictions_forest_test = model_forest.predict(features_test)\n",
    "f1_forest_best = f1_score(target_test, predictions_forest_test)\n",
    "roc_auc_forest_best = roc_auc_score(target_test, predictions_forest_test)\n",
    "print(f\"Для лучшей модели F1 мера = {f1_forest_best}, AUC-ROC = {roc_auc_forest_best}\")"
   ]
  },
  {
   "cell_type": "markdown",
   "metadata": {},
   "source": [
    "Результаты метрик при обучении только на тренировочной выборке: F1 мера = 0.62, AUC-ROC = 0.76"
   ]
  },
  {
   "cell_type": "code",
   "execution_count": 76,
   "metadata": {},
   "outputs": [
    {
     "name": "stdout",
     "output_type": "stream",
     "text": [
      "Для лучшей модели F1 мера = 0.5878725590955807, AUC-ROC = 0.7543582317324542\n"
     ]
    }
   ],
   "source": [
    "# решающее дерево уменьшение выборки отрицательного числа\n",
    "# max_depth = 5\n",
    "# fraction = 0.25\n",
    "features_downsampled, target_downsampled = downsample(features_train_new, target_train_new, 0.25)\n",
    "model_tree = DecisionTreeClassifier(random_state=12345, max_depth = 5)\n",
    "model_tree.fit(features_downsampled, target_downsampled)\n",
    "predictions_tree_test = model_tree.predict(features_test)\n",
    "f1_tree_best = f1_score(target_test, predictions_tree_test)\n",
    "roc_auc_tree_best = roc_auc_score(target_test, predictions_tree_test)\n",
    "print(f\"Для лучшей модели F1 мера = {f1_tree_best}, AUC-ROC = {roc_auc_tree_best}\")"
   ]
  },
  {
   "cell_type": "markdown",
   "metadata": {},
   "source": [
    "Результаты метрик при обучении только на тренировочной выборке: F1 мера = 0.607, AUC-ROC = 0.768"
   ]
  },
  {
   "cell_type": "markdown",
   "metadata": {},
   "source": [
    "Получили интересные данные. Если обучать модели и на тренировочной, и на валидационной выборках, то метрики немного уменьились. При этом, если в первый раз хорошие метрики показали две модели, то при обучении на новой выборке хорошие метрики только у одной модели."
   ]
  },
  {
   "cell_type": "markdown",
   "metadata": {},
   "source": [
    "## Общий вывод"
   ]
  },
  {
   "cell_type": "markdown",
   "metadata": {},
   "source": [
    "В ходе выполнения задания мы сделали следующее:\n",
    "\n",
    "1) изучили данные, в которых были выявлены и исправлены некоторые потенциальные ошибки:\n",
    "    - преобразовали названия столбцов\n",
    "    - приведены все данные к нижнему регистру\n",
    "    - заполнены пропуски в столбце tenure\n",
    "    - изменен тип данных столбца tenure\n",
    "    - удалены столбцы, которые не имеют \n",
    "    \n",
    "2) был произведен исследовательский анализ данных, на основании которого можно составить портрет человека, который может покинуть банк:\n",
    "\n",
    "    - клиент из Германии\n",
    "    - женский пол\n",
    "    - старшего возраста\n",
    "    - имеет более высокий баланс, чем те, кто остаются\n",
    "    - низкий кредитный рейтинг\n",
    "    - имеет более 2х продуктов\n",
    "    - менее активные пользователи\n",
    "\n",
    "3) попробовали обучить модель без учета баланса классов:\n",
    "\n",
    "    - даже на несбалансированной выборке наилучшее значение F1 меры мы получили 0.593 для случайного леса, с количеством деревьев 31. Но при этом показатель AUC-ROC далек от идеала и составляет 0.72, но этот показатель в данном варианте такдже самый высокий. Были неплохие показатели у моделирешающее дерево с максимальной глубиной 9 (F1 мера - 0.569, AUC-ROC - 0.707). А вот показатели логической регрессии самые плохие (F1 мера - 0.332, AUC-ROC - 0.59)\n",
    "\n",
    "\n",
    "4) были использованы три метода для борьбы с дисбалансом классов:\n",
    "\n",
    "    - Взвешивание классов\n",
    "    \n",
    "    - Увеличение выборки положительного класса с перемешиванием объектов\n",
    "    \n",
    "    - Уменьшение выборки отрицательного класса с перемешиванием объектов\n",
    "    \n",
    "В ходе проведенного исследования были выделены определены следующие модели и гиперпараметры для обучения модели и ее тестировани:\n",
    "\n",
    "    - Случайный лес с параметрами: est = 41, repeat = 2\n",
    "\n",
    "    - Случайный лес с параметрами: est = 49, fraction = 0.4\n",
    "\n",
    "    - Решающее дерево с параметрами: max_depth = 5, fraction = 0.25\n",
    "\n",
    "\n",
    "5) были протестированы три модели, которые показали наилучшие данный при тестировнаии на валидационной выборке:\n",
    "\n",
    "    - Случайный лес увеличение выборки положительного класса: данная модель показала себя плохо на тестовой выборке, целевой показатель не был достигнут\n",
    "\n",
    "    - Случайный лес уменьшение выборки отрицательного класса: если говорить о величине F1 меры (0.62) данное знаение самое высокое из исследуемых моделей\n",
    "\n",
    "    - Решающее дерево уменьшение выборки отрицательного класса: в данном случае величина F1 меры превосходит целевой показатель, но меньше, чем у случайного леса, при этом показатель AUC-ROC в данном случае выше. Кроме того, данная модель работает быстрее, чем модель случайный лес\n",
    "\n",
    "Таким образом, в ходе тестирования, одна модель достигла целевого показателя F1 меры более 0.59:\n",
    "\n",
    "1) Случайный лес уменьшение выборки отрицательного класса с количеством деревьей 49 и коэффциентом уменьшения отрицательного класса 0.4"
   ]
  }
 ],
 "metadata": {
  "ExecuteTimeLog": [
   {
    "duration": 450,
    "start_time": "2022-03-21T14:46:55.739Z"
   },
   {
    "duration": 85,
    "start_time": "2022-03-21T14:47:11.086Z"
   },
   {
    "duration": 42,
    "start_time": "2022-03-21T14:47:17.563Z"
   },
   {
    "duration": 13,
    "start_time": "2022-03-21T14:47:27.234Z"
   },
   {
    "duration": 4,
    "start_time": "2022-03-21T14:47:55.779Z"
   },
   {
    "duration": 9,
    "start_time": "2022-03-21T14:48:18.517Z"
   },
   {
    "duration": 3,
    "start_time": "2022-03-21T14:48:24.105Z"
   },
   {
    "duration": 7,
    "start_time": "2022-03-21T14:48:42.985Z"
   },
   {
    "duration": 8,
    "start_time": "2022-03-21T14:49:51.300Z"
   },
   {
    "duration": 7,
    "start_time": "2022-03-21T14:50:33.960Z"
   },
   {
    "duration": 10,
    "start_time": "2022-03-21T14:50:42.701Z"
   },
   {
    "duration": 5,
    "start_time": "2022-03-21T14:51:26.351Z"
   },
   {
    "duration": 10,
    "start_time": "2022-03-21T14:51:36.025Z"
   },
   {
    "duration": 4,
    "start_time": "2022-03-21T14:51:41.676Z"
   },
   {
    "duration": 8,
    "start_time": "2022-03-21T14:52:48.584Z"
   },
   {
    "duration": 21,
    "start_time": "2022-03-21T14:53:36.149Z"
   },
   {
    "duration": 2217,
    "start_time": "2022-03-21T14:54:24.900Z"
   },
   {
    "duration": 27,
    "start_time": "2022-03-21T14:54:38.067Z"
   },
   {
    "duration": 120,
    "start_time": "2022-03-21T20:52:09.039Z"
   },
   {
    "duration": 534,
    "start_time": "2022-03-21T20:52:19.060Z"
   },
   {
    "duration": 59,
    "start_time": "2022-03-21T20:52:19.597Z"
   },
   {
    "duration": 41,
    "start_time": "2022-03-21T20:52:19.660Z"
   },
   {
    "duration": 5,
    "start_time": "2022-03-21T20:52:19.704Z"
   },
   {
    "duration": 9,
    "start_time": "2022-03-21T20:52:19.713Z"
   },
   {
    "duration": 16,
    "start_time": "2022-03-21T20:52:19.724Z"
   },
   {
    "duration": 10,
    "start_time": "2022-03-21T20:52:19.743Z"
   },
   {
    "duration": 7,
    "start_time": "2022-03-21T20:52:19.784Z"
   },
   {
    "duration": 25,
    "start_time": "2022-03-21T20:52:19.794Z"
   },
   {
    "duration": 68,
    "start_time": "2022-03-21T20:52:19.822Z"
   },
   {
    "duration": 10,
    "start_time": "2022-03-21T20:52:19.894Z"
   },
   {
    "duration": 2021,
    "start_time": "2022-03-21T20:53:22.723Z"
   },
   {
    "duration": 1758,
    "start_time": "2022-03-21T20:53:36.328Z"
   },
   {
    "duration": 8,
    "start_time": "2022-03-21T20:53:58.236Z"
   },
   {
    "duration": 5,
    "start_time": "2022-03-21T20:54:15.717Z"
   },
   {
    "duration": 7,
    "start_time": "2022-03-21T20:54:30.034Z"
   },
   {
    "duration": 8,
    "start_time": "2022-03-21T20:54:43.988Z"
   },
   {
    "duration": 355,
    "start_time": "2022-03-22T22:42:03.250Z"
   },
   {
    "duration": 58,
    "start_time": "2022-03-22T22:42:03.607Z"
   },
   {
    "duration": 12,
    "start_time": "2022-03-22T22:42:03.667Z"
   },
   {
    "duration": 3,
    "start_time": "2022-03-22T22:42:03.680Z"
   },
   {
    "duration": 3,
    "start_time": "2022-03-22T22:42:03.685Z"
   },
   {
    "duration": 12,
    "start_time": "2022-03-22T22:42:03.689Z"
   },
   {
    "duration": 6,
    "start_time": "2022-03-22T22:42:03.702Z"
   },
   {
    "duration": 5,
    "start_time": "2022-03-22T22:42:03.709Z"
   },
   {
    "duration": 7,
    "start_time": "2022-03-22T22:42:03.715Z"
   },
   {
    "duration": 21,
    "start_time": "2022-03-22T22:42:03.723Z"
   },
   {
    "duration": 5,
    "start_time": "2022-03-22T22:42:03.746Z"
   },
   {
    "duration": 3,
    "start_time": "2022-03-22T22:42:03.753Z"
   },
   {
    "duration": 178,
    "start_time": "2022-03-22T22:50:44.844Z"
   },
   {
    "duration": 177,
    "start_time": "2022-03-22T22:52:03.073Z"
   },
   {
    "duration": 181,
    "start_time": "2022-03-22T22:53:09.497Z"
   },
   {
    "duration": 62,
    "start_time": "2022-03-22T22:55:14.654Z"
   },
   {
    "duration": 7,
    "start_time": "2022-03-22T22:56:57.922Z"
   },
   {
    "duration": 8,
    "start_time": "2022-03-22T22:57:05.027Z"
   },
   {
    "duration": 12,
    "start_time": "2022-03-22T23:04:08.556Z"
   },
   {
    "duration": 199,
    "start_time": "2022-03-22T23:04:41.205Z"
   },
   {
    "duration": 199,
    "start_time": "2022-03-22T23:04:56.762Z"
   },
   {
    "duration": 273,
    "start_time": "2022-03-22T23:05:02.102Z"
   },
   {
    "duration": 4,
    "start_time": "2022-03-22T23:05:13.808Z"
   },
   {
    "duration": 4,
    "start_time": "2022-03-22T23:05:41.160Z"
   },
   {
    "duration": 3378,
    "start_time": "2022-03-22T23:08:40.522Z"
   },
   {
    "duration": 4,
    "start_time": "2022-03-22T23:09:11.168Z"
   },
   {
    "duration": 3,
    "start_time": "2022-03-22T23:09:14.219Z"
   },
   {
    "duration": 3506,
    "start_time": "2022-03-22T23:09:15.462Z"
   },
   {
    "duration": 3396,
    "start_time": "2022-03-22T23:10:36.363Z"
   },
   {
    "duration": 6,
    "start_time": "2022-03-22T23:10:49.193Z"
   },
   {
    "duration": 5,
    "start_time": "2022-03-22T23:10:54.341Z"
   },
   {
    "duration": 6,
    "start_time": "2022-03-22T23:11:01.482Z"
   },
   {
    "duration": 3412,
    "start_time": "2022-03-22T23:11:16.375Z"
   },
   {
    "duration": 3319,
    "start_time": "2022-03-22T23:11:23.422Z"
   },
   {
    "duration": 4,
    "start_time": "2022-03-22T23:11:46.208Z"
   },
   {
    "duration": 3330,
    "start_time": "2022-03-22T23:11:53.727Z"
   },
   {
    "duration": 4,
    "start_time": "2022-03-22T23:12:19.378Z"
   },
   {
    "duration": 3592,
    "start_time": "2022-03-22T23:12:36.237Z"
   },
   {
    "duration": 3,
    "start_time": "2022-03-22T23:12:50.796Z"
   },
   {
    "duration": 4,
    "start_time": "2022-03-22T23:13:01.788Z"
   },
   {
    "duration": 4,
    "start_time": "2022-03-22T23:13:04.346Z"
   },
   {
    "duration": 346,
    "start_time": "2022-03-22T23:13:18.351Z"
   },
   {
    "duration": 46,
    "start_time": "2022-03-22T23:13:18.699Z"
   },
   {
    "duration": 12,
    "start_time": "2022-03-22T23:13:18.746Z"
   },
   {
    "duration": 3,
    "start_time": "2022-03-22T23:13:18.759Z"
   },
   {
    "duration": 4,
    "start_time": "2022-03-22T23:13:18.764Z"
   },
   {
    "duration": 6,
    "start_time": "2022-03-22T23:13:18.769Z"
   },
   {
    "duration": 3,
    "start_time": "2022-03-22T23:13:18.777Z"
   },
   {
    "duration": 19,
    "start_time": "2022-03-22T23:13:18.782Z"
   },
   {
    "duration": 8,
    "start_time": "2022-03-22T23:13:18.803Z"
   },
   {
    "duration": 11,
    "start_time": "2022-03-22T23:13:18.813Z"
   },
   {
    "duration": 8,
    "start_time": "2022-03-22T23:13:18.825Z"
   },
   {
    "duration": 10,
    "start_time": "2022-03-22T23:13:18.834Z"
   },
   {
    "duration": 3548,
    "start_time": "2022-03-22T23:13:18.846Z"
   },
   {
    "duration": 0,
    "start_time": "2022-03-22T23:13:22.396Z"
   },
   {
    "duration": 0,
    "start_time": "2022-03-22T23:13:22.397Z"
   },
   {
    "duration": 21,
    "start_time": "2022-03-22T23:13:44.529Z"
   },
   {
    "duration": 4,
    "start_time": "2022-03-22T23:13:59.152Z"
   },
   {
    "duration": 13,
    "start_time": "2022-03-22T23:14:13.421Z"
   },
   {
    "duration": 10,
    "start_time": "2022-03-22T23:14:36.895Z"
   },
   {
    "duration": 12,
    "start_time": "2022-03-22T23:15:00.202Z"
   },
   {
    "duration": 2,
    "start_time": "2022-03-22T23:16:18.916Z"
   },
   {
    "duration": 9,
    "start_time": "2022-03-22T23:17:53.975Z"
   },
   {
    "duration": 6,
    "start_time": "2022-03-22T23:18:22.646Z"
   },
   {
    "duration": 3557,
    "start_time": "2022-03-22T23:19:03.288Z"
   },
   {
    "duration": 4,
    "start_time": "2022-03-22T23:19:21.858Z"
   },
   {
    "duration": 3,
    "start_time": "2022-03-22T23:19:22.821Z"
   },
   {
    "duration": 395,
    "start_time": "2022-03-22T23:19:31.599Z"
   },
   {
    "duration": 49,
    "start_time": "2022-03-22T23:19:31.996Z"
   },
   {
    "duration": 14,
    "start_time": "2022-03-22T23:19:32.047Z"
   },
   {
    "duration": 4,
    "start_time": "2022-03-22T23:19:32.063Z"
   },
   {
    "duration": 4,
    "start_time": "2022-03-22T23:19:32.070Z"
   },
   {
    "duration": 25,
    "start_time": "2022-03-22T23:19:32.076Z"
   },
   {
    "duration": 12,
    "start_time": "2022-03-22T23:19:32.103Z"
   },
   {
    "duration": 15,
    "start_time": "2022-03-22T23:19:32.117Z"
   },
   {
    "duration": 3,
    "start_time": "2022-03-22T23:19:32.134Z"
   },
   {
    "duration": 13,
    "start_time": "2022-03-22T23:19:32.139Z"
   },
   {
    "duration": 13,
    "start_time": "2022-03-22T23:19:32.154Z"
   },
   {
    "duration": 40,
    "start_time": "2022-03-22T23:19:32.169Z"
   },
   {
    "duration": 6,
    "start_time": "2022-03-22T23:19:32.210Z"
   },
   {
    "duration": 7,
    "start_time": "2022-03-22T23:19:32.218Z"
   },
   {
    "duration": 21,
    "start_time": "2022-03-22T23:19:32.227Z"
   },
   {
    "duration": 8,
    "start_time": "2022-03-22T23:19:32.249Z"
   },
   {
    "duration": 5,
    "start_time": "2022-03-22T23:19:32.258Z"
   },
   {
    "duration": 37,
    "start_time": "2022-03-22T23:19:32.264Z"
   },
   {
    "duration": 5,
    "start_time": "2022-03-22T23:20:49.010Z"
   },
   {
    "duration": 5,
    "start_time": "2022-03-22T23:21:17.363Z"
   },
   {
    "duration": 6,
    "start_time": "2022-03-22T23:21:56.147Z"
   },
   {
    "duration": 869,
    "start_time": "2022-03-24T20:42:26.364Z"
   },
   {
    "duration": 0,
    "start_time": "2022-03-24T20:42:27.238Z"
   },
   {
    "duration": 0,
    "start_time": "2022-03-24T20:42:27.240Z"
   },
   {
    "duration": 0,
    "start_time": "2022-03-24T20:42:27.242Z"
   },
   {
    "duration": 0,
    "start_time": "2022-03-24T20:42:27.244Z"
   },
   {
    "duration": 0,
    "start_time": "2022-03-24T20:42:27.247Z"
   },
   {
    "duration": 0,
    "start_time": "2022-03-24T20:42:27.249Z"
   },
   {
    "duration": 1,
    "start_time": "2022-03-24T20:42:27.274Z"
   },
   {
    "duration": 0,
    "start_time": "2022-03-24T20:42:27.276Z"
   },
   {
    "duration": 0,
    "start_time": "2022-03-24T20:42:27.278Z"
   },
   {
    "duration": 0,
    "start_time": "2022-03-24T20:42:27.280Z"
   },
   {
    "duration": 0,
    "start_time": "2022-03-24T20:42:27.282Z"
   },
   {
    "duration": 0,
    "start_time": "2022-03-24T20:42:27.284Z"
   },
   {
    "duration": 0,
    "start_time": "2022-03-24T20:42:27.285Z"
   },
   {
    "duration": 0,
    "start_time": "2022-03-24T20:42:27.288Z"
   },
   {
    "duration": 0,
    "start_time": "2022-03-24T20:42:27.290Z"
   },
   {
    "duration": 0,
    "start_time": "2022-03-24T20:42:27.292Z"
   },
   {
    "duration": 0,
    "start_time": "2022-03-24T20:42:27.293Z"
   },
   {
    "duration": 0,
    "start_time": "2022-03-24T20:42:27.295Z"
   },
   {
    "duration": 0,
    "start_time": "2022-03-24T20:42:27.297Z"
   },
   {
    "duration": 0,
    "start_time": "2022-03-24T20:42:27.299Z"
   },
   {
    "duration": 0,
    "start_time": "2022-03-24T20:42:27.301Z"
   },
   {
    "duration": 1769,
    "start_time": "2022-03-24T20:42:43.957Z"
   },
   {
    "duration": 60,
    "start_time": "2022-03-24T20:42:45.729Z"
   },
   {
    "duration": 24,
    "start_time": "2022-03-24T20:42:45.792Z"
   },
   {
    "duration": 5,
    "start_time": "2022-03-24T20:42:45.820Z"
   },
   {
    "duration": 14,
    "start_time": "2022-03-24T20:42:45.828Z"
   },
   {
    "duration": 33,
    "start_time": "2022-03-24T20:42:45.845Z"
   },
   {
    "duration": 23,
    "start_time": "2022-03-24T20:42:45.881Z"
   },
   {
    "duration": 29,
    "start_time": "2022-03-24T20:42:45.906Z"
   },
   {
    "duration": 6,
    "start_time": "2022-03-24T20:42:45.938Z"
   },
   {
    "duration": 18,
    "start_time": "2022-03-24T20:42:45.976Z"
   },
   {
    "duration": 16,
    "start_time": "2022-03-24T20:42:45.997Z"
   },
   {
    "duration": 12,
    "start_time": "2022-03-24T20:42:46.016Z"
   },
   {
    "duration": 46,
    "start_time": "2022-03-24T20:42:46.030Z"
   },
   {
    "duration": 15,
    "start_time": "2022-03-24T20:42:46.078Z"
   },
   {
    "duration": 37,
    "start_time": "2022-03-24T20:42:46.095Z"
   },
   {
    "duration": 42,
    "start_time": "2022-03-24T20:42:46.134Z"
   },
   {
    "duration": 8,
    "start_time": "2022-03-24T20:42:46.179Z"
   },
   {
    "duration": 14,
    "start_time": "2022-03-24T20:42:46.190Z"
   },
   {
    "duration": 11,
    "start_time": "2022-03-24T20:42:46.206Z"
   },
   {
    "duration": 14,
    "start_time": "2022-03-24T20:42:46.219Z"
   },
   {
    "duration": 45,
    "start_time": "2022-03-24T20:42:46.236Z"
   },
   {
    "duration": 66,
    "start_time": "2022-03-24T20:42:46.283Z"
   },
   {
    "duration": 34,
    "start_time": "2022-03-24T20:45:18.638Z"
   },
   {
    "duration": 13,
    "start_time": "2022-03-24T20:45:29.911Z"
   },
   {
    "duration": 94,
    "start_time": "2022-03-24T20:45:42.972Z"
   },
   {
    "duration": 15,
    "start_time": "2022-03-24T20:45:53.269Z"
   },
   {
    "duration": 12,
    "start_time": "2022-03-24T20:46:15.127Z"
   },
   {
    "duration": 9,
    "start_time": "2022-03-24T20:46:25.772Z"
   },
   {
    "duration": 9,
    "start_time": "2022-03-24T20:46:31.085Z"
   },
   {
    "duration": 8,
    "start_time": "2022-03-24T20:46:36.278Z"
   },
   {
    "duration": 1371,
    "start_time": "2022-03-24T20:55:34.775Z"
   },
   {
    "duration": 1788,
    "start_time": "2022-03-24T20:55:45.991Z"
   },
   {
    "duration": 7,
    "start_time": "2022-03-24T20:56:14.059Z"
   },
   {
    "duration": 6,
    "start_time": "2022-03-24T20:56:31.001Z"
   },
   {
    "duration": 22,
    "start_time": "2022-03-24T20:56:56.949Z"
   },
   {
    "duration": 51,
    "start_time": "2022-03-24T20:57:21.929Z"
   },
   {
    "duration": 24,
    "start_time": "2022-03-24T20:57:44.230Z"
   },
   {
    "duration": 22,
    "start_time": "2022-03-24T21:05:43.069Z"
   },
   {
    "duration": 7,
    "start_time": "2022-03-24T22:15:41.763Z"
   },
   {
    "duration": 10,
    "start_time": "2022-03-24T22:16:02.418Z"
   },
   {
    "duration": 1693,
    "start_time": "2022-03-24T22:16:09.278Z"
   },
   {
    "duration": 24,
    "start_time": "2022-03-24T22:16:35.504Z"
   },
   {
    "duration": 1567,
    "start_time": "2022-03-24T22:17:10.899Z"
   },
   {
    "duration": 63,
    "start_time": "2022-03-24T22:17:12.469Z"
   },
   {
    "duration": 18,
    "start_time": "2022-03-24T22:17:12.534Z"
   },
   {
    "duration": 5,
    "start_time": "2022-03-24T22:17:12.554Z"
   },
   {
    "duration": 15,
    "start_time": "2022-03-24T22:17:12.562Z"
   },
   {
    "duration": 21,
    "start_time": "2022-03-24T22:17:12.580Z"
   },
   {
    "duration": 20,
    "start_time": "2022-03-24T22:17:12.604Z"
   },
   {
    "duration": 27,
    "start_time": "2022-03-24T22:17:12.626Z"
   },
   {
    "duration": 5,
    "start_time": "2022-03-24T22:17:12.675Z"
   },
   {
    "duration": 35,
    "start_time": "2022-03-24T22:17:12.683Z"
   },
   {
    "duration": 19,
    "start_time": "2022-03-24T22:17:12.721Z"
   },
   {
    "duration": 39,
    "start_time": "2022-03-24T22:17:12.743Z"
   },
   {
    "duration": 10,
    "start_time": "2022-03-24T22:17:12.785Z"
   },
   {
    "duration": 12,
    "start_time": "2022-03-24T22:17:12.798Z"
   },
   {
    "duration": 8,
    "start_time": "2022-03-24T22:17:12.812Z"
   },
   {
    "duration": 6,
    "start_time": "2022-03-24T22:17:12.822Z"
   },
   {
    "duration": 66,
    "start_time": "2022-03-24T22:17:12.829Z"
   },
   {
    "duration": 6,
    "start_time": "2022-03-24T22:17:12.897Z"
   },
   {
    "duration": 9,
    "start_time": "2022-03-24T22:17:12.905Z"
   },
   {
    "duration": 11,
    "start_time": "2022-03-24T22:17:12.916Z"
   },
   {
    "duration": 54,
    "start_time": "2022-03-24T22:17:12.930Z"
   },
   {
    "duration": 23,
    "start_time": "2022-03-24T22:17:12.987Z"
   },
   {
    "duration": 6,
    "start_time": "2022-03-24T22:17:13.014Z"
   },
   {
    "duration": 8,
    "start_time": "2022-03-24T22:17:13.022Z"
   },
   {
    "duration": 178,
    "start_time": "2022-03-24T22:17:13.073Z"
   },
   {
    "duration": 7,
    "start_time": "2022-03-24T22:17:28.652Z"
   },
   {
    "duration": 18,
    "start_time": "2022-03-24T22:17:30.614Z"
   },
   {
    "duration": 7,
    "start_time": "2022-03-24T22:18:03.739Z"
   },
   {
    "duration": 17,
    "start_time": "2022-03-24T22:18:04.790Z"
   },
   {
    "duration": 10,
    "start_time": "2022-03-24T22:18:18.928Z"
   },
   {
    "duration": 11,
    "start_time": "2022-03-24T22:20:31.964Z"
   },
   {
    "duration": 23,
    "start_time": "2022-03-24T22:20:32.971Z"
   },
   {
    "duration": 4,
    "start_time": "2022-03-24T22:21:29.240Z"
   },
   {
    "duration": 6,
    "start_time": "2022-03-24T22:21:36.745Z"
   },
   {
    "duration": 22,
    "start_time": "2022-03-24T22:21:37.546Z"
   },
   {
    "duration": 1732,
    "start_time": "2022-03-24T22:27:19.799Z"
   },
   {
    "duration": 64,
    "start_time": "2022-03-24T22:27:21.534Z"
   },
   {
    "duration": 29,
    "start_time": "2022-03-24T22:27:21.601Z"
   },
   {
    "duration": 10,
    "start_time": "2022-03-24T22:27:21.635Z"
   },
   {
    "duration": 32,
    "start_time": "2022-03-24T22:27:21.649Z"
   },
   {
    "duration": 22,
    "start_time": "2022-03-24T22:27:21.684Z"
   },
   {
    "duration": 46,
    "start_time": "2022-03-24T22:27:21.709Z"
   },
   {
    "duration": 26,
    "start_time": "2022-03-24T22:27:21.758Z"
   },
   {
    "duration": 6,
    "start_time": "2022-03-24T22:27:21.786Z"
   },
   {
    "duration": 20,
    "start_time": "2022-03-24T22:27:21.795Z"
   },
   {
    "duration": 58,
    "start_time": "2022-03-24T22:27:21.818Z"
   },
   {
    "duration": 10,
    "start_time": "2022-03-24T22:27:21.879Z"
   },
   {
    "duration": 11,
    "start_time": "2022-03-24T22:27:21.891Z"
   },
   {
    "duration": 14,
    "start_time": "2022-03-24T22:27:21.905Z"
   },
   {
    "duration": 21,
    "start_time": "2022-03-24T22:27:21.927Z"
   },
   {
    "duration": 30,
    "start_time": "2022-03-24T22:27:21.950Z"
   },
   {
    "duration": 24,
    "start_time": "2022-03-24T22:27:21.983Z"
   },
   {
    "duration": 42,
    "start_time": "2022-03-24T22:27:22.009Z"
   },
   {
    "duration": 30,
    "start_time": "2022-03-24T22:27:22.053Z"
   },
   {
    "duration": 25,
    "start_time": "2022-03-24T22:27:22.085Z"
   },
   {
    "duration": 45,
    "start_time": "2022-03-24T22:27:22.113Z"
   },
   {
    "duration": 21,
    "start_time": "2022-03-24T22:27:22.161Z"
   },
   {
    "duration": 19,
    "start_time": "2022-03-24T22:27:22.185Z"
   },
   {
    "duration": 25,
    "start_time": "2022-03-24T22:27:22.206Z"
   },
   {
    "duration": 263,
    "start_time": "2022-03-24T22:27:22.234Z"
   },
   {
    "duration": 6,
    "start_time": "2022-03-24T22:28:07.482Z"
   },
   {
    "duration": 631,
    "start_time": "2022-03-24T22:28:08.779Z"
   },
   {
    "duration": 555,
    "start_time": "2022-03-24T22:29:36.359Z"
   },
   {
    "duration": 6,
    "start_time": "2022-03-24T22:33:26.031Z"
   },
   {
    "duration": 1518,
    "start_time": "2022-03-24T22:35:01.731Z"
   },
   {
    "duration": 1439,
    "start_time": "2022-03-24T22:39:08.803Z"
   },
   {
    "duration": 1691,
    "start_time": "2022-03-24T22:39:22.851Z"
   },
   {
    "duration": 6,
    "start_time": "2022-03-24T22:39:51.896Z"
   },
   {
    "duration": 96,
    "start_time": "2022-03-24T22:40:40.844Z"
   },
   {
    "duration": 7,
    "start_time": "2022-03-24T22:40:46.788Z"
   },
   {
    "duration": 24,
    "start_time": "2022-03-24T22:41:19.667Z"
   },
   {
    "duration": 9,
    "start_time": "2022-03-24T22:41:27.508Z"
   },
   {
    "duration": 5,
    "start_time": "2022-03-24T22:43:44.693Z"
   },
   {
    "duration": 14,
    "start_time": "2022-03-24T22:43:55.731Z"
   },
   {
    "duration": 8,
    "start_time": "2022-03-24T22:44:31.858Z"
   },
   {
    "duration": 6,
    "start_time": "2022-03-24T22:44:43.787Z"
   },
   {
    "duration": 8,
    "start_time": "2022-03-24T22:51:14.590Z"
   },
   {
    "duration": 664,
    "start_time": "2022-03-24T22:52:27.486Z"
   },
   {
    "duration": 577,
    "start_time": "2022-03-24T22:52:40.166Z"
   },
   {
    "duration": 5,
    "start_time": "2022-03-24T23:00:02.461Z"
   },
   {
    "duration": 77,
    "start_time": "2022-03-24T23:00:26.097Z"
   },
   {
    "duration": 27,
    "start_time": "2022-03-24T23:03:46.276Z"
   },
   {
    "duration": 6,
    "start_time": "2022-03-24T23:04:54.507Z"
   },
   {
    "duration": 17,
    "start_time": "2022-03-24T23:04:56.946Z"
   },
   {
    "duration": 16,
    "start_time": "2022-03-24T23:05:04.636Z"
   },
   {
    "duration": 250,
    "start_time": "2022-03-24T23:14:13.492Z"
   },
   {
    "duration": 1149,
    "start_time": "2022-03-24T23:14:49.333Z"
   },
   {
    "duration": 1267,
    "start_time": "2022-03-24T23:15:04.049Z"
   },
   {
    "duration": 1129,
    "start_time": "2022-03-24T23:15:51.118Z"
   },
   {
    "duration": 918,
    "start_time": "2022-03-24T23:19:56.495Z"
   },
   {
    "duration": 864,
    "start_time": "2022-03-24T23:20:29.446Z"
   },
   {
    "duration": 358,
    "start_time": "2022-03-24T23:24:04.223Z"
   },
   {
    "duration": 716,
    "start_time": "2022-03-24T23:24:22.852Z"
   },
   {
    "duration": 1326,
    "start_time": "2022-03-25T13:43:40.535Z"
   },
   {
    "duration": 43,
    "start_time": "2022-03-25T13:43:41.864Z"
   },
   {
    "duration": 376,
    "start_time": "2022-03-25T13:43:41.909Z"
   },
   {
    "duration": 519,
    "start_time": "2022-03-25T13:43:42.287Z"
   },
   {
    "duration": 471,
    "start_time": "2022-03-25T13:43:42.809Z"
   },
   {
    "duration": 262,
    "start_time": "2022-03-25T13:43:43.282Z"
   },
   {
    "duration": 275,
    "start_time": "2022-03-25T13:43:43.546Z"
   },
   {
    "duration": 232,
    "start_time": "2022-03-25T13:43:43.822Z"
   },
   {
    "duration": 202,
    "start_time": "2022-03-25T13:43:44.056Z"
   },
   {
    "duration": 660,
    "start_time": "2022-03-25T13:43:44.259Z"
   },
   {
    "duration": 291,
    "start_time": "2022-03-25T13:43:44.921Z"
   },
   {
    "duration": 181,
    "start_time": "2022-03-25T13:43:45.214Z"
   },
   {
    "duration": 149,
    "start_time": "2022-03-25T13:43:45.397Z"
   },
   {
    "duration": 422,
    "start_time": "2022-03-25T13:43:45.550Z"
   },
   {
    "duration": 155,
    "start_time": "2022-03-25T13:43:45.974Z"
   },
   {
    "duration": 305,
    "start_time": "2022-03-25T13:43:46.131Z"
   },
   {
    "duration": 481,
    "start_time": "2022-03-25T13:43:46.437Z"
   },
   {
    "duration": 289,
    "start_time": "2022-03-25T13:43:46.920Z"
   },
   {
    "duration": 519,
    "start_time": "2022-03-25T13:43:47.210Z"
   },
   {
    "duration": 235,
    "start_time": "2022-03-25T13:43:47.731Z"
   },
   {
    "duration": 146,
    "start_time": "2022-03-25T13:43:47.968Z"
   },
   {
    "duration": 120,
    "start_time": "2022-03-25T13:43:48.116Z"
   },
   {
    "duration": 718,
    "start_time": "2022-03-25T13:43:48.238Z"
   },
   {
    "duration": 13,
    "start_time": "2022-03-25T13:43:48.958Z"
   },
   {
    "duration": 453,
    "start_time": "2022-03-25T13:43:48.973Z"
   },
   {
    "duration": 287,
    "start_time": "2022-03-25T13:43:49.428Z"
   },
   {
    "duration": 353,
    "start_time": "2022-03-25T13:43:49.716Z"
   },
   {
    "duration": 118,
    "start_time": "2022-03-25T13:43:50.070Z"
   },
   {
    "duration": 194,
    "start_time": "2022-03-25T13:43:50.190Z"
   },
   {
    "duration": 227,
    "start_time": "2022-03-25T13:43:50.385Z"
   },
   {
    "duration": 496,
    "start_time": "2022-03-25T13:43:50.613Z"
   },
   {
    "duration": 149,
    "start_time": "2022-03-25T13:43:51.111Z"
   },
   {
    "duration": 702,
    "start_time": "2022-03-25T13:43:51.262Z"
   },
   {
    "duration": 479,
    "start_time": "2022-03-25T13:43:51.965Z"
   },
   {
    "duration": 469,
    "start_time": "2022-03-25T13:43:52.446Z"
   },
   {
    "duration": 368,
    "start_time": "2022-03-25T13:49:20.389Z"
   },
   {
    "duration": 345,
    "start_time": "2022-03-25T13:49:32.767Z"
   },
   {
    "duration": 10,
    "start_time": "2022-03-25T13:53:57.404Z"
   },
   {
    "duration": 14,
    "start_time": "2022-03-25T13:54:14.301Z"
   },
   {
    "duration": 15,
    "start_time": "2022-03-25T13:57:18.969Z"
   },
   {
    "duration": 11,
    "start_time": "2022-03-25T14:17:05.508Z"
   },
   {
    "duration": 12,
    "start_time": "2022-03-25T14:19:13.380Z"
   },
   {
    "duration": 5,
    "start_time": "2022-03-25T14:24:47.471Z"
   },
   {
    "duration": 105,
    "start_time": "2022-03-25T14:24:55.677Z"
   },
   {
    "duration": 19,
    "start_time": "2022-03-25T14:25:49.632Z"
   },
   {
    "duration": 14,
    "start_time": "2022-03-25T14:25:59.844Z"
   },
   {
    "duration": 17,
    "start_time": "2022-03-25T14:26:14.314Z"
   },
   {
    "duration": 16,
    "start_time": "2022-03-25T14:28:14.770Z"
   },
   {
    "duration": 1163,
    "start_time": "2022-03-25T14:28:32.462Z"
   },
   {
    "duration": 46,
    "start_time": "2022-03-25T14:28:33.627Z"
   },
   {
    "duration": 12,
    "start_time": "2022-03-25T14:28:33.674Z"
   },
   {
    "duration": 4,
    "start_time": "2022-03-25T14:28:33.687Z"
   },
   {
    "duration": 12,
    "start_time": "2022-03-25T14:28:33.693Z"
   },
   {
    "duration": 8,
    "start_time": "2022-03-25T14:28:33.707Z"
   },
   {
    "duration": 35,
    "start_time": "2022-03-25T14:28:33.716Z"
   },
   {
    "duration": 14,
    "start_time": "2022-03-25T14:28:33.753Z"
   },
   {
    "duration": 6,
    "start_time": "2022-03-25T14:28:33.769Z"
   },
   {
    "duration": 19,
    "start_time": "2022-03-25T14:28:33.777Z"
   },
   {
    "duration": 11,
    "start_time": "2022-03-25T14:28:33.797Z"
   },
   {
    "duration": 12,
    "start_time": "2022-03-25T14:28:33.809Z"
   },
   {
    "duration": 20,
    "start_time": "2022-03-25T14:28:33.822Z"
   },
   {
    "duration": 10,
    "start_time": "2022-03-25T14:28:33.847Z"
   },
   {
    "duration": 10,
    "start_time": "2022-03-25T14:28:33.859Z"
   },
   {
    "duration": 7,
    "start_time": "2022-03-25T14:28:33.871Z"
   },
   {
    "duration": 7,
    "start_time": "2022-03-25T14:28:33.879Z"
   },
   {
    "duration": 7,
    "start_time": "2022-03-25T14:28:33.888Z"
   },
   {
    "duration": 6,
    "start_time": "2022-03-25T14:28:33.897Z"
   },
   {
    "duration": 41,
    "start_time": "2022-03-25T14:28:33.905Z"
   },
   {
    "duration": 18,
    "start_time": "2022-03-25T14:28:33.948Z"
   },
   {
    "duration": 5,
    "start_time": "2022-03-25T14:28:33.968Z"
   },
   {
    "duration": 399,
    "start_time": "2022-03-25T14:28:33.974Z"
   },
   {
    "duration": 14,
    "start_time": "2022-03-25T14:28:34.375Z"
   },
   {
    "duration": 10,
    "start_time": "2022-03-25T14:28:34.391Z"
   },
   {
    "duration": 7,
    "start_time": "2022-03-25T14:28:34.403Z"
   },
   {
    "duration": 15,
    "start_time": "2022-03-25T14:28:34.411Z"
   },
   {
    "duration": 6,
    "start_time": "2022-03-25T14:28:34.433Z"
   },
   {
    "duration": 16,
    "start_time": "2022-03-25T14:28:34.443Z"
   },
   {
    "duration": 6,
    "start_time": "2022-03-25T14:28:34.461Z"
   },
   {
    "duration": 17,
    "start_time": "2022-03-25T14:28:34.469Z"
   },
   {
    "duration": 11,
    "start_time": "2022-03-25T14:28:34.488Z"
   },
   {
    "duration": 664,
    "start_time": "2022-03-25T14:28:34.501Z"
   },
   {
    "duration": 477,
    "start_time": "2022-03-25T14:28:35.166Z"
   },
   {
    "duration": 489,
    "start_time": "2022-03-25T14:28:35.649Z"
   },
   {
    "duration": 360,
    "start_time": "2022-03-25T14:28:36.140Z"
   },
   {
    "duration": 11,
    "start_time": "2022-03-25T14:28:36.502Z"
   },
   {
    "duration": 30,
    "start_time": "2022-03-25T14:28:36.514Z"
   },
   {
    "duration": 11,
    "start_time": "2022-03-25T14:28:36.545Z"
   },
   {
    "duration": 10,
    "start_time": "2022-03-25T14:28:36.558Z"
   },
   {
    "duration": 19,
    "start_time": "2022-03-25T14:28:36.571Z"
   },
   {
    "duration": 50,
    "start_time": "2022-03-25T14:28:36.592Z"
   },
   {
    "duration": 767,
    "start_time": "2022-03-25T14:33:30.679Z"
   },
   {
    "duration": 1315,
    "start_time": "2022-03-25T21:33:26.094Z"
   },
   {
    "duration": 43,
    "start_time": "2022-03-25T21:33:27.411Z"
   },
   {
    "duration": 13,
    "start_time": "2022-03-25T21:33:27.456Z"
   },
   {
    "duration": 4,
    "start_time": "2022-03-25T21:33:27.470Z"
   },
   {
    "duration": 4,
    "start_time": "2022-03-25T21:33:27.477Z"
   },
   {
    "duration": 6,
    "start_time": "2022-03-25T21:33:27.482Z"
   },
   {
    "duration": 31,
    "start_time": "2022-03-25T21:33:27.489Z"
   },
   {
    "duration": 12,
    "start_time": "2022-03-25T21:33:27.522Z"
   },
   {
    "duration": 4,
    "start_time": "2022-03-25T21:33:27.536Z"
   },
   {
    "duration": 17,
    "start_time": "2022-03-25T21:33:27.541Z"
   },
   {
    "duration": 15,
    "start_time": "2022-03-25T21:33:27.559Z"
   },
   {
    "duration": 8,
    "start_time": "2022-03-25T21:33:27.608Z"
   },
   {
    "duration": 7,
    "start_time": "2022-03-25T21:33:27.618Z"
   },
   {
    "duration": 7,
    "start_time": "2022-03-25T21:33:27.629Z"
   },
   {
    "duration": 7,
    "start_time": "2022-03-25T21:33:27.638Z"
   },
   {
    "duration": 4,
    "start_time": "2022-03-25T21:33:27.646Z"
   },
   {
    "duration": 8,
    "start_time": "2022-03-25T21:33:27.652Z"
   },
   {
    "duration": 8,
    "start_time": "2022-03-25T21:33:27.661Z"
   },
   {
    "duration": 42,
    "start_time": "2022-03-25T21:33:27.670Z"
   },
   {
    "duration": 9,
    "start_time": "2022-03-25T21:33:27.714Z"
   },
   {
    "duration": 18,
    "start_time": "2022-03-25T21:33:27.725Z"
   },
   {
    "duration": 5,
    "start_time": "2022-03-25T21:33:27.744Z"
   },
   {
    "duration": 467,
    "start_time": "2022-03-25T21:33:27.751Z"
   },
   {
    "duration": 14,
    "start_time": "2022-03-25T21:33:28.220Z"
   },
   {
    "duration": 8,
    "start_time": "2022-03-25T21:33:28.235Z"
   },
   {
    "duration": 4,
    "start_time": "2022-03-25T21:33:28.245Z"
   },
   {
    "duration": 10,
    "start_time": "2022-03-25T21:33:28.251Z"
   },
   {
    "duration": 4,
    "start_time": "2022-03-25T21:33:28.263Z"
   },
   {
    "duration": 10,
    "start_time": "2022-03-25T21:33:28.268Z"
   },
   {
    "duration": 7,
    "start_time": "2022-03-25T21:33:28.280Z"
   },
   {
    "duration": 32,
    "start_time": "2022-03-25T21:33:28.289Z"
   },
   {
    "duration": 13,
    "start_time": "2022-03-25T21:33:28.322Z"
   },
   {
    "duration": 748,
    "start_time": "2022-03-25T21:33:28.336Z"
   },
   {
    "duration": 546,
    "start_time": "2022-03-25T21:33:29.086Z"
   },
   {
    "duration": 528,
    "start_time": "2022-03-25T21:33:29.634Z"
   },
   {
    "duration": 403,
    "start_time": "2022-03-25T21:33:30.163Z"
   },
   {
    "duration": 12,
    "start_time": "2022-03-25T21:33:30.567Z"
   },
   {
    "duration": 11,
    "start_time": "2022-03-25T21:33:30.580Z"
   },
   {
    "duration": 11,
    "start_time": "2022-03-25T21:33:30.609Z"
   },
   {
    "duration": 13,
    "start_time": "2022-03-25T21:33:30.622Z"
   },
   {
    "duration": 20,
    "start_time": "2022-03-25T21:33:30.639Z"
   },
   {
    "duration": 881,
    "start_time": "2022-03-25T21:33:30.660Z"
   },
   {
    "duration": 108,
    "start_time": "2022-03-25T21:34:54.514Z"
   },
   {
    "duration": 13,
    "start_time": "2022-03-25T21:35:07.386Z"
   },
   {
    "duration": 1142,
    "start_time": "2022-03-25T21:35:52.900Z"
   },
   {
    "duration": 41,
    "start_time": "2022-03-25T21:35:54.044Z"
   },
   {
    "duration": 13,
    "start_time": "2022-03-25T21:35:54.087Z"
   },
   {
    "duration": 3,
    "start_time": "2022-03-25T21:35:54.110Z"
   },
   {
    "duration": 6,
    "start_time": "2022-03-25T21:35:54.116Z"
   },
   {
    "duration": 5,
    "start_time": "2022-03-25T21:35:54.124Z"
   },
   {
    "duration": 13,
    "start_time": "2022-03-25T21:35:54.131Z"
   },
   {
    "duration": 13,
    "start_time": "2022-03-25T21:35:54.145Z"
   },
   {
    "duration": 4,
    "start_time": "2022-03-25T21:35:54.159Z"
   },
   {
    "duration": 45,
    "start_time": "2022-03-25T21:35:54.164Z"
   },
   {
    "duration": 13,
    "start_time": "2022-03-25T21:35:54.211Z"
   },
   {
    "duration": 7,
    "start_time": "2022-03-25T21:35:54.226Z"
   },
   {
    "duration": 6,
    "start_time": "2022-03-25T21:35:54.234Z"
   },
   {
    "duration": 8,
    "start_time": "2022-03-25T21:35:54.243Z"
   },
   {
    "duration": 7,
    "start_time": "2022-03-25T21:35:54.252Z"
   },
   {
    "duration": 4,
    "start_time": "2022-03-25T21:35:54.260Z"
   },
   {
    "duration": 5,
    "start_time": "2022-03-25T21:35:54.310Z"
   },
   {
    "duration": 5,
    "start_time": "2022-03-25T21:35:54.317Z"
   },
   {
    "duration": 5,
    "start_time": "2022-03-25T21:35:54.324Z"
   },
   {
    "duration": 10,
    "start_time": "2022-03-25T21:35:54.331Z"
   },
   {
    "duration": 21,
    "start_time": "2022-03-25T21:35:54.343Z"
   },
   {
    "duration": 45,
    "start_time": "2022-03-25T21:35:54.366Z"
   },
   {
    "duration": 400,
    "start_time": "2022-03-25T21:35:54.414Z"
   },
   {
    "duration": 15,
    "start_time": "2022-03-25T21:35:54.816Z"
   },
   {
    "duration": 6,
    "start_time": "2022-03-25T21:35:54.832Z"
   },
   {
    "duration": 3,
    "start_time": "2022-03-25T21:35:54.840Z"
   },
   {
    "duration": 7,
    "start_time": "2022-03-25T21:35:54.845Z"
   },
   {
    "duration": 4,
    "start_time": "2022-03-25T21:35:54.854Z"
   },
   {
    "duration": 9,
    "start_time": "2022-03-25T21:35:54.859Z"
   },
   {
    "duration": 6,
    "start_time": "2022-03-25T21:35:54.870Z"
   },
   {
    "duration": 13,
    "start_time": "2022-03-25T21:35:54.908Z"
   },
   {
    "duration": 12,
    "start_time": "2022-03-25T21:35:54.923Z"
   },
   {
    "duration": 716,
    "start_time": "2022-03-25T21:35:54.936Z"
   },
   {
    "duration": 535,
    "start_time": "2022-03-25T21:35:55.654Z"
   },
   {
    "duration": 532,
    "start_time": "2022-03-25T21:35:56.190Z"
   },
   {
    "duration": 409,
    "start_time": "2022-03-25T21:35:56.723Z"
   },
   {
    "duration": 11,
    "start_time": "2022-03-25T21:35:57.134Z"
   },
   {
    "duration": 11,
    "start_time": "2022-03-25T21:35:57.147Z"
   },
   {
    "duration": 10,
    "start_time": "2022-03-25T21:35:57.160Z"
   },
   {
    "duration": 39,
    "start_time": "2022-03-25T21:35:57.171Z"
   },
   {
    "duration": 18,
    "start_time": "2022-03-25T21:35:57.213Z"
   },
   {
    "duration": 797,
    "start_time": "2022-03-25T21:35:57.232Z"
   },
   {
    "duration": 2216,
    "start_time": "2022-03-26T08:10:16.521Z"
   },
   {
    "duration": 54,
    "start_time": "2022-03-26T08:10:18.740Z"
   },
   {
    "duration": 19,
    "start_time": "2022-03-26T08:10:18.796Z"
   },
   {
    "duration": 5,
    "start_time": "2022-03-26T08:10:18.818Z"
   },
   {
    "duration": 6,
    "start_time": "2022-03-26T08:10:18.825Z"
   },
   {
    "duration": 38,
    "start_time": "2022-03-26T08:10:18.834Z"
   },
   {
    "duration": 17,
    "start_time": "2022-03-26T08:10:18.876Z"
   },
   {
    "duration": 18,
    "start_time": "2022-03-26T08:10:18.896Z"
   },
   {
    "duration": 5,
    "start_time": "2022-03-26T08:10:18.916Z"
   },
   {
    "duration": 58,
    "start_time": "2022-03-26T08:10:18.925Z"
   },
   {
    "duration": 15,
    "start_time": "2022-03-26T08:10:18.985Z"
   },
   {
    "duration": 9,
    "start_time": "2022-03-26T08:10:19.003Z"
   },
   {
    "duration": 7,
    "start_time": "2022-03-26T08:10:19.015Z"
   },
   {
    "duration": 11,
    "start_time": "2022-03-26T08:10:19.067Z"
   },
   {
    "duration": 9,
    "start_time": "2022-03-26T08:10:19.080Z"
   },
   {
    "duration": 5,
    "start_time": "2022-03-26T08:10:19.091Z"
   },
   {
    "duration": 6,
    "start_time": "2022-03-26T08:10:19.098Z"
   },
   {
    "duration": 7,
    "start_time": "2022-03-26T08:10:19.106Z"
   },
   {
    "duration": 6,
    "start_time": "2022-03-26T08:10:19.168Z"
   },
   {
    "duration": 10,
    "start_time": "2022-03-26T08:10:19.177Z"
   },
   {
    "duration": 29,
    "start_time": "2022-03-26T08:10:19.189Z"
   },
   {
    "duration": 8,
    "start_time": "2022-03-26T08:10:19.220Z"
   },
   {
    "duration": 632,
    "start_time": "2022-03-26T08:10:19.267Z"
   },
   {
    "duration": 21,
    "start_time": "2022-03-26T08:10:19.902Z"
   },
   {
    "duration": 7,
    "start_time": "2022-03-26T08:10:19.925Z"
   },
   {
    "duration": 7,
    "start_time": "2022-03-26T08:10:19.934Z"
   },
   {
    "duration": 30,
    "start_time": "2022-03-26T08:10:19.943Z"
   },
   {
    "duration": 4,
    "start_time": "2022-03-26T08:10:19.979Z"
   },
   {
    "duration": 6,
    "start_time": "2022-03-26T08:10:19.985Z"
   },
   {
    "duration": 5,
    "start_time": "2022-03-26T08:10:19.993Z"
   },
   {
    "duration": 20,
    "start_time": "2022-03-26T08:10:20.000Z"
   },
   {
    "duration": 59,
    "start_time": "2022-03-26T08:10:20.022Z"
   },
   {
    "duration": 1158,
    "start_time": "2022-03-26T08:10:20.083Z"
   },
   {
    "duration": 824,
    "start_time": "2022-03-26T08:10:21.244Z"
   },
   {
    "duration": 679,
    "start_time": "2022-03-26T08:10:22.070Z"
   },
   {
    "duration": 604,
    "start_time": "2022-03-26T08:10:22.752Z"
   },
   {
    "duration": 24,
    "start_time": "2022-03-26T08:10:23.358Z"
   },
   {
    "duration": 15,
    "start_time": "2022-03-26T08:10:23.384Z"
   },
   {
    "duration": 15,
    "start_time": "2022-03-26T08:10:23.401Z"
   },
   {
    "duration": 54,
    "start_time": "2022-03-26T08:10:23.418Z"
   },
   {
    "duration": 27,
    "start_time": "2022-03-26T08:10:23.474Z"
   },
   {
    "duration": 1177,
    "start_time": "2022-03-26T08:10:23.503Z"
   },
   {
    "duration": 556,
    "start_time": "2022-03-26T08:12:13.753Z"
   },
   {
    "duration": 172,
    "start_time": "2022-03-26T08:18:56.768Z"
   },
   {
    "duration": 4,
    "start_time": "2022-03-26T08:18:59.661Z"
   },
   {
    "duration": 21,
    "start_time": "2022-03-26T08:19:01.167Z"
   },
   {
    "duration": 16,
    "start_time": "2022-03-26T08:20:44.740Z"
   },
   {
    "duration": 31,
    "start_time": "2022-03-26T08:20:58.814Z"
   },
   {
    "duration": 3,
    "start_time": "2022-03-26T08:22:13.406Z"
   },
   {
    "duration": 25,
    "start_time": "2022-03-26T08:22:14.037Z"
   },
   {
    "duration": 11,
    "start_time": "2022-03-26T08:22:15.280Z"
   },
   {
    "duration": 28,
    "start_time": "2022-03-26T08:22:16.189Z"
   },
   {
    "duration": 36,
    "start_time": "2022-03-26T08:22:46.268Z"
   },
   {
    "duration": 1969,
    "start_time": "2022-03-26T08:22:58.128Z"
   },
   {
    "duration": 52,
    "start_time": "2022-03-26T08:23:00.100Z"
   },
   {
    "duration": 29,
    "start_time": "2022-03-26T08:23:00.155Z"
   },
   {
    "duration": 5,
    "start_time": "2022-03-26T08:23:00.188Z"
   },
   {
    "duration": 8,
    "start_time": "2022-03-26T08:23:00.196Z"
   },
   {
    "duration": 10,
    "start_time": "2022-03-26T08:23:00.207Z"
   },
   {
    "duration": 64,
    "start_time": "2022-03-26T08:23:00.220Z"
   },
   {
    "duration": 42,
    "start_time": "2022-03-26T08:23:00.286Z"
   },
   {
    "duration": 7,
    "start_time": "2022-03-26T08:23:00.330Z"
   },
   {
    "duration": 29,
    "start_time": "2022-03-26T08:23:00.343Z"
   },
   {
    "duration": 31,
    "start_time": "2022-03-26T08:23:00.374Z"
   },
   {
    "duration": 11,
    "start_time": "2022-03-26T08:23:00.407Z"
   },
   {
    "duration": 12,
    "start_time": "2022-03-26T08:23:00.420Z"
   },
   {
    "duration": 34,
    "start_time": "2022-03-26T08:23:00.434Z"
   },
   {
    "duration": 10,
    "start_time": "2022-03-26T08:23:00.470Z"
   },
   {
    "duration": 6,
    "start_time": "2022-03-26T08:23:00.482Z"
   },
   {
    "duration": 17,
    "start_time": "2022-03-26T08:23:00.491Z"
   },
   {
    "duration": 15,
    "start_time": "2022-03-26T08:23:00.511Z"
   },
   {
    "duration": 13,
    "start_time": "2022-03-26T08:23:00.529Z"
   },
   {
    "duration": 9,
    "start_time": "2022-03-26T08:23:00.567Z"
   },
   {
    "duration": 34,
    "start_time": "2022-03-26T08:23:00.579Z"
   },
   {
    "duration": 7,
    "start_time": "2022-03-26T08:23:00.615Z"
   },
   {
    "duration": 642,
    "start_time": "2022-03-26T08:23:00.625Z"
   },
   {
    "duration": 21,
    "start_time": "2022-03-26T08:23:01.270Z"
   },
   {
    "duration": 17,
    "start_time": "2022-03-26T08:23:01.293Z"
   },
   {
    "duration": 7,
    "start_time": "2022-03-26T08:23:01.312Z"
   },
   {
    "duration": 14,
    "start_time": "2022-03-26T08:23:01.321Z"
   },
   {
    "duration": 30,
    "start_time": "2022-03-26T08:23:01.340Z"
   },
   {
    "duration": 11,
    "start_time": "2022-03-26T08:23:01.372Z"
   },
   {
    "duration": 8,
    "start_time": "2022-03-26T08:23:01.385Z"
   },
   {
    "duration": 21,
    "start_time": "2022-03-26T08:23:01.395Z"
   },
   {
    "duration": 19,
    "start_time": "2022-03-26T08:23:01.418Z"
   },
   {
    "duration": 1222,
    "start_time": "2022-03-26T08:23:01.439Z"
   },
   {
    "duration": 845,
    "start_time": "2022-03-26T08:23:02.664Z"
   },
   {
    "duration": 705,
    "start_time": "2022-03-26T08:23:03.512Z"
   },
   {
    "duration": 662,
    "start_time": "2022-03-26T08:23:04.220Z"
   },
   {
    "duration": 16,
    "start_time": "2022-03-26T08:23:04.886Z"
   },
   {
    "duration": 15,
    "start_time": "2022-03-26T08:23:04.904Z"
   },
   {
    "duration": 48,
    "start_time": "2022-03-26T08:23:04.921Z"
   },
   {
    "duration": 18,
    "start_time": "2022-03-26T08:23:04.971Z"
   },
   {
    "duration": 28,
    "start_time": "2022-03-26T08:23:04.991Z"
   },
   {
    "duration": 1203,
    "start_time": "2022-03-26T08:23:05.021Z"
   },
   {
    "duration": 559,
    "start_time": "2022-03-26T08:23:06.227Z"
   },
   {
    "duration": 4,
    "start_time": "2022-03-26T08:23:06.788Z"
   },
   {
    "duration": 28,
    "start_time": "2022-03-26T08:23:06.794Z"
   },
   {
    "duration": 14,
    "start_time": "2022-03-26T08:23:06.825Z"
   },
   {
    "duration": 41,
    "start_time": "2022-03-26T08:23:06.867Z"
   },
   {
    "duration": 5,
    "start_time": "2022-03-26T08:25:23.671Z"
   },
   {
    "duration": 6,
    "start_time": "2022-03-26T08:25:24.607Z"
   },
   {
    "duration": 13,
    "start_time": "2022-03-26T08:26:03.715Z"
   },
   {
    "duration": 4,
    "start_time": "2022-03-26T08:26:08.103Z"
   },
   {
    "duration": 19,
    "start_time": "2022-03-26T08:26:08.673Z"
   },
   {
    "duration": 37,
    "start_time": "2022-03-26T08:26:11.766Z"
   },
   {
    "duration": 1876,
    "start_time": "2022-03-26T08:26:36.138Z"
   },
   {
    "duration": 65,
    "start_time": "2022-03-26T08:26:38.017Z"
   },
   {
    "duration": 17,
    "start_time": "2022-03-26T08:26:38.084Z"
   },
   {
    "duration": 5,
    "start_time": "2022-03-26T08:26:38.104Z"
   },
   {
    "duration": 7,
    "start_time": "2022-03-26T08:26:38.114Z"
   },
   {
    "duration": 45,
    "start_time": "2022-03-26T08:26:38.123Z"
   },
   {
    "duration": 19,
    "start_time": "2022-03-26T08:26:38.170Z"
   },
   {
    "duration": 21,
    "start_time": "2022-03-26T08:26:38.192Z"
   },
   {
    "duration": 6,
    "start_time": "2022-03-26T08:26:38.215Z"
   },
   {
    "duration": 57,
    "start_time": "2022-03-26T08:26:38.223Z"
   },
   {
    "duration": 16,
    "start_time": "2022-03-26T08:26:38.283Z"
   },
   {
    "duration": 9,
    "start_time": "2022-03-26T08:26:38.301Z"
   },
   {
    "duration": 12,
    "start_time": "2022-03-26T08:26:38.312Z"
   },
   {
    "duration": 45,
    "start_time": "2022-03-26T08:26:38.329Z"
   },
   {
    "duration": 9,
    "start_time": "2022-03-26T08:26:38.376Z"
   },
   {
    "duration": 7,
    "start_time": "2022-03-26T08:26:38.387Z"
   },
   {
    "duration": 9,
    "start_time": "2022-03-26T08:26:38.396Z"
   },
   {
    "duration": 6,
    "start_time": "2022-03-26T08:26:38.407Z"
   },
   {
    "duration": 8,
    "start_time": "2022-03-26T08:26:38.415Z"
   },
   {
    "duration": 10,
    "start_time": "2022-03-26T08:26:38.469Z"
   },
   {
    "duration": 28,
    "start_time": "2022-03-26T08:26:38.481Z"
   },
   {
    "duration": 7,
    "start_time": "2022-03-26T08:26:38.511Z"
   },
   {
    "duration": 625,
    "start_time": "2022-03-26T08:26:38.521Z"
   },
   {
    "duration": 30,
    "start_time": "2022-03-26T08:26:39.148Z"
   },
   {
    "duration": 6,
    "start_time": "2022-03-26T08:26:39.180Z"
   },
   {
    "duration": 5,
    "start_time": "2022-03-26T08:26:39.187Z"
   },
   {
    "duration": 10,
    "start_time": "2022-03-26T08:26:39.194Z"
   },
   {
    "duration": 5,
    "start_time": "2022-03-26T08:26:39.206Z"
   },
   {
    "duration": 7,
    "start_time": "2022-03-26T08:26:39.213Z"
   },
   {
    "duration": 5,
    "start_time": "2022-03-26T08:26:39.268Z"
   },
   {
    "duration": 22,
    "start_time": "2022-03-26T08:26:39.275Z"
   },
   {
    "duration": 15,
    "start_time": "2022-03-26T08:26:39.299Z"
   },
   {
    "duration": 1245,
    "start_time": "2022-03-26T08:26:39.316Z"
   },
   {
    "duration": 854,
    "start_time": "2022-03-26T08:26:40.563Z"
   },
   {
    "duration": 686,
    "start_time": "2022-03-26T08:26:41.420Z"
   },
   {
    "duration": 622,
    "start_time": "2022-03-26T08:26:42.109Z"
   },
   {
    "duration": 16,
    "start_time": "2022-03-26T08:26:42.734Z"
   },
   {
    "duration": 15,
    "start_time": "2022-03-26T08:26:42.767Z"
   },
   {
    "duration": 14,
    "start_time": "2022-03-26T08:26:42.784Z"
   },
   {
    "duration": 21,
    "start_time": "2022-03-26T08:26:42.801Z"
   },
   {
    "duration": 66,
    "start_time": "2022-03-26T08:26:42.827Z"
   },
   {
    "duration": 1017,
    "start_time": "2022-03-26T08:26:42.895Z"
   },
   {
    "duration": 560,
    "start_time": "2022-03-26T08:26:43.914Z"
   },
   {
    "duration": 3,
    "start_time": "2022-03-26T08:26:44.477Z"
   },
   {
    "duration": 35,
    "start_time": "2022-03-26T08:26:44.482Z"
   },
   {
    "duration": 19,
    "start_time": "2022-03-26T08:26:44.519Z"
   },
   {
    "duration": 58,
    "start_time": "2022-03-26T08:26:44.540Z"
   },
   {
    "duration": 8,
    "start_time": "2022-03-26T08:33:50.612Z"
   },
   {
    "duration": 9,
    "start_time": "2022-03-26T08:37:43.986Z"
   },
   {
    "duration": 12,
    "start_time": "2022-03-26T08:38:49.107Z"
   },
   {
    "duration": 164,
    "start_time": "2022-03-26T08:41:54.425Z"
   },
   {
    "duration": 7,
    "start_time": "2022-03-26T08:42:10.541Z"
   },
   {
    "duration": 15,
    "start_time": "2022-03-26T08:44:23.287Z"
   },
   {
    "duration": 6,
    "start_time": "2022-03-26T08:44:32.705Z"
   },
   {
    "duration": 6,
    "start_time": "2022-03-26T08:45:12.033Z"
   },
   {
    "duration": 1803,
    "start_time": "2022-03-26T22:07:50.142Z"
   },
   {
    "duration": 49,
    "start_time": "2022-03-26T22:07:51.947Z"
   },
   {
    "duration": 15,
    "start_time": "2022-03-26T22:07:51.998Z"
   },
   {
    "duration": 4,
    "start_time": "2022-03-26T22:07:52.016Z"
   },
   {
    "duration": 4,
    "start_time": "2022-03-26T22:07:52.032Z"
   },
   {
    "duration": 7,
    "start_time": "2022-03-26T22:07:52.038Z"
   },
   {
    "duration": 22,
    "start_time": "2022-03-26T22:07:52.047Z"
   },
   {
    "duration": 13,
    "start_time": "2022-03-26T22:07:52.071Z"
   },
   {
    "duration": 7,
    "start_time": "2022-03-26T22:07:52.086Z"
   },
   {
    "duration": 46,
    "start_time": "2022-03-26T22:07:52.095Z"
   },
   {
    "duration": 14,
    "start_time": "2022-03-26T22:07:52.143Z"
   },
   {
    "duration": 8,
    "start_time": "2022-03-26T22:07:52.159Z"
   },
   {
    "duration": 6,
    "start_time": "2022-03-26T22:07:52.170Z"
   },
   {
    "duration": 9,
    "start_time": "2022-03-26T22:07:52.180Z"
   },
   {
    "duration": 45,
    "start_time": "2022-03-26T22:07:52.191Z"
   },
   {
    "duration": 5,
    "start_time": "2022-03-26T22:07:52.239Z"
   },
   {
    "duration": 6,
    "start_time": "2022-03-26T22:07:52.246Z"
   },
   {
    "duration": 5,
    "start_time": "2022-03-26T22:07:52.254Z"
   },
   {
    "duration": 6,
    "start_time": "2022-03-26T22:07:52.261Z"
   },
   {
    "duration": 9,
    "start_time": "2022-03-26T22:07:52.268Z"
   },
   {
    "duration": 56,
    "start_time": "2022-03-26T22:07:52.279Z"
   },
   {
    "duration": 6,
    "start_time": "2022-03-26T22:07:52.337Z"
   },
   {
    "duration": 496,
    "start_time": "2022-03-26T22:07:52.345Z"
   },
   {
    "duration": 16,
    "start_time": "2022-03-26T22:07:52.842Z"
   },
   {
    "duration": 11,
    "start_time": "2022-03-26T22:07:52.859Z"
   },
   {
    "duration": 9,
    "start_time": "2022-03-26T22:07:52.872Z"
   },
   {
    "duration": 9,
    "start_time": "2022-03-26T22:07:52.883Z"
   },
   {
    "duration": 5,
    "start_time": "2022-03-26T22:07:52.894Z"
   },
   {
    "duration": 7,
    "start_time": "2022-03-26T22:07:52.901Z"
   },
   {
    "duration": 4,
    "start_time": "2022-03-26T22:07:52.932Z"
   },
   {
    "duration": 18,
    "start_time": "2022-03-26T22:07:52.938Z"
   },
   {
    "duration": 13,
    "start_time": "2022-03-26T22:07:52.958Z"
   },
   {
    "duration": 859,
    "start_time": "2022-03-26T22:07:52.972Z"
   },
   {
    "duration": 566,
    "start_time": "2022-03-26T22:07:53.833Z"
   },
   {
    "duration": 476,
    "start_time": "2022-03-26T22:07:54.401Z"
   },
   {
    "duration": 424,
    "start_time": "2022-03-26T22:07:54.879Z"
   },
   {
    "duration": 12,
    "start_time": "2022-03-26T22:07:55.305Z"
   },
   {
    "duration": 23,
    "start_time": "2022-03-26T22:07:55.319Z"
   },
   {
    "duration": 11,
    "start_time": "2022-03-26T22:07:55.344Z"
   },
   {
    "duration": 15,
    "start_time": "2022-03-26T22:07:55.357Z"
   },
   {
    "duration": 24,
    "start_time": "2022-03-26T22:07:55.376Z"
   },
   {
    "duration": 774,
    "start_time": "2022-03-26T22:07:55.401Z"
   },
   {
    "duration": 414,
    "start_time": "2022-03-26T22:07:56.177Z"
   },
   {
    "duration": 3,
    "start_time": "2022-03-26T22:07:56.593Z"
   },
   {
    "duration": 19,
    "start_time": "2022-03-26T22:07:56.598Z"
   },
   {
    "duration": 14,
    "start_time": "2022-03-26T22:07:56.632Z"
   },
   {
    "duration": 26,
    "start_time": "2022-03-26T22:07:56.648Z"
   },
   {
    "duration": 5,
    "start_time": "2022-03-26T22:07:56.675Z"
   },
   {
    "duration": 9,
    "start_time": "2022-03-26T22:07:56.682Z"
   },
   {
    "duration": 39,
    "start_time": "2022-03-26T22:07:56.693Z"
   },
   {
    "duration": 4,
    "start_time": "2022-03-26T22:07:56.734Z"
   },
   {
    "duration": 136,
    "start_time": "2022-03-26T22:17:28.599Z"
   },
   {
    "duration": 25,
    "start_time": "2022-03-26T22:18:15.961Z"
   },
   {
    "duration": 319,
    "start_time": "2022-03-26T22:18:50.879Z"
   },
   {
    "duration": 213,
    "start_time": "2022-03-26T22:20:10.137Z"
   },
   {
    "duration": 207,
    "start_time": "2022-03-26T22:20:54.305Z"
   },
   {
    "duration": 574,
    "start_time": "2022-03-26T22:21:20.548Z"
   },
   {
    "duration": 585,
    "start_time": "2022-03-26T22:24:38.649Z"
   },
   {
    "duration": 322,
    "start_time": "2022-03-26T22:25:14.311Z"
   },
   {
    "duration": 283,
    "start_time": "2022-03-26T22:35:02.783Z"
   },
   {
    "duration": 275,
    "start_time": "2022-03-26T22:37:01.144Z"
   },
   {
    "duration": 4494,
    "start_time": "2022-03-26T22:38:21.796Z"
   },
   {
    "duration": 4858,
    "start_time": "2022-03-26T22:39:17.513Z"
   },
   {
    "duration": 706,
    "start_time": "2022-03-26T22:48:18.728Z"
   },
   {
    "duration": 9,
    "start_time": "2022-03-26T23:15:38.770Z"
   },
   {
    "duration": 280,
    "start_time": "2022-03-26T23:33:13.484Z"
   },
   {
    "duration": 4895,
    "start_time": "2022-03-26T23:37:18.009Z"
   },
   {
    "duration": 4853,
    "start_time": "2022-03-26T23:40:05.500Z"
   },
   {
    "duration": 284,
    "start_time": "2022-03-26T23:40:13.940Z"
   },
   {
    "duration": 269,
    "start_time": "2022-03-26T23:40:37.599Z"
   },
   {
    "duration": 4906,
    "start_time": "2022-03-26T23:40:41.240Z"
   },
   {
    "duration": 590,
    "start_time": "2022-03-26T23:41:37.243Z"
   },
   {
    "duration": 454,
    "start_time": "2022-03-26T23:43:09.579Z"
   },
   {
    "duration": 520,
    "start_time": "2022-03-26T23:43:25.619Z"
   },
   {
    "duration": 4,
    "start_time": "2022-03-26T23:56:08.740Z"
   },
   {
    "duration": 12,
    "start_time": "2022-03-26T23:56:10.524Z"
   },
   {
    "duration": 446,
    "start_time": "2022-03-26T23:57:20.612Z"
   },
   {
    "duration": 10,
    "start_time": "2022-03-26T23:58:48.099Z"
   },
   {
    "duration": 294,
    "start_time": "2022-03-26T23:58:49.414Z"
   },
   {
    "duration": 10,
    "start_time": "2022-03-26T23:59:08.106Z"
   },
   {
    "duration": 325,
    "start_time": "2022-03-26T23:59:09.627Z"
   },
   {
    "duration": 10,
    "start_time": "2022-03-26T23:59:20.662Z"
   },
   {
    "duration": 286,
    "start_time": "2022-03-26T23:59:23.487Z"
   },
   {
    "duration": 5451,
    "start_time": "2022-03-27T00:00:42.380Z"
   },
   {
    "duration": 420,
    "start_time": "2022-03-27T00:04:49.515Z"
   },
   {
    "duration": 534,
    "start_time": "2022-03-27T00:05:15.299Z"
   },
   {
    "duration": 1581,
    "start_time": "2022-03-27T15:09:07.192Z"
   },
   {
    "duration": 44,
    "start_time": "2022-03-27T15:09:08.775Z"
   },
   {
    "duration": 14,
    "start_time": "2022-03-27T15:09:08.820Z"
   },
   {
    "duration": 3,
    "start_time": "2022-03-27T15:09:08.835Z"
   },
   {
    "duration": 4,
    "start_time": "2022-03-27T15:09:08.841Z"
   },
   {
    "duration": 5,
    "start_time": "2022-03-27T15:09:08.847Z"
   },
   {
    "duration": 15,
    "start_time": "2022-03-27T15:09:08.854Z"
   },
   {
    "duration": 39,
    "start_time": "2022-03-27T15:09:08.871Z"
   },
   {
    "duration": 3,
    "start_time": "2022-03-27T15:09:08.913Z"
   },
   {
    "duration": 14,
    "start_time": "2022-03-27T15:09:08.918Z"
   },
   {
    "duration": 12,
    "start_time": "2022-03-27T15:09:08.934Z"
   },
   {
    "duration": 7,
    "start_time": "2022-03-27T15:09:08.948Z"
   },
   {
    "duration": 5,
    "start_time": "2022-03-27T15:09:08.957Z"
   },
   {
    "duration": 8,
    "start_time": "2022-03-27T15:09:09.009Z"
   },
   {
    "duration": 7,
    "start_time": "2022-03-27T15:09:09.019Z"
   },
   {
    "duration": 5,
    "start_time": "2022-03-27T15:09:09.028Z"
   },
   {
    "duration": 5,
    "start_time": "2022-03-27T15:09:09.035Z"
   },
   {
    "duration": 5,
    "start_time": "2022-03-27T15:09:09.041Z"
   },
   {
    "duration": 6,
    "start_time": "2022-03-27T15:09:09.047Z"
   },
   {
    "duration": 57,
    "start_time": "2022-03-27T15:09:09.054Z"
   },
   {
    "duration": 19,
    "start_time": "2022-03-27T15:09:09.113Z"
   },
   {
    "duration": 5,
    "start_time": "2022-03-27T15:09:09.133Z"
   },
   {
    "duration": 473,
    "start_time": "2022-03-27T15:09:09.140Z"
   },
   {
    "duration": 15,
    "start_time": "2022-03-27T15:09:09.615Z"
   },
   {
    "duration": 5,
    "start_time": "2022-03-27T15:09:09.632Z"
   },
   {
    "duration": 5,
    "start_time": "2022-03-27T15:09:09.639Z"
   },
   {
    "duration": 8,
    "start_time": "2022-03-27T15:09:09.645Z"
   },
   {
    "duration": 5,
    "start_time": "2022-03-27T15:09:09.654Z"
   },
   {
    "duration": 7,
    "start_time": "2022-03-27T15:09:09.661Z"
   },
   {
    "duration": 5,
    "start_time": "2022-03-27T15:09:09.669Z"
   },
   {
    "duration": 13,
    "start_time": "2022-03-27T15:09:09.709Z"
   },
   {
    "duration": 12,
    "start_time": "2022-03-27T15:09:09.723Z"
   },
   {
    "duration": 790,
    "start_time": "2022-03-27T15:09:09.737Z"
   },
   {
    "duration": 530,
    "start_time": "2022-03-27T15:09:10.529Z"
   },
   {
    "duration": 444,
    "start_time": "2022-03-27T15:09:11.060Z"
   },
   {
    "duration": 390,
    "start_time": "2022-03-27T15:09:11.508Z"
   },
   {
    "duration": 18,
    "start_time": "2022-03-27T15:09:11.900Z"
   },
   {
    "duration": 10,
    "start_time": "2022-03-27T15:09:11.920Z"
   },
   {
    "duration": 18,
    "start_time": "2022-03-27T15:09:11.932Z"
   },
   {
    "duration": 15,
    "start_time": "2022-03-27T15:09:11.952Z"
   },
   {
    "duration": 45,
    "start_time": "2022-03-27T15:09:11.971Z"
   },
   {
    "duration": 697,
    "start_time": "2022-03-27T15:09:12.018Z"
   },
   {
    "duration": 347,
    "start_time": "2022-03-27T15:09:12.717Z"
   },
   {
    "duration": 3,
    "start_time": "2022-03-27T15:09:13.066Z"
   },
   {
    "duration": 17,
    "start_time": "2022-03-27T15:09:13.071Z"
   },
   {
    "duration": 30,
    "start_time": "2022-03-27T15:09:13.089Z"
   },
   {
    "duration": 23,
    "start_time": "2022-03-27T15:09:13.120Z"
   },
   {
    "duration": 5,
    "start_time": "2022-03-27T15:09:13.144Z"
   },
   {
    "duration": 9,
    "start_time": "2022-03-27T15:09:13.150Z"
   },
   {
    "duration": 4,
    "start_time": "2022-03-27T15:09:13.161Z"
   },
   {
    "duration": 6,
    "start_time": "2022-03-27T15:09:13.167Z"
   },
   {
    "duration": 403,
    "start_time": "2022-03-27T15:09:13.174Z"
   },
   {
    "duration": 4624,
    "start_time": "2022-03-27T15:09:13.579Z"
   },
   {
    "duration": 506,
    "start_time": "2022-03-27T15:09:18.205Z"
   },
   {
    "duration": 362,
    "start_time": "2022-03-27T15:09:18.713Z"
   },
   {
    "duration": 4657,
    "start_time": "2022-03-27T15:09:19.077Z"
   },
   {
    "duration": 380,
    "start_time": "2022-03-27T15:09:23.736Z"
   },
   {
    "duration": 92,
    "start_time": "2022-03-27T15:09:24.118Z"
   },
   {
    "duration": 13,
    "start_time": "2022-03-27T15:09:24.211Z"
   },
   {
    "duration": 296,
    "start_time": "2022-03-27T15:09:24.226Z"
   },
   {
    "duration": 5004,
    "start_time": "2022-03-27T15:09:24.524Z"
   },
   {
    "duration": 392,
    "start_time": "2022-03-27T15:09:29.530Z"
   },
   {
    "duration": 5,
    "start_time": "2022-03-27T15:10:56.950Z"
   },
   {
    "duration": 10,
    "start_time": "2022-03-27T15:18:27.851Z"
   },
   {
    "duration": 10,
    "start_time": "2022-03-27T15:18:54.368Z"
   },
   {
    "duration": 5,
    "start_time": "2022-03-27T15:19:47.696Z"
   },
   {
    "duration": 217,
    "start_time": "2022-03-27T15:20:48.666Z"
   },
   {
    "duration": 12,
    "start_time": "2022-03-27T15:21:04.881Z"
   },
   {
    "duration": 168,
    "start_time": "2022-03-27T15:21:09.595Z"
   },
   {
    "duration": 10,
    "start_time": "2022-03-27T15:21:41.532Z"
   },
   {
    "duration": 171,
    "start_time": "2022-03-27T15:21:45.241Z"
   },
   {
    "duration": 9,
    "start_time": "2022-03-27T15:21:53.120Z"
   },
   {
    "duration": 126,
    "start_time": "2022-03-27T15:21:55.993Z"
   },
   {
    "duration": 10,
    "start_time": "2022-03-27T15:22:04.017Z"
   },
   {
    "duration": 155,
    "start_time": "2022-03-27T15:22:07.185Z"
   },
   {
    "duration": 2694,
    "start_time": "2022-03-27T15:23:46.414Z"
   },
   {
    "duration": 10,
    "start_time": "2022-03-27T15:24:38.709Z"
   },
   {
    "duration": 2153,
    "start_time": "2022-03-27T15:24:42.627Z"
   },
   {
    "duration": 10,
    "start_time": "2022-03-27T15:24:54.565Z"
   },
   {
    "duration": 3002,
    "start_time": "2022-03-27T15:24:58.048Z"
   },
   {
    "duration": 12,
    "start_time": "2022-03-27T15:25:12.999Z"
   },
   {
    "duration": 4045,
    "start_time": "2022-03-27T15:25:16.635Z"
   },
   {
    "duration": 221,
    "start_time": "2022-03-27T15:25:32.279Z"
   },
   {
    "duration": 83,
    "start_time": "2022-03-27T15:35:59.652Z"
   },
   {
    "duration": 654,
    "start_time": "2022-03-27T15:36:26.423Z"
   },
   {
    "duration": 1551,
    "start_time": "2022-03-27T15:38:38.152Z"
   },
   {
    "duration": 2687,
    "start_time": "2022-03-27T15:39:27.155Z"
   },
   {
    "duration": 668,
    "start_time": "2022-03-27T15:41:14.031Z"
   },
   {
    "duration": 11767,
    "start_time": "2022-03-27T15:41:54.344Z"
   },
   {
    "duration": 995,
    "start_time": "2022-03-27T15:42:38.228Z"
   },
   {
    "duration": 2679,
    "start_time": "2022-03-27T15:44:31.982Z"
   },
   {
    "duration": 46007,
    "start_time": "2022-03-27T15:45:26.841Z"
   },
   {
    "duration": 10339,
    "start_time": "2022-03-27T15:48:43.384Z"
   },
   {
    "duration": 72,
    "start_time": "2022-03-27T15:57:02.781Z"
   },
   {
    "duration": 136,
    "start_time": "2022-03-27T15:57:17.168Z"
   },
   {
    "duration": 649,
    "start_time": "2022-03-27T15:57:34.267Z"
   },
   {
    "duration": 584,
    "start_time": "2022-03-27T15:57:55.446Z"
   },
   {
    "duration": 653,
    "start_time": "2022-03-27T15:58:25.805Z"
   },
   {
    "duration": 611,
    "start_time": "2022-03-27T15:58:32.892Z"
   },
   {
    "duration": 11709,
    "start_time": "2022-03-27T16:01:55.452Z"
   },
   {
    "duration": 11550,
    "start_time": "2022-03-27T16:02:30.473Z"
   },
   {
    "duration": 11409,
    "start_time": "2022-03-27T16:03:22.659Z"
   },
   {
    "duration": 2604,
    "start_time": "2022-03-27T16:04:13.331Z"
   },
   {
    "duration": 1598,
    "start_time": "2022-03-27T20:51:35.618Z"
   },
   {
    "duration": 39,
    "start_time": "2022-03-27T20:51:37.218Z"
   },
   {
    "duration": 13,
    "start_time": "2022-03-27T20:51:37.258Z"
   },
   {
    "duration": 6,
    "start_time": "2022-03-27T20:51:37.273Z"
   },
   {
    "duration": 9,
    "start_time": "2022-03-27T20:51:37.281Z"
   },
   {
    "duration": 10,
    "start_time": "2022-03-27T20:51:37.291Z"
   },
   {
    "duration": 15,
    "start_time": "2022-03-27T20:51:37.303Z"
   },
   {
    "duration": 55,
    "start_time": "2022-03-27T20:51:37.322Z"
   },
   {
    "duration": 6,
    "start_time": "2022-03-27T20:51:37.378Z"
   },
   {
    "duration": 15,
    "start_time": "2022-03-27T20:51:37.385Z"
   },
   {
    "duration": 11,
    "start_time": "2022-03-27T20:51:37.401Z"
   },
   {
    "duration": 8,
    "start_time": "2022-03-27T20:51:37.414Z"
   },
   {
    "duration": 7,
    "start_time": "2022-03-27T20:51:37.424Z"
   },
   {
    "duration": 10,
    "start_time": "2022-03-27T20:51:37.438Z"
   },
   {
    "duration": 6,
    "start_time": "2022-03-27T20:51:37.449Z"
   },
   {
    "duration": 6,
    "start_time": "2022-03-27T20:51:37.457Z"
   },
   {
    "duration": 5,
    "start_time": "2022-03-27T20:51:37.465Z"
   },
   {
    "duration": 5,
    "start_time": "2022-03-27T20:51:37.471Z"
   },
   {
    "duration": 6,
    "start_time": "2022-03-27T20:51:37.478Z"
   },
   {
    "duration": 11,
    "start_time": "2022-03-27T20:51:37.485Z"
   },
   {
    "duration": 47,
    "start_time": "2022-03-27T20:51:37.497Z"
   },
   {
    "duration": 5,
    "start_time": "2022-03-27T20:51:37.546Z"
   },
   {
    "duration": 478,
    "start_time": "2022-03-27T20:51:37.552Z"
   },
   {
    "duration": 16,
    "start_time": "2022-03-27T20:51:38.032Z"
   },
   {
    "duration": 5,
    "start_time": "2022-03-27T20:51:38.050Z"
   },
   {
    "duration": 7,
    "start_time": "2022-03-27T20:51:38.057Z"
   },
   {
    "duration": 9,
    "start_time": "2022-03-27T20:51:38.066Z"
   },
   {
    "duration": 5,
    "start_time": "2022-03-27T20:51:38.077Z"
   },
   {
    "duration": 8,
    "start_time": "2022-03-27T20:51:38.084Z"
   },
   {
    "duration": 5,
    "start_time": "2022-03-27T20:51:38.094Z"
   },
   {
    "duration": 50,
    "start_time": "2022-03-27T20:51:38.101Z"
   },
   {
    "duration": 15,
    "start_time": "2022-03-27T20:51:38.153Z"
   },
   {
    "duration": 756,
    "start_time": "2022-03-27T20:51:38.170Z"
   },
   {
    "duration": 500,
    "start_time": "2022-03-27T20:51:38.927Z"
   },
   {
    "duration": 449,
    "start_time": "2022-03-27T20:51:39.429Z"
   },
   {
    "duration": 384,
    "start_time": "2022-03-27T20:51:39.880Z"
   },
   {
    "duration": 12,
    "start_time": "2022-03-27T20:51:40.267Z"
   },
   {
    "duration": 10,
    "start_time": "2022-03-27T20:51:40.281Z"
   },
   {
    "duration": 11,
    "start_time": "2022-03-27T20:51:40.293Z"
   },
   {
    "duration": 43,
    "start_time": "2022-03-27T20:51:40.306Z"
   },
   {
    "duration": 22,
    "start_time": "2022-03-27T20:51:40.354Z"
   },
   {
    "duration": 653,
    "start_time": "2022-03-27T20:51:40.377Z"
   },
   {
    "duration": 346,
    "start_time": "2022-03-27T20:51:41.032Z"
   },
   {
    "duration": 3,
    "start_time": "2022-03-27T20:51:41.379Z"
   },
   {
    "duration": 18,
    "start_time": "2022-03-27T20:51:41.383Z"
   },
   {
    "duration": 12,
    "start_time": "2022-03-27T20:51:41.402Z"
   },
   {
    "duration": 39,
    "start_time": "2022-03-27T20:51:41.416Z"
   },
   {
    "duration": 5,
    "start_time": "2022-03-27T20:51:41.456Z"
   },
   {
    "duration": 10,
    "start_time": "2022-03-27T20:51:41.462Z"
   },
   {
    "duration": 8,
    "start_time": "2022-03-27T20:51:41.474Z"
   },
   {
    "duration": 6,
    "start_time": "2022-03-27T20:51:41.484Z"
   },
   {
    "duration": 389,
    "start_time": "2022-03-27T20:51:41.492Z"
   },
   {
    "duration": 4456,
    "start_time": "2022-03-27T20:51:41.883Z"
   },
   {
    "duration": 407,
    "start_time": "2022-03-27T20:51:46.341Z"
   },
   {
    "duration": 361,
    "start_time": "2022-03-27T20:51:46.839Z"
   },
   {
    "duration": 4302,
    "start_time": "2022-03-27T20:51:47.202Z"
   },
   {
    "duration": 832,
    "start_time": "2022-03-27T20:51:51.506Z"
   },
   {
    "duration": 6,
    "start_time": "2022-03-27T20:51:52.340Z"
   },
   {
    "duration": 12,
    "start_time": "2022-03-27T20:51:52.348Z"
   },
   {
    "duration": 638,
    "start_time": "2022-03-27T20:51:52.362Z"
   },
   {
    "duration": 10308,
    "start_time": "2022-03-27T20:51:53.002Z"
   },
   {
    "duration": 1633,
    "start_time": "2022-03-27T20:52:03.312Z"
   },
   {
    "duration": 94,
    "start_time": "2022-03-27T20:52:04.948Z"
   },
   {
    "duration": 99,
    "start_time": "2022-03-27T20:52:05.047Z"
   },
   {
    "duration": 2380,
    "start_time": "2022-03-27T20:52:05.147Z"
   },
   {
    "duration": 41160,
    "start_time": "2022-03-27T20:52:07.537Z"
   },
   {
    "duration": 6740,
    "start_time": "2022-03-27T20:52:48.699Z"
   },
   {
    "duration": 2355,
    "start_time": "2022-03-27T20:53:16.369Z"
   },
   {
    "duration": 40071,
    "start_time": "2022-03-27T20:54:55.084Z"
   },
   {
    "duration": 6643,
    "start_time": "2022-03-27T20:56:11.201Z"
   },
   {
    "duration": 533,
    "start_time": "2022-03-27T20:57:55.519Z"
   },
   {
    "duration": 10223,
    "start_time": "2022-03-27T20:58:01.953Z"
   },
   {
    "duration": 2255,
    "start_time": "2022-03-27T21:01:24.042Z"
   },
   {
    "duration": 6123,
    "start_time": "2022-03-27T21:06:42.115Z"
   },
   {
    "duration": 1090,
    "start_time": "2022-03-27T21:07:18.654Z"
   },
   {
    "duration": 252,
    "start_time": "2022-03-27T21:08:06.659Z"
   },
   {
    "duration": 4306,
    "start_time": "2022-03-27T21:10:38.688Z"
   },
   {
    "duration": 231,
    "start_time": "2022-03-27T21:11:27.815Z"
   },
   {
    "duration": 3884,
    "start_time": "2022-03-27T21:11:50.710Z"
   },
   {
    "duration": 252,
    "start_time": "2022-03-27T21:12:10.006Z"
   },
   {
    "duration": 248,
    "start_time": "2022-03-27T21:12:39.781Z"
   },
   {
    "duration": 3851,
    "start_time": "2022-03-27T21:13:27.313Z"
   },
   {
    "duration": 402,
    "start_time": "2022-03-27T21:14:04.239Z"
   },
   {
    "duration": 4,
    "start_time": "2022-03-27T21:19:49.090Z"
   },
   {
    "duration": 42,
    "start_time": "2022-03-27T21:19:49.097Z"
   },
   {
    "duration": 11,
    "start_time": "2022-03-27T21:19:49.140Z"
   },
   {
    "duration": 3,
    "start_time": "2022-03-27T21:19:49.153Z"
   },
   {
    "duration": 4,
    "start_time": "2022-03-27T21:19:49.158Z"
   },
   {
    "duration": 10,
    "start_time": "2022-03-27T21:19:49.164Z"
   },
   {
    "duration": 13,
    "start_time": "2022-03-27T21:19:49.175Z"
   },
   {
    "duration": 11,
    "start_time": "2022-03-27T21:19:49.190Z"
   },
   {
    "duration": 35,
    "start_time": "2022-03-27T21:19:49.203Z"
   },
   {
    "duration": 12,
    "start_time": "2022-03-27T21:19:49.240Z"
   },
   {
    "duration": 12,
    "start_time": "2022-03-27T21:19:49.254Z"
   },
   {
    "duration": 8,
    "start_time": "2022-03-27T21:19:49.268Z"
   },
   {
    "duration": 5,
    "start_time": "2022-03-27T21:19:49.279Z"
   },
   {
    "duration": 14,
    "start_time": "2022-03-27T21:19:49.285Z"
   },
   {
    "duration": 7,
    "start_time": "2022-03-27T21:19:49.338Z"
   },
   {
    "duration": 7,
    "start_time": "2022-03-27T21:19:49.346Z"
   },
   {
    "duration": 5,
    "start_time": "2022-03-27T21:19:49.355Z"
   },
   {
    "duration": 6,
    "start_time": "2022-03-27T21:19:49.361Z"
   },
   {
    "duration": 6,
    "start_time": "2022-03-27T21:19:49.368Z"
   },
   {
    "duration": 8,
    "start_time": "2022-03-27T21:19:49.375Z"
   },
   {
    "duration": 19,
    "start_time": "2022-03-27T21:19:49.384Z"
   },
   {
    "duration": 33,
    "start_time": "2022-03-27T21:19:49.404Z"
   },
   {
    "duration": 333,
    "start_time": "2022-03-27T21:19:49.439Z"
   },
   {
    "duration": 15,
    "start_time": "2022-03-27T21:19:49.773Z"
   },
   {
    "duration": 6,
    "start_time": "2022-03-27T21:19:49.790Z"
   },
   {
    "duration": 5,
    "start_time": "2022-03-27T21:19:49.798Z"
   },
   {
    "duration": 10,
    "start_time": "2022-03-27T21:19:49.804Z"
   },
   {
    "duration": 25,
    "start_time": "2022-03-27T21:19:49.816Z"
   },
   {
    "duration": 7,
    "start_time": "2022-03-27T21:19:49.843Z"
   },
   {
    "duration": 5,
    "start_time": "2022-03-27T21:19:49.852Z"
   },
   {
    "duration": 19,
    "start_time": "2022-03-27T21:19:49.858Z"
   },
   {
    "duration": 11,
    "start_time": "2022-03-27T21:19:49.879Z"
   },
   {
    "duration": 660,
    "start_time": "2022-03-27T21:19:49.892Z"
   },
   {
    "duration": 565,
    "start_time": "2022-03-27T21:19:50.554Z"
   },
   {
    "duration": 396,
    "start_time": "2022-03-27T21:19:51.120Z"
   },
   {
    "duration": 368,
    "start_time": "2022-03-27T21:19:51.517Z"
   },
   {
    "duration": 12,
    "start_time": "2022-03-27T21:19:51.890Z"
   },
   {
    "duration": 11,
    "start_time": "2022-03-27T21:19:51.904Z"
   },
   {
    "duration": 13,
    "start_time": "2022-03-27T21:19:51.937Z"
   },
   {
    "duration": 15,
    "start_time": "2022-03-27T21:19:51.952Z"
   },
   {
    "duration": 22,
    "start_time": "2022-03-27T21:19:51.969Z"
   },
   {
    "duration": 713,
    "start_time": "2022-03-27T21:19:51.993Z"
   },
   {
    "duration": 372,
    "start_time": "2022-03-27T21:19:52.708Z"
   },
   {
    "duration": 3,
    "start_time": "2022-03-27T21:19:53.082Z"
   },
   {
    "duration": 30,
    "start_time": "2022-03-27T21:19:53.086Z"
   },
   {
    "duration": 13,
    "start_time": "2022-03-27T21:19:53.118Z"
   },
   {
    "duration": 23,
    "start_time": "2022-03-27T21:19:53.136Z"
   },
   {
    "duration": 4,
    "start_time": "2022-03-27T21:19:53.161Z"
   },
   {
    "duration": 8,
    "start_time": "2022-03-27T21:19:53.167Z"
   },
   {
    "duration": 6,
    "start_time": "2022-03-27T21:19:53.177Z"
   },
   {
    "duration": 6,
    "start_time": "2022-03-27T21:19:53.185Z"
   },
   {
    "duration": 282,
    "start_time": "2022-03-27T21:19:53.192Z"
   },
   {
    "duration": 3869,
    "start_time": "2022-03-27T21:19:53.476Z"
   },
   {
    "duration": 399,
    "start_time": "2022-03-27T21:19:57.346Z"
   },
   {
    "duration": 359,
    "start_time": "2022-03-27T21:19:57.747Z"
   },
   {
    "duration": 4065,
    "start_time": "2022-03-27T21:19:58.107Z"
   },
   {
    "duration": 175,
    "start_time": "2022-03-27T21:20:02.174Z"
   },
   {
    "duration": 6,
    "start_time": "2022-03-27T21:20:02.440Z"
   },
   {
    "duration": 564,
    "start_time": "2022-03-27T21:20:02.538Z"
   },
   {
    "duration": 10166,
    "start_time": "2022-03-27T21:20:03.103Z"
   },
   {
    "duration": 1171,
    "start_time": "2022-03-27T21:20:13.270Z"
   },
   {
    "duration": 95,
    "start_time": "2022-03-27T21:20:14.443Z"
   },
   {
    "duration": 2368,
    "start_time": "2022-03-27T21:20:14.540Z"
   },
   {
    "duration": 39273,
    "start_time": "2022-03-27T21:20:16.910Z"
   },
   {
    "duration": 6254,
    "start_time": "2022-03-27T21:20:56.184Z"
   },
   {
    "duration": 108,
    "start_time": "2022-03-27T21:25:32.745Z"
   },
   {
    "duration": 24,
    "start_time": "2022-03-27T21:29:42.271Z"
   },
   {
    "duration": 23,
    "start_time": "2022-03-27T21:31:00.891Z"
   },
   {
    "duration": 155,
    "start_time": "2022-03-27T21:32:59.732Z"
   },
   {
    "duration": 121,
    "start_time": "2022-03-27T21:33:15.319Z"
   },
   {
    "duration": 204,
    "start_time": "2022-03-27T21:33:40.212Z"
   },
   {
    "duration": 174,
    "start_time": "2022-03-27T21:34:51.436Z"
   },
   {
    "duration": 207,
    "start_time": "2022-03-27T21:35:00.215Z"
   },
   {
    "duration": 309,
    "start_time": "2022-03-27T21:36:40.887Z"
   },
   {
    "duration": 296,
    "start_time": "2022-03-27T21:37:09.186Z"
   },
   {
    "duration": 367,
    "start_time": "2022-03-27T21:37:18.741Z"
   },
   {
    "duration": 33,
    "start_time": "2022-03-27T21:38:30.500Z"
   },
   {
    "duration": 31,
    "start_time": "2022-03-27T21:38:42.186Z"
   },
   {
    "duration": 158,
    "start_time": "2022-03-27T21:47:27.065Z"
   },
   {
    "duration": 203,
    "start_time": "2022-03-27T21:47:36.692Z"
   },
   {
    "duration": 307,
    "start_time": "2022-03-27T22:27:14.952Z"
   },
   {
    "duration": 201,
    "start_time": "2022-03-27T22:33:08.523Z"
   },
   {
    "duration": 179,
    "start_time": "2022-03-27T22:33:16.828Z"
   },
   {
    "duration": 207,
    "start_time": "2022-03-27T22:33:27.495Z"
   },
   {
    "duration": 220,
    "start_time": "2022-03-27T22:33:34.500Z"
   },
   {
    "duration": 213,
    "start_time": "2022-03-27T22:33:41.998Z"
   },
   {
    "duration": 208,
    "start_time": "2022-03-27T22:33:48.627Z"
   },
   {
    "duration": 202,
    "start_time": "2022-03-27T22:34:02.427Z"
   },
   {
    "duration": 22,
    "start_time": "2022-03-27T22:37:28.243Z"
   },
   {
    "duration": 1518,
    "start_time": "2022-03-27T22:59:24.823Z"
   },
   {
    "duration": 45,
    "start_time": "2022-03-27T22:59:26.343Z"
   },
   {
    "duration": 12,
    "start_time": "2022-03-27T22:59:26.390Z"
   },
   {
    "duration": 4,
    "start_time": "2022-03-27T22:59:26.403Z"
   },
   {
    "duration": 5,
    "start_time": "2022-03-27T22:59:26.409Z"
   },
   {
    "duration": 8,
    "start_time": "2022-03-27T22:59:26.415Z"
   },
   {
    "duration": 21,
    "start_time": "2022-03-27T22:59:26.425Z"
   },
   {
    "duration": 11,
    "start_time": "2022-03-27T22:59:26.448Z"
   },
   {
    "duration": 5,
    "start_time": "2022-03-27T22:59:26.461Z"
   },
   {
    "duration": 12,
    "start_time": "2022-03-27T22:59:26.467Z"
   },
   {
    "duration": 11,
    "start_time": "2022-03-27T22:59:26.481Z"
   },
   {
    "duration": 6,
    "start_time": "2022-03-27T22:59:26.493Z"
   },
   {
    "duration": 37,
    "start_time": "2022-03-27T22:59:26.501Z"
   },
   {
    "duration": 7,
    "start_time": "2022-03-27T22:59:26.542Z"
   },
   {
    "duration": 5,
    "start_time": "2022-03-27T22:59:26.551Z"
   },
   {
    "duration": 4,
    "start_time": "2022-03-27T22:59:26.558Z"
   },
   {
    "duration": 5,
    "start_time": "2022-03-27T22:59:26.564Z"
   },
   {
    "duration": 6,
    "start_time": "2022-03-27T22:59:26.570Z"
   },
   {
    "duration": 5,
    "start_time": "2022-03-27T22:59:26.578Z"
   },
   {
    "duration": 7,
    "start_time": "2022-03-27T22:59:26.585Z"
   },
   {
    "duration": 55,
    "start_time": "2022-03-27T22:59:26.594Z"
   },
   {
    "duration": 6,
    "start_time": "2022-03-27T22:59:26.651Z"
   },
   {
    "duration": 412,
    "start_time": "2022-03-27T22:59:26.658Z"
   },
   {
    "duration": 13,
    "start_time": "2022-03-27T22:59:27.072Z"
   },
   {
    "duration": 18,
    "start_time": "2022-03-27T22:59:27.086Z"
   },
   {
    "duration": 16,
    "start_time": "2022-03-27T22:59:27.106Z"
   },
   {
    "duration": 22,
    "start_time": "2022-03-27T22:59:27.124Z"
   },
   {
    "duration": 4,
    "start_time": "2022-03-27T22:59:27.148Z"
   },
   {
    "duration": 17,
    "start_time": "2022-03-27T22:59:27.153Z"
   },
   {
    "duration": 18,
    "start_time": "2022-03-27T22:59:27.172Z"
   },
   {
    "duration": 32,
    "start_time": "2022-03-27T22:59:27.192Z"
   },
   {
    "duration": 34,
    "start_time": "2022-03-27T22:59:27.226Z"
   },
   {
    "duration": 775,
    "start_time": "2022-03-27T22:59:27.262Z"
   },
   {
    "duration": 501,
    "start_time": "2022-03-27T22:59:28.039Z"
   },
   {
    "duration": 404,
    "start_time": "2022-03-27T22:59:28.541Z"
   },
   {
    "duration": 362,
    "start_time": "2022-03-27T22:59:28.947Z"
   },
   {
    "duration": 12,
    "start_time": "2022-03-27T22:59:29.310Z"
   },
   {
    "duration": 24,
    "start_time": "2022-03-27T22:59:29.323Z"
   },
   {
    "duration": 10,
    "start_time": "2022-03-27T22:59:29.349Z"
   },
   {
    "duration": 14,
    "start_time": "2022-03-27T22:59:29.361Z"
   },
   {
    "duration": 20,
    "start_time": "2022-03-27T22:59:29.379Z"
   },
   {
    "duration": 700,
    "start_time": "2022-03-27T22:59:29.401Z"
   },
   {
    "duration": 5479,
    "start_time": "2022-03-27T22:59:30.103Z"
   },
   {
    "duration": 0,
    "start_time": "2022-03-27T22:59:35.584Z"
   },
   {
    "duration": 0,
    "start_time": "2022-03-27T22:59:35.585Z"
   },
   {
    "duration": 0,
    "start_time": "2022-03-27T22:59:35.586Z"
   },
   {
    "duration": 0,
    "start_time": "2022-03-27T22:59:35.587Z"
   },
   {
    "duration": 0,
    "start_time": "2022-03-27T22:59:35.588Z"
   },
   {
    "duration": 0,
    "start_time": "2022-03-27T22:59:35.589Z"
   },
   {
    "duration": 0,
    "start_time": "2022-03-27T22:59:35.590Z"
   },
   {
    "duration": 0,
    "start_time": "2022-03-27T22:59:35.591Z"
   },
   {
    "duration": 0,
    "start_time": "2022-03-27T22:59:35.592Z"
   },
   {
    "duration": 0,
    "start_time": "2022-03-27T22:59:35.593Z"
   },
   {
    "duration": 0,
    "start_time": "2022-03-27T22:59:35.594Z"
   },
   {
    "duration": 0,
    "start_time": "2022-03-27T22:59:35.595Z"
   },
   {
    "duration": 0,
    "start_time": "2022-03-27T22:59:35.596Z"
   },
   {
    "duration": 0,
    "start_time": "2022-03-27T22:59:35.596Z"
   },
   {
    "duration": 0,
    "start_time": "2022-03-27T22:59:35.597Z"
   },
   {
    "duration": 0,
    "start_time": "2022-03-27T22:59:35.598Z"
   },
   {
    "duration": 0,
    "start_time": "2022-03-27T22:59:35.599Z"
   },
   {
    "duration": 0,
    "start_time": "2022-03-27T22:59:35.600Z"
   },
   {
    "duration": 0,
    "start_time": "2022-03-27T22:59:35.747Z"
   },
   {
    "duration": 0,
    "start_time": "2022-03-27T22:59:35.748Z"
   },
   {
    "duration": 0,
    "start_time": "2022-03-27T22:59:35.749Z"
   },
   {
    "duration": 0,
    "start_time": "2022-03-27T22:59:35.750Z"
   },
   {
    "duration": 0,
    "start_time": "2022-03-27T22:59:35.752Z"
   },
   {
    "duration": 0,
    "start_time": "2022-03-27T22:59:35.752Z"
   },
   {
    "duration": 0,
    "start_time": "2022-03-27T22:59:35.753Z"
   },
   {
    "duration": 0,
    "start_time": "2022-03-27T22:59:35.754Z"
   },
   {
    "duration": 1415,
    "start_time": "2022-03-27T23:03:20.996Z"
   },
   {
    "duration": 37,
    "start_time": "2022-03-27T23:03:22.413Z"
   },
   {
    "duration": 11,
    "start_time": "2022-03-27T23:03:22.452Z"
   },
   {
    "duration": 3,
    "start_time": "2022-03-27T23:03:22.465Z"
   },
   {
    "duration": 9,
    "start_time": "2022-03-27T23:03:22.469Z"
   },
   {
    "duration": 9,
    "start_time": "2022-03-27T23:03:22.480Z"
   },
   {
    "duration": 13,
    "start_time": "2022-03-27T23:03:22.491Z"
   },
   {
    "duration": 33,
    "start_time": "2022-03-27T23:03:22.506Z"
   },
   {
    "duration": 5,
    "start_time": "2022-03-27T23:03:22.541Z"
   },
   {
    "duration": 15,
    "start_time": "2022-03-27T23:03:22.549Z"
   },
   {
    "duration": 12,
    "start_time": "2022-03-27T23:03:22.566Z"
   },
   {
    "duration": 6,
    "start_time": "2022-03-27T23:03:22.580Z"
   },
   {
    "duration": 6,
    "start_time": "2022-03-27T23:03:22.588Z"
   },
   {
    "duration": 45,
    "start_time": "2022-03-27T23:03:22.595Z"
   },
   {
    "duration": 7,
    "start_time": "2022-03-27T23:03:22.642Z"
   },
   {
    "duration": 5,
    "start_time": "2022-03-27T23:03:22.651Z"
   },
   {
    "duration": 5,
    "start_time": "2022-03-27T23:03:22.658Z"
   },
   {
    "duration": 6,
    "start_time": "2022-03-27T23:03:22.665Z"
   },
   {
    "duration": 5,
    "start_time": "2022-03-27T23:03:22.673Z"
   },
   {
    "duration": 9,
    "start_time": "2022-03-27T23:03:22.680Z"
   },
   {
    "duration": 57,
    "start_time": "2022-03-27T23:03:22.691Z"
   },
   {
    "duration": 6,
    "start_time": "2022-03-27T23:03:22.750Z"
   },
   {
    "duration": 429,
    "start_time": "2022-03-27T23:03:22.758Z"
   },
   {
    "duration": 13,
    "start_time": "2022-03-27T23:03:23.189Z"
   },
   {
    "duration": 6,
    "start_time": "2022-03-27T23:03:23.203Z"
   },
   {
    "duration": 9,
    "start_time": "2022-03-27T23:03:23.210Z"
   },
   {
    "duration": 18,
    "start_time": "2022-03-27T23:03:23.220Z"
   },
   {
    "duration": 5,
    "start_time": "2022-03-27T23:03:23.242Z"
   },
   {
    "duration": 7,
    "start_time": "2022-03-27T23:03:23.248Z"
   },
   {
    "duration": 6,
    "start_time": "2022-03-27T23:03:23.257Z"
   },
   {
    "duration": 17,
    "start_time": "2022-03-27T23:03:23.265Z"
   },
   {
    "duration": 12,
    "start_time": "2022-03-27T23:03:23.284Z"
   },
   {
    "duration": 755,
    "start_time": "2022-03-27T23:03:23.297Z"
   },
   {
    "duration": 484,
    "start_time": "2022-03-27T23:03:24.053Z"
   },
   {
    "duration": 401,
    "start_time": "2022-03-27T23:03:24.539Z"
   },
   {
    "duration": 378,
    "start_time": "2022-03-27T23:03:24.942Z"
   },
   {
    "duration": 22,
    "start_time": "2022-03-27T23:03:25.322Z"
   },
   {
    "duration": 10,
    "start_time": "2022-03-27T23:03:25.345Z"
   },
   {
    "duration": 9,
    "start_time": "2022-03-27T23:03:25.357Z"
   },
   {
    "duration": 13,
    "start_time": "2022-03-27T23:03:25.368Z"
   },
   {
    "duration": 21,
    "start_time": "2022-03-27T23:03:25.383Z"
   },
   {
    "duration": 695,
    "start_time": "2022-03-27T23:03:25.405Z"
   },
   {
    "duration": 367,
    "start_time": "2022-03-27T23:03:26.102Z"
   },
   {
    "duration": 3,
    "start_time": "2022-03-27T23:03:26.471Z"
   },
   {
    "duration": 20,
    "start_time": "2022-03-27T23:03:26.475Z"
   },
   {
    "duration": 13,
    "start_time": "2022-03-27T23:03:26.497Z"
   },
   {
    "duration": 40,
    "start_time": "2022-03-27T23:03:26.511Z"
   },
   {
    "duration": 4,
    "start_time": "2022-03-27T23:03:26.552Z"
   },
   {
    "duration": 8,
    "start_time": "2022-03-27T23:03:26.558Z"
   },
   {
    "duration": 5,
    "start_time": "2022-03-27T23:03:26.567Z"
   },
   {
    "duration": 8,
    "start_time": "2022-03-27T23:03:26.573Z"
   },
   {
    "duration": 395,
    "start_time": "2022-03-27T23:03:26.582Z"
   },
   {
    "duration": 3912,
    "start_time": "2022-03-27T23:03:26.979Z"
   },
   {
    "duration": 453,
    "start_time": "2022-03-27T23:03:30.892Z"
   },
   {
    "duration": 446,
    "start_time": "2022-03-27T23:03:31.347Z"
   },
   {
    "duration": 3934,
    "start_time": "2022-03-27T23:03:31.795Z"
   },
   {
    "duration": 414,
    "start_time": "2022-03-27T23:03:35.731Z"
   },
   {
    "duration": 4,
    "start_time": "2022-03-27T23:03:36.237Z"
   },
   {
    "duration": 589,
    "start_time": "2022-03-27T23:03:36.243Z"
   },
   {
    "duration": 10236,
    "start_time": "2022-03-27T23:03:36.837Z"
   },
   {
    "duration": 1264,
    "start_time": "2022-03-27T23:03:47.075Z"
   },
   {
    "duration": 97,
    "start_time": "2022-03-27T23:03:48.341Z"
   },
   {
    "duration": 133,
    "start_time": "2022-03-27T23:03:48.440Z"
   },
   {
    "duration": 0,
    "start_time": "2022-03-27T23:03:48.575Z"
   },
   {
    "duration": 0,
    "start_time": "2022-03-27T23:03:48.576Z"
   },
   {
    "duration": 0,
    "start_time": "2022-03-27T23:03:48.577Z"
   },
   {
    "duration": 0,
    "start_time": "2022-03-27T23:03:48.578Z"
   },
   {
    "duration": 0,
    "start_time": "2022-03-27T23:03:48.579Z"
   },
   {
    "duration": 2227,
    "start_time": "2022-03-27T23:07:18.304Z"
   },
   {
    "duration": 1500,
    "start_time": "2022-03-27T23:08:21.029Z"
   },
   {
    "duration": 46,
    "start_time": "2022-03-27T23:08:22.531Z"
   },
   {
    "duration": 12,
    "start_time": "2022-03-27T23:08:22.579Z"
   },
   {
    "duration": 19,
    "start_time": "2022-03-27T23:08:22.593Z"
   },
   {
    "duration": 12,
    "start_time": "2022-03-27T23:08:22.615Z"
   },
   {
    "duration": 64,
    "start_time": "2022-03-27T23:08:22.629Z"
   },
   {
    "duration": 27,
    "start_time": "2022-03-27T23:08:22.694Z"
   },
   {
    "duration": 19,
    "start_time": "2022-03-27T23:08:22.722Z"
   },
   {
    "duration": 15,
    "start_time": "2022-03-27T23:08:22.742Z"
   },
   {
    "duration": 23,
    "start_time": "2022-03-27T23:08:22.759Z"
   },
   {
    "duration": 13,
    "start_time": "2022-03-27T23:08:22.783Z"
   },
   {
    "duration": 21,
    "start_time": "2022-03-27T23:08:22.797Z"
   },
   {
    "duration": 6,
    "start_time": "2022-03-27T23:08:22.819Z"
   },
   {
    "duration": 8,
    "start_time": "2022-03-27T23:08:22.829Z"
   },
   {
    "duration": 34,
    "start_time": "2022-03-27T23:08:22.839Z"
   },
   {
    "duration": 9,
    "start_time": "2022-03-27T23:08:22.874Z"
   },
   {
    "duration": 15,
    "start_time": "2022-03-27T23:08:22.885Z"
   },
   {
    "duration": 8,
    "start_time": "2022-03-27T23:08:22.902Z"
   },
   {
    "duration": 21,
    "start_time": "2022-03-27T23:08:22.911Z"
   },
   {
    "duration": 17,
    "start_time": "2022-03-27T23:08:22.934Z"
   },
   {
    "duration": 44,
    "start_time": "2022-03-27T23:08:22.953Z"
   },
   {
    "duration": 12,
    "start_time": "2022-03-27T23:08:22.999Z"
   },
   {
    "duration": 376,
    "start_time": "2022-03-27T23:08:23.013Z"
   },
   {
    "duration": 14,
    "start_time": "2022-03-27T23:08:23.391Z"
   },
   {
    "duration": 18,
    "start_time": "2022-03-27T23:08:23.407Z"
   },
   {
    "duration": 20,
    "start_time": "2022-03-27T23:08:23.427Z"
   },
   {
    "duration": 24,
    "start_time": "2022-03-27T23:08:23.449Z"
   },
   {
    "duration": 13,
    "start_time": "2022-03-27T23:08:23.475Z"
   },
   {
    "duration": 20,
    "start_time": "2022-03-27T23:08:23.490Z"
   },
   {
    "duration": 23,
    "start_time": "2022-03-27T23:08:23.511Z"
   },
   {
    "duration": 34,
    "start_time": "2022-03-27T23:08:23.536Z"
   },
   {
    "duration": 39,
    "start_time": "2022-03-27T23:08:23.572Z"
   },
   {
    "duration": 746,
    "start_time": "2022-03-27T23:08:23.613Z"
   },
   {
    "duration": 496,
    "start_time": "2022-03-27T23:08:24.361Z"
   },
   {
    "duration": 431,
    "start_time": "2022-03-27T23:08:24.859Z"
   },
   {
    "duration": 370,
    "start_time": "2022-03-27T23:08:25.292Z"
   },
   {
    "duration": 11,
    "start_time": "2022-03-27T23:08:25.664Z"
   },
   {
    "duration": 11,
    "start_time": "2022-03-27T23:08:25.677Z"
   },
   {
    "duration": 24,
    "start_time": "2022-03-27T23:08:25.689Z"
   },
   {
    "duration": 32,
    "start_time": "2022-03-27T23:08:25.715Z"
   },
   {
    "duration": 19,
    "start_time": "2022-03-27T23:08:25.751Z"
   },
   {
    "duration": 641,
    "start_time": "2022-03-27T23:08:25.772Z"
   },
   {
    "duration": 353,
    "start_time": "2022-03-27T23:08:26.415Z"
   },
   {
    "duration": 3,
    "start_time": "2022-03-27T23:08:26.769Z"
   },
   {
    "duration": 28,
    "start_time": "2022-03-27T23:08:26.774Z"
   },
   {
    "duration": 14,
    "start_time": "2022-03-27T23:08:26.803Z"
   },
   {
    "duration": 37,
    "start_time": "2022-03-27T23:08:26.819Z"
   },
   {
    "duration": 5,
    "start_time": "2022-03-27T23:08:26.858Z"
   },
   {
    "duration": 9,
    "start_time": "2022-03-27T23:08:26.864Z"
   },
   {
    "duration": 5,
    "start_time": "2022-03-27T23:08:26.875Z"
   },
   {
    "duration": 8,
    "start_time": "2022-03-27T23:08:26.881Z"
   },
   {
    "duration": 413,
    "start_time": "2022-03-27T23:08:26.890Z"
   },
   {
    "duration": 3957,
    "start_time": "2022-03-27T23:08:27.305Z"
   },
   {
    "duration": 382,
    "start_time": "2022-03-27T23:08:31.263Z"
   },
   {
    "duration": 457,
    "start_time": "2022-03-27T23:08:31.647Z"
   },
   {
    "duration": 3904,
    "start_time": "2022-03-27T23:08:32.106Z"
   },
   {
    "duration": 228,
    "start_time": "2022-03-27T23:08:36.011Z"
   },
   {
    "duration": 97,
    "start_time": "2022-03-27T23:08:36.241Z"
   },
   {
    "duration": 541,
    "start_time": "2022-03-27T23:08:36.340Z"
   },
   {
    "duration": 10131,
    "start_time": "2022-03-27T23:08:36.883Z"
   },
   {
    "duration": 1322,
    "start_time": "2022-03-27T23:08:47.016Z"
   },
   {
    "duration": 92,
    "start_time": "2022-03-27T23:08:48.346Z"
   },
   {
    "duration": 2239,
    "start_time": "2022-03-27T23:08:48.440Z"
   },
   {
    "duration": 35551,
    "start_time": "2022-03-27T23:08:50.681Z"
   },
   {
    "duration": 6402,
    "start_time": "2022-03-27T23:09:26.237Z"
   },
   {
    "duration": 401,
    "start_time": "2022-03-27T23:09:32.642Z"
   },
   {
    "duration": 214,
    "start_time": "2022-03-27T23:09:33.045Z"
   },
   {
    "duration": 23,
    "start_time": "2022-03-27T23:09:33.261Z"
   },
   {
    "duration": 1433,
    "start_time": "2022-03-27T23:11:30.389Z"
   },
   {
    "duration": 42,
    "start_time": "2022-03-27T23:11:31.824Z"
   },
   {
    "duration": 14,
    "start_time": "2022-03-27T23:11:31.867Z"
   },
   {
    "duration": 5,
    "start_time": "2022-03-27T23:11:31.882Z"
   },
   {
    "duration": 8,
    "start_time": "2022-03-27T23:11:31.889Z"
   },
   {
    "duration": 9,
    "start_time": "2022-03-27T23:11:31.899Z"
   },
   {
    "duration": 23,
    "start_time": "2022-03-27T23:11:31.909Z"
   },
   {
    "duration": 15,
    "start_time": "2022-03-27T23:11:31.937Z"
   },
   {
    "duration": 15,
    "start_time": "2022-03-27T23:11:31.954Z"
   },
   {
    "duration": 25,
    "start_time": "2022-03-27T23:11:31.971Z"
   },
   {
    "duration": 14,
    "start_time": "2022-03-27T23:11:31.998Z"
   },
   {
    "duration": 9,
    "start_time": "2022-03-27T23:11:32.014Z"
   },
   {
    "duration": 14,
    "start_time": "2022-03-27T23:11:32.025Z"
   },
   {
    "duration": 10,
    "start_time": "2022-03-27T23:11:32.042Z"
   },
   {
    "duration": 7,
    "start_time": "2022-03-27T23:11:32.054Z"
   },
   {
    "duration": 7,
    "start_time": "2022-03-27T23:11:32.062Z"
   },
   {
    "duration": 9,
    "start_time": "2022-03-27T23:11:32.070Z"
   },
   {
    "duration": 6,
    "start_time": "2022-03-27T23:11:32.080Z"
   },
   {
    "duration": 6,
    "start_time": "2022-03-27T23:11:32.087Z"
   },
   {
    "duration": 8,
    "start_time": "2022-03-27T23:11:32.095Z"
   },
   {
    "duration": 49,
    "start_time": "2022-03-27T23:11:32.105Z"
   },
   {
    "duration": 6,
    "start_time": "2022-03-27T23:11:32.155Z"
   },
   {
    "duration": 435,
    "start_time": "2022-03-27T23:11:32.163Z"
   },
   {
    "duration": 15,
    "start_time": "2022-03-27T23:11:32.600Z"
   },
   {
    "duration": 21,
    "start_time": "2022-03-27T23:11:32.616Z"
   },
   {
    "duration": 5,
    "start_time": "2022-03-27T23:11:32.639Z"
   },
   {
    "duration": 12,
    "start_time": "2022-03-27T23:11:32.646Z"
   },
   {
    "duration": 7,
    "start_time": "2022-03-27T23:11:32.660Z"
   },
   {
    "duration": 10,
    "start_time": "2022-03-27T23:11:32.668Z"
   },
   {
    "duration": 7,
    "start_time": "2022-03-27T23:11:32.679Z"
   },
   {
    "duration": 15,
    "start_time": "2022-03-27T23:11:32.687Z"
   },
   {
    "duration": 34,
    "start_time": "2022-03-27T23:11:32.704Z"
   },
   {
    "duration": 739,
    "start_time": "2022-03-27T23:11:32.740Z"
   },
   {
    "duration": 487,
    "start_time": "2022-03-27T23:11:33.481Z"
   },
   {
    "duration": 406,
    "start_time": "2022-03-27T23:11:33.969Z"
   },
   {
    "duration": 350,
    "start_time": "2022-03-27T23:11:34.376Z"
   },
   {
    "duration": 17,
    "start_time": "2022-03-27T23:11:34.727Z"
   },
   {
    "duration": 11,
    "start_time": "2022-03-27T23:11:34.746Z"
   },
   {
    "duration": 10,
    "start_time": "2022-03-27T23:11:34.758Z"
   },
   {
    "duration": 14,
    "start_time": "2022-03-27T23:11:34.770Z"
   },
   {
    "duration": 56,
    "start_time": "2022-03-27T23:11:34.788Z"
   },
   {
    "duration": 654,
    "start_time": "2022-03-27T23:11:34.845Z"
   },
   {
    "duration": 369,
    "start_time": "2022-03-27T23:11:35.500Z"
   },
   {
    "duration": 2,
    "start_time": "2022-03-27T23:11:35.871Z"
   },
   {
    "duration": 22,
    "start_time": "2022-03-27T23:11:35.875Z"
   },
   {
    "duration": 13,
    "start_time": "2022-03-27T23:11:35.899Z"
   },
   {
    "duration": 31,
    "start_time": "2022-03-27T23:11:35.913Z"
   },
   {
    "duration": 5,
    "start_time": "2022-03-27T23:11:35.946Z"
   },
   {
    "duration": 18,
    "start_time": "2022-03-27T23:11:35.953Z"
   },
   {
    "duration": 13,
    "start_time": "2022-03-27T23:11:35.972Z"
   },
   {
    "duration": 19,
    "start_time": "2022-03-27T23:11:35.987Z"
   },
   {
    "duration": 380,
    "start_time": "2022-03-27T23:11:36.008Z"
   },
   {
    "duration": 3939,
    "start_time": "2022-03-27T23:11:36.390Z"
   },
   {
    "duration": 408,
    "start_time": "2022-03-27T23:11:40.337Z"
   },
   {
    "duration": 448,
    "start_time": "2022-03-27T23:11:40.747Z"
   },
   {
    "duration": 4065,
    "start_time": "2022-03-27T23:11:41.197Z"
   },
   {
    "duration": 574,
    "start_time": "2022-03-27T23:11:45.264Z"
   },
   {
    "duration": 92,
    "start_time": "2022-03-27T23:11:45.846Z"
   },
   {
    "duration": 563,
    "start_time": "2022-03-27T23:11:45.940Z"
   },
   {
    "duration": 9433,
    "start_time": "2022-03-27T23:11:46.505Z"
   },
   {
    "duration": 1700,
    "start_time": "2022-03-27T23:11:55.939Z"
   },
   {
    "duration": 96,
    "start_time": "2022-03-27T23:11:57.642Z"
   },
   {
    "duration": 2251,
    "start_time": "2022-03-27T23:11:57.740Z"
   },
   {
    "duration": 35433,
    "start_time": "2022-03-27T23:11:59.993Z"
   },
   {
    "duration": 6118,
    "start_time": "2022-03-27T23:12:35.428Z"
   },
   {
    "duration": 387,
    "start_time": "2022-03-27T23:12:41.645Z"
   },
   {
    "duration": 213,
    "start_time": "2022-03-27T23:12:42.033Z"
   },
   {
    "duration": 22,
    "start_time": "2022-03-27T23:12:42.248Z"
   },
   {
    "duration": 1776,
    "start_time": "2022-03-28T21:30:37.958Z"
   },
   {
    "duration": 62,
    "start_time": "2022-03-28T21:30:39.736Z"
   },
   {
    "duration": 14,
    "start_time": "2022-03-28T21:30:39.800Z"
   },
   {
    "duration": 3,
    "start_time": "2022-03-28T21:30:39.816Z"
   },
   {
    "duration": 8,
    "start_time": "2022-03-28T21:30:39.821Z"
   },
   {
    "duration": 6,
    "start_time": "2022-03-28T21:30:39.832Z"
   },
   {
    "duration": 18,
    "start_time": "2022-03-28T21:30:39.839Z"
   },
   {
    "duration": 14,
    "start_time": "2022-03-28T21:30:39.858Z"
   },
   {
    "duration": 7,
    "start_time": "2022-03-28T21:30:39.873Z"
   },
   {
    "duration": 15,
    "start_time": "2022-03-28T21:30:39.883Z"
   },
   {
    "duration": 38,
    "start_time": "2022-03-28T21:30:39.900Z"
   },
   {
    "duration": 7,
    "start_time": "2022-03-28T21:30:39.940Z"
   },
   {
    "duration": 12,
    "start_time": "2022-03-28T21:30:39.949Z"
   },
   {
    "duration": 22,
    "start_time": "2022-03-28T21:30:39.963Z"
   },
   {
    "duration": 8,
    "start_time": "2022-03-28T21:30:39.987Z"
   },
   {
    "duration": 6,
    "start_time": "2022-03-28T21:30:39.997Z"
   },
   {
    "duration": 27,
    "start_time": "2022-03-28T21:30:40.005Z"
   },
   {
    "duration": 5,
    "start_time": "2022-03-28T21:30:40.034Z"
   },
   {
    "duration": 8,
    "start_time": "2022-03-28T21:30:40.040Z"
   },
   {
    "duration": 10,
    "start_time": "2022-03-28T21:30:40.049Z"
   },
   {
    "duration": 23,
    "start_time": "2022-03-28T21:30:40.061Z"
   },
   {
    "duration": 7,
    "start_time": "2022-03-28T21:30:40.085Z"
   },
   {
    "duration": 495,
    "start_time": "2022-03-28T21:30:40.131Z"
   },
   {
    "duration": 16,
    "start_time": "2022-03-28T21:30:40.628Z"
   },
   {
    "duration": 8,
    "start_time": "2022-03-28T21:30:40.646Z"
   },
   {
    "duration": 10,
    "start_time": "2022-03-28T21:30:40.655Z"
   },
   {
    "duration": 12,
    "start_time": "2022-03-28T21:30:40.667Z"
   },
   {
    "duration": 4,
    "start_time": "2022-03-28T21:30:40.684Z"
   },
   {
    "duration": 10,
    "start_time": "2022-03-28T21:30:40.690Z"
   },
   {
    "duration": 7,
    "start_time": "2022-03-28T21:30:40.702Z"
   },
   {
    "duration": 33,
    "start_time": "2022-03-28T21:30:40.711Z"
   },
   {
    "duration": 13,
    "start_time": "2022-03-28T21:30:40.745Z"
   },
   {
    "duration": 862,
    "start_time": "2022-03-28T21:30:40.760Z"
   },
   {
    "duration": 584,
    "start_time": "2022-03-28T21:30:41.624Z"
   },
   {
    "duration": 473,
    "start_time": "2022-03-28T21:30:42.210Z"
   },
   {
    "duration": 423,
    "start_time": "2022-03-28T21:30:42.685Z"
   },
   {
    "duration": 12,
    "start_time": "2022-03-28T21:30:43.110Z"
   },
   {
    "duration": 15,
    "start_time": "2022-03-28T21:30:43.132Z"
   },
   {
    "duration": 18,
    "start_time": "2022-03-28T21:30:43.149Z"
   },
   {
    "duration": 34,
    "start_time": "2022-03-28T21:30:43.169Z"
   },
   {
    "duration": 24,
    "start_time": "2022-03-28T21:30:43.205Z"
   },
   {
    "duration": 757,
    "start_time": "2022-03-28T21:30:43.231Z"
   },
   {
    "duration": 411,
    "start_time": "2022-03-28T21:30:43.989Z"
   },
   {
    "duration": 4,
    "start_time": "2022-03-28T21:30:44.402Z"
   },
   {
    "duration": 26,
    "start_time": "2022-03-28T21:30:44.407Z"
   },
   {
    "duration": 14,
    "start_time": "2022-03-28T21:30:44.435Z"
   },
   {
    "duration": 25,
    "start_time": "2022-03-28T21:30:44.451Z"
   },
   {
    "duration": 5,
    "start_time": "2022-03-28T21:30:44.478Z"
   },
   {
    "duration": 12,
    "start_time": "2022-03-28T21:30:44.485Z"
   },
   {
    "duration": 35,
    "start_time": "2022-03-28T21:30:44.499Z"
   },
   {
    "duration": 11,
    "start_time": "2022-03-28T21:30:44.536Z"
   },
   {
    "duration": 422,
    "start_time": "2022-03-28T21:30:44.549Z"
   },
   {
    "duration": 4613,
    "start_time": "2022-03-28T21:30:44.973Z"
   },
   {
    "duration": 351,
    "start_time": "2022-03-28T21:30:49.588Z"
   },
   {
    "duration": 479,
    "start_time": "2022-03-28T21:30:49.942Z"
   },
   {
    "duration": 4603,
    "start_time": "2022-03-28T21:30:50.422Z"
   },
   {
    "duration": 304,
    "start_time": "2022-03-28T21:30:55.031Z"
   },
   {
    "duration": 96,
    "start_time": "2022-03-28T21:30:55.337Z"
   },
   {
    "duration": 635,
    "start_time": "2022-03-28T21:30:55.435Z"
   },
   {
    "duration": 10891,
    "start_time": "2022-03-28T21:30:56.072Z"
   },
   {
    "duration": 1367,
    "start_time": "2022-03-28T21:31:06.965Z"
   },
   {
    "duration": 6,
    "start_time": "2022-03-28T21:31:08.335Z"
   },
   {
    "duration": 2622,
    "start_time": "2022-03-28T21:31:08.345Z"
   },
   {
    "duration": 41677,
    "start_time": "2022-03-28T21:31:10.969Z"
   },
   {
    "duration": 7992,
    "start_time": "2022-03-28T21:31:52.648Z"
   },
   {
    "duration": 441,
    "start_time": "2022-03-28T21:32:00.642Z"
   },
   {
    "duration": 257,
    "start_time": "2022-03-28T21:32:01.084Z"
   },
   {
    "duration": 26,
    "start_time": "2022-03-28T21:32:01.343Z"
   },
   {
    "duration": 28,
    "start_time": "2022-03-28T23:36:20.277Z"
   },
   {
    "duration": 31,
    "start_time": "2022-03-28T23:36:30.562Z"
   },
   {
    "duration": 1549,
    "start_time": "2022-03-28T23:36:42.741Z"
   },
   {
    "duration": 47,
    "start_time": "2022-03-28T23:36:44.292Z"
   },
   {
    "duration": 14,
    "start_time": "2022-03-28T23:36:44.341Z"
   },
   {
    "duration": 3,
    "start_time": "2022-03-28T23:36:44.357Z"
   },
   {
    "duration": 11,
    "start_time": "2022-03-28T23:36:44.363Z"
   },
   {
    "duration": 12,
    "start_time": "2022-03-28T23:36:44.376Z"
   },
   {
    "duration": 18,
    "start_time": "2022-03-28T23:36:44.389Z"
   },
   {
    "duration": 29,
    "start_time": "2022-03-28T23:36:44.410Z"
   },
   {
    "duration": 10,
    "start_time": "2022-03-28T23:36:44.440Z"
   },
   {
    "duration": 17,
    "start_time": "2022-03-28T23:36:44.452Z"
   },
   {
    "duration": 14,
    "start_time": "2022-03-28T23:36:44.471Z"
   },
   {
    "duration": 8,
    "start_time": "2022-03-28T23:36:44.487Z"
   },
   {
    "duration": 6,
    "start_time": "2022-03-28T23:36:44.498Z"
   },
   {
    "duration": 8,
    "start_time": "2022-03-28T23:36:44.534Z"
   },
   {
    "duration": 7,
    "start_time": "2022-03-28T23:36:44.544Z"
   },
   {
    "duration": 7,
    "start_time": "2022-03-28T23:36:44.553Z"
   },
   {
    "duration": 5,
    "start_time": "2022-03-28T23:36:44.562Z"
   },
   {
    "duration": 5,
    "start_time": "2022-03-28T23:36:44.569Z"
   },
   {
    "duration": 7,
    "start_time": "2022-03-28T23:36:44.576Z"
   },
   {
    "duration": 48,
    "start_time": "2022-03-28T23:36:44.584Z"
   },
   {
    "duration": 20,
    "start_time": "2022-03-28T23:36:44.634Z"
   },
   {
    "duration": 6,
    "start_time": "2022-03-28T23:36:44.655Z"
   },
   {
    "duration": 440,
    "start_time": "2022-03-28T23:36:44.663Z"
   },
   {
    "duration": 15,
    "start_time": "2022-03-28T23:36:45.105Z"
   },
   {
    "duration": 14,
    "start_time": "2022-03-28T23:36:45.122Z"
   },
   {
    "duration": 9,
    "start_time": "2022-03-28T23:36:45.137Z"
   },
   {
    "duration": 17,
    "start_time": "2022-03-28T23:36:45.148Z"
   },
   {
    "duration": 5,
    "start_time": "2022-03-28T23:36:45.167Z"
   },
   {
    "duration": 8,
    "start_time": "2022-03-28T23:36:45.174Z"
   },
   {
    "duration": 13,
    "start_time": "2022-03-28T23:36:45.184Z"
   },
   {
    "duration": 23,
    "start_time": "2022-03-28T23:36:45.199Z"
   },
   {
    "duration": 19,
    "start_time": "2022-03-28T23:36:45.224Z"
   },
   {
    "duration": 823,
    "start_time": "2022-03-28T23:36:45.245Z"
   },
   {
    "duration": 568,
    "start_time": "2022-03-28T23:36:46.069Z"
   },
   {
    "duration": 461,
    "start_time": "2022-03-28T23:36:46.639Z"
   },
   {
    "duration": 411,
    "start_time": "2022-03-28T23:36:47.102Z"
   },
   {
    "duration": 18,
    "start_time": "2022-03-28T23:36:47.514Z"
   },
   {
    "duration": 11,
    "start_time": "2022-03-28T23:36:47.534Z"
   },
   {
    "duration": 11,
    "start_time": "2022-03-28T23:36:47.546Z"
   },
   {
    "duration": 15,
    "start_time": "2022-03-28T23:36:47.559Z"
   },
   {
    "duration": 23,
    "start_time": "2022-03-28T23:36:47.578Z"
   },
   {
    "duration": 753,
    "start_time": "2022-03-28T23:36:47.633Z"
   },
   {
    "duration": 566,
    "start_time": "2022-03-28T23:36:48.388Z"
   },
   {
    "duration": 3,
    "start_time": "2022-03-28T23:36:48.955Z"
   },
   {
    "duration": 72,
    "start_time": "2022-03-28T23:36:48.960Z"
   },
   {
    "duration": 13,
    "start_time": "2022-03-28T23:36:49.034Z"
   },
   {
    "duration": 26,
    "start_time": "2022-03-28T23:36:49.049Z"
   },
   {
    "duration": 5,
    "start_time": "2022-03-28T23:36:49.133Z"
   },
   {
    "duration": 12,
    "start_time": "2022-03-28T23:36:49.139Z"
   },
   {
    "duration": 5,
    "start_time": "2022-03-28T23:36:49.153Z"
   },
   {
    "duration": 8,
    "start_time": "2022-03-28T23:36:49.159Z"
   },
   {
    "duration": 866,
    "start_time": "2022-03-28T23:36:49.169Z"
   },
   {
    "duration": 4561,
    "start_time": "2022-03-28T23:36:50.037Z"
   },
   {
    "duration": 539,
    "start_time": "2022-03-28T23:36:54.600Z"
   },
   {
    "duration": 464,
    "start_time": "2022-03-28T23:36:55.141Z"
   },
   {
    "duration": 4627,
    "start_time": "2022-03-28T23:36:55.607Z"
   },
   {
    "duration": 497,
    "start_time": "2022-03-28T23:37:00.236Z"
   },
   {
    "duration": 97,
    "start_time": "2022-03-28T23:37:00.736Z"
   },
   {
    "duration": 647,
    "start_time": "2022-03-28T23:37:00.835Z"
   },
   {
    "duration": 10628,
    "start_time": "2022-03-28T23:37:01.485Z"
   },
   {
    "duration": 1324,
    "start_time": "2022-03-28T23:37:12.115Z"
   },
   {
    "duration": 92,
    "start_time": "2022-03-28T23:37:13.441Z"
   },
   {
    "duration": 2525,
    "start_time": "2022-03-28T23:37:13.535Z"
   },
   {
    "duration": 39418,
    "start_time": "2022-03-28T23:37:16.062Z"
   },
   {
    "duration": 6955,
    "start_time": "2022-03-28T23:37:55.482Z"
   },
   {
    "duration": 447,
    "start_time": "2022-03-28T23:38:02.440Z"
   },
   {
    "duration": 250,
    "start_time": "2022-03-28T23:38:02.889Z"
   },
   {
    "duration": 25,
    "start_time": "2022-03-28T23:38:03.140Z"
   },
   {
    "duration": 113,
    "start_time": "2022-03-28T23:41:21.896Z"
   },
   {
    "duration": 75,
    "start_time": "2022-03-28T23:41:31.158Z"
   },
   {
    "duration": 2621,
    "start_time": "2022-03-28T23:43:14.263Z"
   },
   {
    "duration": 69,
    "start_time": "2022-03-28T23:44:25.151Z"
   },
   {
    "duration": 33,
    "start_time": "2022-03-28T23:45:22.443Z"
   },
   {
    "duration": 69,
    "start_time": "2022-03-28T23:45:27.629Z"
   },
   {
    "duration": 167,
    "start_time": "2022-03-29T00:49:23.601Z"
   },
   {
    "duration": 2181,
    "start_time": "2022-03-29T06:04:46.458Z"
   },
   {
    "duration": 57,
    "start_time": "2022-03-29T06:04:48.642Z"
   },
   {
    "duration": 18,
    "start_time": "2022-03-29T06:04:48.701Z"
   },
   {
    "duration": 5,
    "start_time": "2022-03-29T06:04:48.722Z"
   },
   {
    "duration": 6,
    "start_time": "2022-03-29T06:04:48.730Z"
   },
   {
    "duration": 45,
    "start_time": "2022-03-29T06:04:48.738Z"
   },
   {
    "duration": 18,
    "start_time": "2022-03-29T06:04:48.785Z"
   },
   {
    "duration": 18,
    "start_time": "2022-03-29T06:04:48.805Z"
   },
   {
    "duration": 5,
    "start_time": "2022-03-29T06:04:48.826Z"
   },
   {
    "duration": 60,
    "start_time": "2022-03-29T06:04:48.833Z"
   },
   {
    "duration": 18,
    "start_time": "2022-03-29T06:04:48.896Z"
   },
   {
    "duration": 13,
    "start_time": "2022-03-29T06:04:48.916Z"
   },
   {
    "duration": 53,
    "start_time": "2022-03-29T06:04:48.932Z"
   },
   {
    "duration": 12,
    "start_time": "2022-03-29T06:04:48.990Z"
   },
   {
    "duration": 10,
    "start_time": "2022-03-29T06:04:49.005Z"
   },
   {
    "duration": 6,
    "start_time": "2022-03-29T06:04:49.018Z"
   },
   {
    "duration": 59,
    "start_time": "2022-03-29T06:04:49.026Z"
   },
   {
    "duration": 8,
    "start_time": "2022-03-29T06:04:49.088Z"
   },
   {
    "duration": 8,
    "start_time": "2022-03-29T06:04:49.099Z"
   },
   {
    "duration": 9,
    "start_time": "2022-03-29T06:04:49.109Z"
   },
   {
    "duration": 28,
    "start_time": "2022-03-29T06:04:49.120Z"
   },
   {
    "duration": 36,
    "start_time": "2022-03-29T06:04:49.150Z"
   },
   {
    "duration": 657,
    "start_time": "2022-03-29T06:04:49.189Z"
   },
   {
    "duration": 33,
    "start_time": "2022-03-29T06:04:49.849Z"
   },
   {
    "duration": 6,
    "start_time": "2022-03-29T06:04:49.885Z"
   },
   {
    "duration": 6,
    "start_time": "2022-03-29T06:04:49.894Z"
   },
   {
    "duration": 15,
    "start_time": "2022-03-29T06:04:49.903Z"
   },
   {
    "duration": 5,
    "start_time": "2022-03-29T06:04:49.922Z"
   },
   {
    "duration": 10,
    "start_time": "2022-03-29T06:04:49.930Z"
   },
   {
    "duration": 7,
    "start_time": "2022-03-29T06:04:49.982Z"
   },
   {
    "duration": 19,
    "start_time": "2022-03-29T06:04:49.992Z"
   },
   {
    "duration": 17,
    "start_time": "2022-03-29T06:04:50.014Z"
   },
   {
    "duration": 1489,
    "start_time": "2022-03-29T06:04:50.034Z"
   },
   {
    "duration": 823,
    "start_time": "2022-03-29T06:04:51.526Z"
   },
   {
    "duration": 671,
    "start_time": "2022-03-29T06:04:52.352Z"
   },
   {
    "duration": 589,
    "start_time": "2022-03-29T06:04:53.025Z"
   },
   {
    "duration": 15,
    "start_time": "2022-03-29T06:04:53.617Z"
   },
   {
    "duration": 38,
    "start_time": "2022-03-29T06:04:53.634Z"
   },
   {
    "duration": 17,
    "start_time": "2022-03-29T06:04:53.682Z"
   },
   {
    "duration": 25,
    "start_time": "2022-03-29T06:04:53.701Z"
   },
   {
    "duration": 60,
    "start_time": "2022-03-29T06:04:53.732Z"
   },
   {
    "duration": 1475,
    "start_time": "2022-03-29T06:04:53.796Z"
   },
   {
    "duration": 555,
    "start_time": "2022-03-29T06:04:55.274Z"
   },
   {
    "duration": 4,
    "start_time": "2022-03-29T06:04:55.831Z"
   },
   {
    "duration": 22,
    "start_time": "2022-03-29T06:04:55.837Z"
   },
   {
    "duration": 34,
    "start_time": "2022-03-29T06:04:55.861Z"
   },
   {
    "duration": 33,
    "start_time": "2022-03-29T06:04:55.898Z"
   },
   {
    "duration": 6,
    "start_time": "2022-03-29T06:04:55.934Z"
   },
   {
    "duration": 44,
    "start_time": "2022-03-29T06:04:55.943Z"
   },
   {
    "duration": 8,
    "start_time": "2022-03-29T06:04:55.989Z"
   },
   {
    "duration": 10,
    "start_time": "2022-03-29T06:04:55.999Z"
   },
   {
    "duration": 475,
    "start_time": "2022-03-29T06:04:56.011Z"
   },
   {
    "duration": 5795,
    "start_time": "2022-03-29T06:04:56.489Z"
   },
   {
    "duration": 498,
    "start_time": "2022-03-29T06:05:02.286Z"
   },
   {
    "duration": 458,
    "start_time": "2022-03-29T06:05:02.788Z"
   },
   {
    "duration": 5741,
    "start_time": "2022-03-29T06:05:03.248Z"
   },
   {
    "duration": 401,
    "start_time": "2022-03-29T06:05:08.991Z"
   },
   {
    "duration": 92,
    "start_time": "2022-03-29T06:05:09.394Z"
   },
   {
    "duration": 836,
    "start_time": "2022-03-29T06:05:09.488Z"
   },
   {
    "duration": 14268,
    "start_time": "2022-03-29T06:05:10.326Z"
   },
   {
    "duration": 3290,
    "start_time": "2022-03-29T06:05:24.598Z"
   },
   {
    "duration": 96,
    "start_time": "2022-03-29T06:05:27.892Z"
   },
   {
    "duration": 3282,
    "start_time": "2022-03-29T06:05:27.990Z"
   },
   {
    "duration": 57259,
    "start_time": "2022-03-29T06:05:31.274Z"
   },
   {
    "duration": 560,
    "start_time": "2022-03-29T06:06:38.195Z"
   },
   {
    "duration": 314,
    "start_time": "2022-03-29T06:06:38.758Z"
   },
   {
    "duration": 39,
    "start_time": "2022-03-29T06:06:39.075Z"
   },
   {
    "duration": 9,
    "start_time": "2022-03-29T06:06:39.118Z"
   },
   {
    "duration": 6156,
    "start_time": "2022-03-29T06:06:39.133Z"
   },
   {
    "duration": 13,
    "start_time": "2022-03-29T06:06:54.154Z"
   },
   {
    "duration": 6,
    "start_time": "2022-03-29T06:07:08.662Z"
   },
   {
    "duration": 5,
    "start_time": "2022-03-29T06:07:20.138Z"
   },
   {
    "duration": 10,
    "start_time": "2022-03-29T06:07:59.225Z"
   },
   {
    "duration": 8,
    "start_time": "2022-03-29T06:08:57.503Z"
   },
   {
    "duration": 181,
    "start_time": "2022-03-29T06:11:20.579Z"
   },
   {
    "duration": 30,
    "start_time": "2022-03-29T06:13:20.897Z"
   },
   {
    "duration": 1995,
    "start_time": "2022-03-29T06:13:29.277Z"
   },
   {
    "duration": 51,
    "start_time": "2022-03-29T06:13:31.275Z"
   },
   {
    "duration": 17,
    "start_time": "2022-03-29T06:13:31.329Z"
   },
   {
    "duration": 23,
    "start_time": "2022-03-29T06:13:31.349Z"
   },
   {
    "duration": 34,
    "start_time": "2022-03-29T06:13:31.384Z"
   },
   {
    "duration": 38,
    "start_time": "2022-03-29T06:13:31.420Z"
   },
   {
    "duration": 25,
    "start_time": "2022-03-29T06:13:31.460Z"
   },
   {
    "duration": 32,
    "start_time": "2022-03-29T06:13:31.487Z"
   },
   {
    "duration": 14,
    "start_time": "2022-03-29T06:13:31.522Z"
   },
   {
    "duration": 20,
    "start_time": "2022-03-29T06:13:31.539Z"
   },
   {
    "duration": 24,
    "start_time": "2022-03-29T06:13:31.561Z"
   },
   {
    "duration": 10,
    "start_time": "2022-03-29T06:13:31.587Z"
   },
   {
    "duration": 12,
    "start_time": "2022-03-29T06:13:31.599Z"
   },
   {
    "duration": 10,
    "start_time": "2022-03-29T06:13:31.615Z"
   },
   {
    "duration": 8,
    "start_time": "2022-03-29T06:13:31.627Z"
   },
   {
    "duration": 47,
    "start_time": "2022-03-29T06:13:31.638Z"
   },
   {
    "duration": 12,
    "start_time": "2022-03-29T06:13:31.688Z"
   },
   {
    "duration": 8,
    "start_time": "2022-03-29T06:13:31.703Z"
   },
   {
    "duration": 14,
    "start_time": "2022-03-29T06:13:31.714Z"
   },
   {
    "duration": 23,
    "start_time": "2022-03-29T06:13:31.730Z"
   },
   {
    "duration": 56,
    "start_time": "2022-03-29T06:13:31.756Z"
   },
   {
    "duration": 8,
    "start_time": "2022-03-29T06:13:31.815Z"
   },
   {
    "duration": 608,
    "start_time": "2022-03-29T06:13:31.825Z"
   },
   {
    "duration": 26,
    "start_time": "2022-03-29T06:13:32.437Z"
   },
   {
    "duration": 8,
    "start_time": "2022-03-29T06:13:32.483Z"
   },
   {
    "duration": 10,
    "start_time": "2022-03-29T06:13:32.494Z"
   },
   {
    "duration": 13,
    "start_time": "2022-03-29T06:13:32.506Z"
   },
   {
    "duration": 10,
    "start_time": "2022-03-29T06:13:32.521Z"
   },
   {
    "duration": 12,
    "start_time": "2022-03-29T06:13:32.533Z"
   },
   {
    "duration": 39,
    "start_time": "2022-03-29T06:13:32.547Z"
   },
   {
    "duration": 24,
    "start_time": "2022-03-29T06:13:32.589Z"
   },
   {
    "duration": 16,
    "start_time": "2022-03-29T06:13:32.615Z"
   },
   {
    "duration": 1416,
    "start_time": "2022-03-29T06:13:32.634Z"
   },
   {
    "duration": 908,
    "start_time": "2022-03-29T06:13:34.052Z"
   },
   {
    "duration": 1071,
    "start_time": "2022-03-29T06:13:34.963Z"
   },
   {
    "duration": 931,
    "start_time": "2022-03-29T06:13:36.037Z"
   },
   {
    "duration": 32,
    "start_time": "2022-03-29T06:13:36.971Z"
   },
   {
    "duration": 16,
    "start_time": "2022-03-29T06:13:37.005Z"
   },
   {
    "duration": 15,
    "start_time": "2022-03-29T06:13:37.023Z"
   },
   {
    "duration": 52,
    "start_time": "2022-03-29T06:13:37.041Z"
   },
   {
    "duration": 32,
    "start_time": "2022-03-29T06:13:37.100Z"
   },
   {
    "duration": 982,
    "start_time": "2022-03-29T06:13:37.134Z"
   },
   {
    "duration": 530,
    "start_time": "2022-03-29T06:13:38.118Z"
   },
   {
    "duration": 4,
    "start_time": "2022-03-29T06:13:38.650Z"
   },
   {
    "duration": 49,
    "start_time": "2022-03-29T06:13:38.658Z"
   },
   {
    "duration": 17,
    "start_time": "2022-03-29T06:13:38.710Z"
   },
   {
    "duration": 47,
    "start_time": "2022-03-29T06:13:38.729Z"
   },
   {
    "duration": 7,
    "start_time": "2022-03-29T06:13:38.782Z"
   },
   {
    "duration": 29,
    "start_time": "2022-03-29T06:13:38.791Z"
   },
   {
    "duration": 19,
    "start_time": "2022-03-29T06:13:38.822Z"
   },
   {
    "duration": 26,
    "start_time": "2022-03-29T06:13:38.844Z"
   },
   {
    "duration": 504,
    "start_time": "2022-03-29T06:13:38.873Z"
   },
   {
    "duration": 5906,
    "start_time": "2022-03-29T06:13:39.379Z"
   },
   {
    "duration": 207,
    "start_time": "2022-03-29T06:13:45.288Z"
   },
   {
    "duration": 484,
    "start_time": "2022-03-29T06:13:45.582Z"
   },
   {
    "duration": 5960,
    "start_time": "2022-03-29T06:13:46.069Z"
   },
   {
    "duration": 251,
    "start_time": "2022-03-29T06:13:52.032Z"
   },
   {
    "duration": 8,
    "start_time": "2022-03-29T06:13:52.286Z"
   },
   {
    "duration": 898,
    "start_time": "2022-03-29T06:13:52.297Z"
   },
   {
    "duration": 14445,
    "start_time": "2022-03-29T06:13:53.198Z"
   },
   {
    "duration": 1246,
    "start_time": "2022-03-29T06:14:07.645Z"
   },
   {
    "duration": 9,
    "start_time": "2022-03-29T06:14:08.983Z"
   },
   {
    "duration": 3371,
    "start_time": "2022-03-29T06:14:08.994Z"
   },
   {
    "duration": 52965,
    "start_time": "2022-03-29T06:14:12.367Z"
   },
   {
    "duration": 8249,
    "start_time": "2022-03-29T06:15:05.335Z"
   },
   {
    "duration": 510,
    "start_time": "2022-03-29T06:15:13.586Z"
   },
   {
    "duration": 300,
    "start_time": "2022-03-29T06:15:14.098Z"
   },
   {
    "duration": 32,
    "start_time": "2022-03-29T06:15:14.401Z"
   },
   {
    "duration": 11,
    "start_time": "2022-03-29T06:15:14.435Z"
   },
   {
    "duration": 42,
    "start_time": "2022-03-29T06:15:14.448Z"
   },
   {
    "duration": 200,
    "start_time": "2022-03-29T06:15:14.492Z"
   },
   {
    "duration": 8,
    "start_time": "2022-03-29T06:19:13.345Z"
   },
   {
    "duration": 7,
    "start_time": "2022-03-29T06:19:29.141Z"
   },
   {
    "duration": 46,
    "start_time": "2022-03-29T06:19:51.743Z"
   },
   {
    "duration": 11,
    "start_time": "2022-03-29T06:26:15.248Z"
   },
   {
    "duration": 29,
    "start_time": "2022-03-29T06:26:21.878Z"
   },
   {
    "duration": 14,
    "start_time": "2022-03-29T06:26:47.948Z"
   },
   {
    "duration": 6,
    "start_time": "2022-03-29T06:27:00.038Z"
   },
   {
    "duration": 8,
    "start_time": "2022-03-29T06:27:02.561Z"
   },
   {
    "duration": 883,
    "start_time": "2022-03-29T06:27:15.029Z"
   },
   {
    "duration": 1663,
    "start_time": "2022-03-29T13:45:56.375Z"
   },
   {
    "duration": 41,
    "start_time": "2022-03-29T13:45:58.040Z"
   },
   {
    "duration": 14,
    "start_time": "2022-03-29T13:45:58.083Z"
   },
   {
    "duration": 7,
    "start_time": "2022-03-29T13:45:58.099Z"
   },
   {
    "duration": 7,
    "start_time": "2022-03-29T13:45:58.108Z"
   },
   {
    "duration": 7,
    "start_time": "2022-03-29T13:45:58.117Z"
   },
   {
    "duration": 23,
    "start_time": "2022-03-29T13:45:58.126Z"
   },
   {
    "duration": 15,
    "start_time": "2022-03-29T13:45:58.151Z"
   },
   {
    "duration": 7,
    "start_time": "2022-03-29T13:45:58.168Z"
   },
   {
    "duration": 16,
    "start_time": "2022-03-29T13:45:58.176Z"
   },
   {
    "duration": 11,
    "start_time": "2022-03-29T13:45:58.193Z"
   },
   {
    "duration": 7,
    "start_time": "2022-03-29T13:45:58.206Z"
   },
   {
    "duration": 6,
    "start_time": "2022-03-29T13:45:58.238Z"
   },
   {
    "duration": 8,
    "start_time": "2022-03-29T13:45:58.247Z"
   },
   {
    "duration": 7,
    "start_time": "2022-03-29T13:45:58.256Z"
   },
   {
    "duration": 4,
    "start_time": "2022-03-29T13:45:58.265Z"
   },
   {
    "duration": 7,
    "start_time": "2022-03-29T13:45:58.270Z"
   },
   {
    "duration": 5,
    "start_time": "2022-03-29T13:45:58.279Z"
   },
   {
    "duration": 7,
    "start_time": "2022-03-29T13:45:58.286Z"
   },
   {
    "duration": 47,
    "start_time": "2022-03-29T13:45:58.295Z"
   },
   {
    "duration": 22,
    "start_time": "2022-03-29T13:45:58.344Z"
   },
   {
    "duration": 6,
    "start_time": "2022-03-29T13:45:58.367Z"
   },
   {
    "duration": 445,
    "start_time": "2022-03-29T13:45:58.375Z"
   },
   {
    "duration": 17,
    "start_time": "2022-03-29T13:45:58.822Z"
   },
   {
    "duration": 6,
    "start_time": "2022-03-29T13:45:58.841Z"
   },
   {
    "duration": 5,
    "start_time": "2022-03-29T13:45:58.849Z"
   },
   {
    "duration": 11,
    "start_time": "2022-03-29T13:45:58.855Z"
   },
   {
    "duration": 5,
    "start_time": "2022-03-29T13:45:58.867Z"
   },
   {
    "duration": 6,
    "start_time": "2022-03-29T13:45:58.874Z"
   },
   {
    "duration": 6,
    "start_time": "2022-03-29T13:45:58.881Z"
   },
   {
    "duration": 14,
    "start_time": "2022-03-29T13:45:58.888Z"
   },
   {
    "duration": 40,
    "start_time": "2022-03-29T13:45:58.903Z"
   },
   {
    "duration": 763,
    "start_time": "2022-03-29T13:45:58.944Z"
   },
   {
    "duration": 517,
    "start_time": "2022-03-29T13:45:59.709Z"
   },
   {
    "duration": 429,
    "start_time": "2022-03-29T13:46:00.228Z"
   },
   {
    "duration": 393,
    "start_time": "2022-03-29T13:46:00.659Z"
   },
   {
    "duration": 12,
    "start_time": "2022-03-29T13:46:01.054Z"
   },
   {
    "duration": 12,
    "start_time": "2022-03-29T13:46:01.068Z"
   },
   {
    "duration": 12,
    "start_time": "2022-03-29T13:46:01.082Z"
   },
   {
    "duration": 46,
    "start_time": "2022-03-29T13:46:01.096Z"
   },
   {
    "duration": 23,
    "start_time": "2022-03-29T13:46:01.147Z"
   },
   {
    "duration": 706,
    "start_time": "2022-03-29T13:46:01.171Z"
   },
   {
    "duration": 397,
    "start_time": "2022-03-29T13:46:01.879Z"
   },
   {
    "duration": 3,
    "start_time": "2022-03-29T13:46:02.278Z"
   },
   {
    "duration": 21,
    "start_time": "2022-03-29T13:46:02.282Z"
   },
   {
    "duration": 13,
    "start_time": "2022-03-29T13:46:02.305Z"
   },
   {
    "duration": 40,
    "start_time": "2022-03-29T13:46:02.320Z"
   },
   {
    "duration": 5,
    "start_time": "2022-03-29T13:46:02.362Z"
   },
   {
    "duration": 14,
    "start_time": "2022-03-29T13:46:02.369Z"
   },
   {
    "duration": 9,
    "start_time": "2022-03-29T13:46:02.385Z"
   },
   {
    "duration": 5,
    "start_time": "2022-03-29T13:46:02.396Z"
   },
   {
    "duration": 407,
    "start_time": "2022-03-29T13:46:02.405Z"
   },
   {
    "duration": 4205,
    "start_time": "2022-03-29T13:46:02.814Z"
   },
   {
    "duration": 525,
    "start_time": "2022-03-29T13:46:07.020Z"
   },
   {
    "duration": 462,
    "start_time": "2022-03-29T13:46:07.547Z"
   },
   {
    "duration": 4214,
    "start_time": "2022-03-29T13:46:08.011Z"
   },
   {
    "duration": 318,
    "start_time": "2022-03-29T13:46:12.226Z"
   },
   {
    "duration": 96,
    "start_time": "2022-03-29T13:46:12.546Z"
   },
   {
    "duration": 656,
    "start_time": "2022-03-29T13:46:12.645Z"
   },
   {
    "duration": 10160,
    "start_time": "2022-03-29T13:46:13.302Z"
   },
   {
    "duration": 1180,
    "start_time": "2022-03-29T13:46:23.464Z"
   },
   {
    "duration": 5,
    "start_time": "2022-03-29T13:46:24.737Z"
   },
   {
    "duration": 2421,
    "start_time": "2022-03-29T13:46:24.744Z"
   },
   {
    "duration": 37737,
    "start_time": "2022-03-29T13:46:27.167Z"
   },
   {
    "duration": 6236,
    "start_time": "2022-03-29T13:47:04.906Z"
   },
   {
    "duration": 406,
    "start_time": "2022-03-29T13:47:11.144Z"
   },
   {
    "duration": 220,
    "start_time": "2022-03-29T13:47:11.553Z"
   },
   {
    "duration": 23,
    "start_time": "2022-03-29T13:47:11.775Z"
   },
   {
    "duration": 6,
    "start_time": "2022-03-29T13:47:11.800Z"
   },
   {
    "duration": 30,
    "start_time": "2022-03-29T13:47:11.808Z"
   },
   {
    "duration": 5,
    "start_time": "2022-03-29T13:47:11.840Z"
   },
   {
    "duration": 10,
    "start_time": "2022-03-29T13:47:11.847Z"
   },
   {
    "duration": 26,
    "start_time": "2022-03-29T13:47:11.858Z"
   },
   {
    "duration": 453,
    "start_time": "2022-03-29T13:47:11.885Z"
   },
   {
    "duration": 281,
    "start_time": "2022-03-29T13:48:04.930Z"
   },
   {
    "duration": 25,
    "start_time": "2022-03-29T13:48:37.634Z"
   },
   {
    "duration": 25,
    "start_time": "2022-03-29T13:48:50.370Z"
   },
   {
    "duration": 34,
    "start_time": "2022-03-29T13:59:04.473Z"
   },
   {
    "duration": 2179,
    "start_time": "2022-03-29T14:41:55.654Z"
   },
   {
    "duration": 55,
    "start_time": "2022-03-29T14:41:57.836Z"
   },
   {
    "duration": 18,
    "start_time": "2022-03-29T14:41:57.893Z"
   },
   {
    "duration": 9,
    "start_time": "2022-03-29T14:41:57.913Z"
   },
   {
    "duration": 9,
    "start_time": "2022-03-29T14:41:57.925Z"
   },
   {
    "duration": 8,
    "start_time": "2022-03-29T14:41:57.936Z"
   },
   {
    "duration": 57,
    "start_time": "2022-03-29T14:41:57.946Z"
   },
   {
    "duration": 24,
    "start_time": "2022-03-29T14:41:58.005Z"
   },
   {
    "duration": 7,
    "start_time": "2022-03-29T14:41:58.031Z"
   },
   {
    "duration": 22,
    "start_time": "2022-03-29T14:41:58.041Z"
   },
   {
    "duration": 15,
    "start_time": "2022-03-29T14:41:58.083Z"
   },
   {
    "duration": 11,
    "start_time": "2022-03-29T14:41:58.102Z"
   },
   {
    "duration": 10,
    "start_time": "2022-03-29T14:41:58.116Z"
   },
   {
    "duration": 8,
    "start_time": "2022-03-29T14:41:58.131Z"
   },
   {
    "duration": 49,
    "start_time": "2022-03-29T14:41:58.141Z"
   },
   {
    "duration": 7,
    "start_time": "2022-03-29T14:41:58.193Z"
   },
   {
    "duration": 10,
    "start_time": "2022-03-29T14:41:58.202Z"
   },
   {
    "duration": 12,
    "start_time": "2022-03-29T14:41:58.215Z"
   },
   {
    "duration": 12,
    "start_time": "2022-03-29T14:41:58.230Z"
   },
   {
    "duration": 48,
    "start_time": "2022-03-29T14:41:58.244Z"
   },
   {
    "duration": 27,
    "start_time": "2022-03-29T14:41:58.294Z"
   },
   {
    "duration": 8,
    "start_time": "2022-03-29T14:41:58.323Z"
   },
   {
    "duration": 661,
    "start_time": "2022-03-29T14:41:58.333Z"
   },
   {
    "duration": 23,
    "start_time": "2022-03-29T14:41:58.996Z"
   },
   {
    "duration": 6,
    "start_time": "2022-03-29T14:41:59.021Z"
   },
   {
    "duration": 5,
    "start_time": "2022-03-29T14:41:59.030Z"
   },
   {
    "duration": 13,
    "start_time": "2022-03-29T14:41:59.037Z"
   },
   {
    "duration": 33,
    "start_time": "2022-03-29T14:41:59.052Z"
   },
   {
    "duration": 9,
    "start_time": "2022-03-29T14:41:59.087Z"
   },
   {
    "duration": 7,
    "start_time": "2022-03-29T14:41:59.098Z"
   },
   {
    "duration": 21,
    "start_time": "2022-03-29T14:41:59.107Z"
   },
   {
    "duration": 51,
    "start_time": "2022-03-29T14:41:59.131Z"
   },
   {
    "duration": 1098,
    "start_time": "2022-03-29T14:41:59.185Z"
   },
   {
    "duration": 779,
    "start_time": "2022-03-29T14:42:00.286Z"
   },
   {
    "duration": 661,
    "start_time": "2022-03-29T14:42:01.067Z"
   },
   {
    "duration": 606,
    "start_time": "2022-03-29T14:42:01.730Z"
   },
   {
    "duration": 16,
    "start_time": "2022-03-29T14:42:02.339Z"
   },
   {
    "duration": 31,
    "start_time": "2022-03-29T14:42:02.358Z"
   },
   {
    "duration": 26,
    "start_time": "2022-03-29T14:42:02.391Z"
   },
   {
    "duration": 72,
    "start_time": "2022-03-29T14:42:02.419Z"
   },
   {
    "duration": 31,
    "start_time": "2022-03-29T14:42:02.498Z"
   },
   {
    "duration": 973,
    "start_time": "2022-03-29T14:42:02.531Z"
   },
   {
    "duration": 550,
    "start_time": "2022-03-29T14:42:03.506Z"
   },
   {
    "duration": 4,
    "start_time": "2022-03-29T14:42:04.058Z"
   },
   {
    "duration": 33,
    "start_time": "2022-03-29T14:42:04.064Z"
   },
   {
    "duration": 18,
    "start_time": "2022-03-29T14:42:04.099Z"
   },
   {
    "duration": 62,
    "start_time": "2022-03-29T14:42:04.120Z"
   },
   {
    "duration": 9,
    "start_time": "2022-03-29T14:42:04.184Z"
   },
   {
    "duration": 20,
    "start_time": "2022-03-29T14:42:04.195Z"
   },
   {
    "duration": 20,
    "start_time": "2022-03-29T14:42:04.217Z"
   },
   {
    "duration": 14,
    "start_time": "2022-03-29T14:42:04.240Z"
   },
   {
    "duration": 465,
    "start_time": "2022-03-29T14:42:04.256Z"
   },
   {
    "duration": 5809,
    "start_time": "2022-03-29T14:42:04.724Z"
   },
   {
    "duration": 646,
    "start_time": "2022-03-29T14:42:10.536Z"
   },
   {
    "duration": 473,
    "start_time": "2022-03-29T14:42:11.187Z"
   },
   {
    "duration": 5738,
    "start_time": "2022-03-29T14:42:11.663Z"
   },
   {
    "duration": 478,
    "start_time": "2022-03-29T14:42:17.404Z"
   },
   {
    "duration": 98,
    "start_time": "2022-03-29T14:42:17.886Z"
   },
   {
    "duration": 799,
    "start_time": "2022-03-29T14:42:17.987Z"
   },
   {
    "duration": 13807,
    "start_time": "2022-03-29T14:42:18.788Z"
   },
   {
    "duration": 985,
    "start_time": "2022-03-29T14:42:32.598Z"
   },
   {
    "duration": 96,
    "start_time": "2022-03-29T14:42:33.587Z"
   },
   {
    "duration": 3191,
    "start_time": "2022-03-29T14:42:33.685Z"
   },
   {
    "duration": 50122,
    "start_time": "2022-03-29T14:42:36.883Z"
   },
   {
    "duration": 7377,
    "start_time": "2022-03-29T14:43:27.007Z"
   },
   {
    "duration": 529,
    "start_time": "2022-03-29T14:43:34.390Z"
   },
   {
    "duration": 292,
    "start_time": "2022-03-29T14:43:34.921Z"
   },
   {
    "duration": 38,
    "start_time": "2022-03-29T14:43:35.215Z"
   },
   {
    "duration": 27,
    "start_time": "2022-03-29T14:43:35.255Z"
   },
   {
    "duration": 5,
    "start_time": "2022-03-29T14:43:35.284Z"
   },
   {
    "duration": 9,
    "start_time": "2022-03-29T14:43:35.292Z"
   },
   {
    "duration": 8,
    "start_time": "2022-03-29T14:43:35.303Z"
   },
   {
    "duration": 29,
    "start_time": "2022-03-29T14:43:35.313Z"
   },
   {
    "duration": 632,
    "start_time": "2022-03-29T14:43:35.345Z"
   },
   {
    "duration": 365,
    "start_time": "2022-03-29T14:43:35.982Z"
   },
   {
    "duration": 40,
    "start_time": "2022-03-29T14:43:36.349Z"
   }
  ],
  "kernelspec": {
   "display_name": "Python 3 (ipykernel)",
   "language": "python",
   "name": "python3"
  },
  "language_info": {
   "codemirror_mode": {
    "name": "ipython",
    "version": 3
   },
   "file_extension": ".py",
   "mimetype": "text/x-python",
   "name": "python",
   "nbconvert_exporter": "python",
   "pygments_lexer": "ipython3",
   "version": "3.10.9"
  },
  "toc": {
   "base_numbering": 1,
   "nav_menu": {},
   "number_sections": true,
   "sideBar": true,
   "skip_h1_title": true,
   "title_cell": "Содержание",
   "title_sidebar": "Contents",
   "toc_cell": true,
   "toc_position": {
    "height": "calc(100% - 180px)",
    "left": "10px",
    "top": "150px",
    "width": "287.195px"
   },
   "toc_section_display": true,
   "toc_window_display": true
  }
 },
 "nbformat": 4,
 "nbformat_minor": 2
}
